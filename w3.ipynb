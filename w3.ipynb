{
 "cells": [
  {
   "cell_type": "code",
   "execution_count": 32,
   "metadata": {},
   "outputs": [
    {
     "name": "stdout",
     "output_type": "stream",
     "text": [
      "1\n",
      "1,2\n",
      "1,2,3\n",
      "1,2,3,4\n",
      "1,2,3,4,5\n",
      "1,2,3,4,5,6\n",
      "1,2,3,4,5,6,7\n"
     ]
    }
   ],
   "source": [
    "n = 7\n",
    "\n",
    "numbers = list(range(1, n+1))\n",
    "for i in range(1, n+1):\n",
    "  slice = numbers[:i]\n",
    "  slice = list(map(str, slice))\n",
    "  print(','.join(slice))"
   ]
  },
  {
   "cell_type": "code",
   "execution_count": 38,
   "metadata": {},
   "outputs": [
    {
     "name": "stdout",
     "output_type": "stream",
     "text": [
      "1,2,3,4\n",
      "1,2,3\n",
      "1,2\n",
      "1\n"
     ]
    }
   ],
   "source": [
    "n = 5\n",
    "\n",
    "numbers = list(range(1, n+1))\n",
    "for i in range(1, n):\n",
    "  slice = numbers[:-i]\n",
    "  slice = list(map(str, slice))\n",
    "  print(','.join(slice))"
   ]
  },
  {
   "cell_type": "code",
   "execution_count": 42,
   "metadata": {},
   "outputs": [
    {
     "name": "stdout",
     "output_type": "stream",
     "text": [
      "1\n",
      "1,2\n",
      "1,2,3\n",
      "1,2,3,4\n",
      "1,2,3,4,5\n",
      "1,2,3,4\n",
      "1,2,3\n",
      "1,2\n",
      "1\n"
     ]
    }
   ],
   "source": [
    "n = 5\n",
    "\n",
    "numbers = list(range(1, n+1))\n",
    "\n",
    "for i in range(1, n+1):\n",
    "  slice = numbers[:i]\n",
    "  slice = list(map(str, slice))\n",
    "  print(','.join(slice))\n",
    "\n",
    "for i in range(1, n):\n",
    "  slice = numbers[:-i]\n",
    "  slice = list(map(str, slice))\n",
    "  print(','.join(slice))"
   ]
  },
  {
   "cell_type": "code",
   "execution_count": 30,
   "metadata": {},
   "outputs": [
    {
     "data": {
      "text/plain": [
       "'1,2,3,4,5,6,7'"
      ]
     },
     "execution_count": 30,
     "metadata": {},
     "output_type": "execute_result"
    }
   ],
   "source": [
    "numbers = [1, 2, 3, 4, 5, 6, 7]\n",
    "numbers = list(map(str, numbers))\n",
    "','.join(numbers)"
   ]
  },
  {
   "cell_type": "code",
   "execution_count": 26,
   "metadata": {},
   "outputs": [
    {
     "data": {
      "text/plain": [
       "['1', '2', '3', '4', '5', '6', '7', '8', '9', '10']"
      ]
     },
     "execution_count": 26,
     "metadata": {},
     "output_type": "execute_result"
    }
   ],
   "source": [
    "n = 10\n",
    "\n",
    "numbers = []\n",
    "for i in range(1, n+1):\n",
    "  numbers.append(str(i))\n",
    "\n",
    "numbers"
   ]
  },
  {
   "cell_type": "code",
   "execution_count": 27,
   "metadata": {},
   "outputs": [
    {
     "data": {
      "text/plain": [
       "['1', '2', '3', '4', '5', '6', '7', '8', '9', '10']"
      ]
     },
     "execution_count": 27,
     "metadata": {},
     "output_type": "execute_result"
    }
   ],
   "source": [
    "numbers = [str(i) for i in range(1, n+1)]\n",
    "numbers"
   ]
  },
  {
   "cell_type": "code",
   "execution_count": 29,
   "metadata": {},
   "outputs": [
    {
     "data": {
      "text/plain": [
       "[1, 2, 3, 4, 5, 6, 7, 8, 9, 10]"
      ]
     },
     "execution_count": 29,
     "metadata": {},
     "output_type": "execute_result"
    }
   ],
   "source": [
    "list(range(1, n+1))"
   ]
  },
  {
   "cell_type": "markdown",
   "metadata": {},
   "source": [
    "# W4 GRPA 1"
   ]
  },
  {
   "cell_type": "code",
   "execution_count": 44,
   "metadata": {},
   "outputs": [
    {
     "data": {
      "text/plain": [
       "True"
      ]
     },
     "execution_count": 44,
     "metadata": {},
     "output_type": "execute_result"
    },
    {
     "data": {
      "text/plain": [
       "1"
      ]
     },
     "execution_count": 44,
     "metadata": {},
     "output_type": "execute_result"
    }
   ],
   "source": [
    "sentence = 'sachin is an indian cricketer'\n",
    "word = 'sachin'\n",
    "\n",
    "word in sentence\n",
    "sentence.count(word)"
   ]
  },
  {
   "cell_type": "code",
   "execution_count": 45,
   "metadata": {},
   "outputs": [
    {
     "name": "stdout",
     "output_type": "stream",
     "text": [
      "YES\n",
      "1\n"
     ]
    }
   ],
   "source": [
    "sentence = 'sachin is an indian cricketer'\n",
    "word = 'sachin'\n",
    "\n",
    "if word in sentence:\n",
    "  print('YES')\n",
    "  print(sentence.count(word))\n",
    "else:\n",
    "  print('NO')"
   ]
  },
  {
   "cell_type": "code",
   "execution_count": 21,
   "metadata": {},
   "outputs": [
    {
     "data": {
      "text/plain": [
       "(6, 35.0)"
      ]
     },
     "execution_count": 21,
     "metadata": {},
     "output_type": "execute_result"
    }
   ],
   "source": [
    "marks = [60, 10, 30, 40, 20, 50]\n",
    "\n",
    "# marks = sorted(marks) # not allowed in OPPE 🚫\n",
    "# marks.sort() # not allowed in OPPE 🚫\n",
    "\n",
    "# marks = marks.copy() # not allowed in OPPE 🚫\n",
    "# marks = list(marks)  # not allowed in OPPE 🚫\n",
    "marks = marks[:]  # this will always work ✌️\n",
    "marks.sort()\n",
    "\n",
    "n = len(marks)\n",
    "if n % 2 == 1:\n",
    "  i1 = (n-1)//2\n",
    "  median = marks[i1]\n",
    "else:\n",
    "  i1 = (n-1)//2\n",
    "  i2 = (n-1)//2 + 1\n",
    "  median = (marks[i1] + marks[i2])/2\n",
    "\n",
    "n, median"
   ]
  },
  {
   "cell_type": "code",
   "execution_count": 11,
   "metadata": {},
   "outputs": [
    {
     "data": {
      "text/plain": [
       "4"
      ]
     },
     "execution_count": 11,
     "metadata": {},
     "output_type": "execute_result"
    },
    {
     "data": {
      "text/plain": [
       "1"
      ]
     },
     "execution_count": 11,
     "metadata": {},
     "output_type": "execute_result"
    },
    {
     "data": {
      "text/plain": [
       "2"
      ]
     },
     "execution_count": 11,
     "metadata": {},
     "output_type": "execute_result"
    }
   ],
   "source": [
    "L = [1, 2, 3, 4]\n",
    "n = len(L)\n",
    "\n",
    "n\n",
    "(n-1)//2\n",
    "(n-1)//2 + 1"
   ]
  },
  {
   "cell_type": "code",
   "execution_count": 23,
   "metadata": {},
   "outputs": [
    {
     "data": {
      "text/plain": [
       "True"
      ]
     },
     "execution_count": 23,
     "metadata": {},
     "output_type": "execute_result"
    }
   ],
   "source": [
    "w1 = 'apple'\n",
    "w2 = 'zebra'\n",
    "\n",
    "w1 < w2"
   ]
  },
  {
   "cell_type": "code",
   "execution_count": 27,
   "metadata": {},
   "outputs": [
    {
     "name": "stdout",
     "output_type": "stream",
     "text": [
      "98\n"
     ]
    }
   ],
   "source": [
    "L = [1, 2, 3, 4, 11, 23, 4, 99]\n",
    "max_L = max(L)\n",
    "min_L = min(L)\n",
    "print(max_L - min_L)"
   ]
  },
  {
   "cell_type": "code",
   "execution_count": 28,
   "metadata": {},
   "outputs": [
    {
     "name": "stdout",
     "output_type": "stream",
     "text": [
      "99\n"
     ]
    }
   ],
   "source": [
    "L = [1, 2, 3, 4, 11, 23, 4, 99]\n",
    "\n",
    "max_L = L[0]\n",
    "for x in L:\n",
    "  if x > max_L:\n",
    "    max_L = x\n",
    "\n",
    "print(max_L)"
   ]
  },
  {
   "cell_type": "code",
   "execution_count": 29,
   "metadata": {},
   "outputs": [
    {
     "name": "stdout",
     "output_type": "stream",
     "text": [
      "1\n"
     ]
    }
   ],
   "source": [
    "L = [1, 2, 3, 4, 11, 23, 4, 99]\n",
    "\n",
    "min_L = L[0]\n",
    "for x in L:\n",
    "  if x < min_L:\n",
    "    min_L = x\n",
    "\n",
    "print(min_L)"
   ]
  },
  {
   "cell_type": "code",
   "execution_count": 39,
   "metadata": {},
   "outputs": [
    {
     "name": "stdout",
     "output_type": "stream",
     "text": [
      "True\n"
     ]
    }
   ],
   "source": [
    "n = 6\n",
    "\n",
    "factors = []\n",
    "for i in range(1, n):\n",
    "  if 6 % i == 0:\n",
    "    factors.append(i)\n",
    "\n",
    "print(sum(factors) == n)"
   ]
  },
  {
   "cell_type": "code",
   "execution_count": 45,
   "metadata": {},
   "outputs": [
    {
     "data": {
      "text/plain": [
       "25"
      ]
     },
     "execution_count": 45,
     "metadata": {},
     "output_type": "execute_result"
    }
   ],
   "source": [
    "letter1 = 'z'\n",
    "letter2 = 'a'\n",
    "\n",
    "abs(ord(letter1) - ord(letter2))"
   ]
  },
  {
   "cell_type": "code",
   "execution_count": 47,
   "metadata": {},
   "outputs": [
    {
     "name": "stdout",
     "output_type": "stream",
     "text": [
      "d c\n",
      "d a\n",
      "d t\n",
      "o c\n",
      "o a\n",
      "o t\n",
      "g c\n",
      "g a\n",
      "g t\n"
     ]
    }
   ],
   "source": [
    "word1 = 'dog'\n",
    "word2 = 'cat'\n",
    "\n",
    "for letter1 in word1:\n",
    "  for letter2 in word2:\n",
    "    print(letter1, letter2)\n",
    "    # dist = abs(ord(letter1) - ord(letter2))\n",
    "    # print(dist)"
   ]
  },
  {
   "cell_type": "code",
   "execution_count": 54,
   "metadata": {},
   "outputs": [
    {
     "name": "stdout",
     "output_type": "stream",
     "text": [
      "28\n"
     ]
    }
   ],
   "source": [
    "word1 = 'dog'\n",
    "word2 = 'cat'\n",
    "\n",
    "n = len(word1)\n",
    "dist_sum = 0\n",
    "for i in range(n):\n",
    "  letter1 = word1[i]\n",
    "  letter2 = word2[i]\n",
    "  dist = abs(ord(letter1) - ord(letter2))\n",
    "  dist_sum += dist\n",
    "\n",
    "print(dist_sum)"
   ]
  },
  {
   "cell_type": "markdown",
   "metadata": {},
   "source": [
    "4 9 2 | 15 <- 🚨\n",
    "3 5 7 | 15\n",
    "8 1 6 | 15\n",
    "------\n",
    "15, 15, 15\n",
    "\n",
    "diag 1: 4,5,6 -> 15 <- 🚨\n",
    "diag 2: 2,5,8 -> 15\n",
    "\n",
    "rows #3, cols #3, diags #2 (n + n + 2 values; n = size of mat)\n",
    "\n",
    "15 == 15 == 15 == ... == 15 for all 2n + 2 values: it's a magic sq."
   ]
  },
  {
   "cell_type": "code",
   "execution_count": 58,
   "metadata": {},
   "outputs": [
    {
     "name": "stdout",
     "output_type": "stream",
     "text": [
      "[15, 15, 15]\n"
     ]
    }
   ],
   "source": [
    "matrix = [\n",
    "    [4, 9, 2],\n",
    "    [3, 5, 7],\n",
    "    [8, 1, 6],\n",
    "]\n",
    "\n",
    "row_sums = [sum(row) for row in matrix]\n",
    "\n",
    "print(row_sums)"
   ]
  },
  {
   "cell_type": "code",
   "execution_count": 70,
   "metadata": {},
   "outputs": [
    {
     "data": {
      "text/plain": [
       "[15, 15, 15]"
      ]
     },
     "execution_count": 70,
     "metadata": {},
     "output_type": "execute_result"
    }
   ],
   "source": [
    "n = 3\n",
    "matrix = [\n",
    "    [4, 9, 2],\n",
    "    [3, 5, 7],\n",
    "    [8, 1, 6],\n",
    "]\n",
    "\n",
    "col_sums = []\n",
    "for j in range(n):\n",
    "  j_col = [row[j] for row in matrix]\n",
    "  col_sums.append(sum(j_col))\n",
    "\n",
    "col_sums"
   ]
  },
  {
   "cell_type": "code",
   "execution_count": 73,
   "metadata": {},
   "outputs": [
    {
     "data": {
      "text/plain": [
       "[4, 5, 6]"
      ]
     },
     "execution_count": 73,
     "metadata": {},
     "output_type": "execute_result"
    },
    {
     "data": {
      "text/plain": [
       "15"
      ]
     },
     "execution_count": 73,
     "metadata": {},
     "output_type": "execute_result"
    }
   ],
   "source": [
    "n = 3\n",
    "matrix = [\n",
    "    [4, 9, 2],\n",
    "    [3, 5, 7],\n",
    "    [8, 1, 6],\n",
    "]\n",
    "\n",
    "diag_1 = []\n",
    "for i in range(n):\n",
    "  for j in range(n):\n",
    "    if i == j:\n",
    "      diag_1.append(matrix[i][j])\n",
    "\n",
    "diag_1\n",
    "sum(diag_1)"
   ]
  },
  {
   "cell_type": "code",
   "execution_count": 83,
   "metadata": {},
   "outputs": [
    {
     "name": "stdout",
     "output_type": "stream",
     "text": [
      "[2, 5, 8]\n"
     ]
    }
   ],
   "source": [
    "n = 3\n",
    "matrix = [\n",
    "    [4, 9, 2],\n",
    "    [3, 5, 7],\n",
    "    [8, 1, 6],\n",
    "]\n",
    "\n",
    "diag_2 = []\n",
    "for i in range(n):\n",
    "  for j in range(n):\n",
    "    j_off = (n-1) - i\n",
    "    if j == j_off:\n",
    "      diag_2.append(matrix[i][j])\n",
    "\n",
    "print(diag_2)\n",
    "\n",
    "# i=0, j=2\n",
    "# i=1, j=1\n",
    "# i=2, j=0"
   ]
  },
  {
   "cell_type": "code",
   "execution_count": 81,
   "metadata": {},
   "outputs": [
    {
     "name": "stdout",
     "output_type": "stream",
     "text": [
      "i=0, j=4, j_off=4\n",
      "i=1, j=3, j_off=3\n",
      "i=2, j=2, j_off=2\n",
      "i=3, j=1, j_off=1\n",
      "i=4, j=0, j_off=0\n"
     ]
    }
   ],
   "source": [
    "n = 5\n",
    "\n",
    "for i in range(5):\n",
    "  for j in range(5):\n",
    "    j_off = (n-1) - i\n",
    "    if j_off == j:\n",
    "      print(f'{i=}, {j=}, {j_off=}')\n",
    "\n",
    "# if j == j offset:\n",
    "  # then i, j is part of diag 2\n",
    "\n",
    "# i (j == j offset) -> diag 2 elem\n",
    "\n",
    "# 0 4 (j offset: 4-i = 4)\n",
    "# 1 3 (j offset: 4-i = 3)\n",
    "# 2 2 (j offset: 4-i = 2)\n",
    "# 3 1 (j offset: 4-i = 1)\n",
    "# 4 0 (j offset: 4-i = 0)"
   ]
  },
  {
   "cell_type": "code",
   "execution_count": 86,
   "metadata": {},
   "outputs": [
    {
     "data": {
      "text/plain": [
       "[15, 15, 15]"
      ]
     },
     "execution_count": 86,
     "metadata": {},
     "output_type": "execute_result"
    },
    {
     "data": {
      "text/plain": [
       "[15, 15, 15]"
      ]
     },
     "execution_count": 86,
     "metadata": {},
     "output_type": "execute_result"
    },
    {
     "data": {
      "text/plain": [
       "15"
      ]
     },
     "execution_count": 86,
     "metadata": {},
     "output_type": "execute_result"
    },
    {
     "data": {
      "text/plain": [
       "15"
      ]
     },
     "execution_count": 86,
     "metadata": {},
     "output_type": "execute_result"
    }
   ],
   "source": [
    "row_sums  # n values\n",
    "col_sums  # n values\n",
    "d1_sum = sum(diag_1)  # 1 value\n",
    "d2_sum = sum(diag_2)  # 1 value\n",
    "\n",
    "d1_sum\n",
    "d2_sum"
   ]
  },
  {
   "cell_type": "code",
   "execution_count": 89,
   "metadata": {},
   "outputs": [
    {
     "data": {
      "text/plain": [
       "True"
      ]
     },
     "execution_count": 89,
     "metadata": {},
     "output_type": "execute_result"
    },
    {
     "data": {
      "text/plain": [
       "True"
      ]
     },
     "execution_count": 89,
     "metadata": {},
     "output_type": "execute_result"
    },
    {
     "data": {
      "text/plain": [
       "True"
      ]
     },
     "execution_count": 89,
     "metadata": {},
     "output_type": "execute_result"
    }
   ],
   "source": [
    "row_sums == col_sums\n",
    "d1_sum == d2_sum\n",
    "d1_sum == row_sums[0]"
   ]
  },
  {
   "cell_type": "code",
   "execution_count": 96,
   "metadata": {},
   "outputs": [
    {
     "data": {
      "text/plain": [
       "[[1, 4], [2, 5], [3, 6]]"
      ]
     },
     "execution_count": 96,
     "metadata": {},
     "output_type": "execute_result"
    }
   ],
   "source": [
    "num_rows = 2\n",
    "num_cols = 3\n",
    "matrix = [\n",
    "    [1, 2, 3],\n",
    "    [4, 5, 6],\n",
    "]\n",
    "\n",
    "# transpose = [col0, col1, col2, ... col(n)]\n",
    "transpose = []\n",
    "\n",
    "for j in range(num_cols):\n",
    "  j_col = [row[j] for row in matrix]\n",
    "  transpose.append(j_col)\n",
    "\n",
    "transpose"
   ]
  }
 ],
 "metadata": {
  "kernelspec": {
   "display_name": "Python 3",
   "language": "python",
   "name": "python3"
  },
  "language_info": {
   "codemirror_mode": {
    "name": "ipython",
    "version": 3
   },
   "file_extension": ".py",
   "mimetype": "text/x-python",
   "name": "python",
   "nbconvert_exporter": "python",
   "pygments_lexer": "ipython3",
   "version": "3.12.0"
  }
 },
 "nbformat": 4,
 "nbformat_minor": 2
}

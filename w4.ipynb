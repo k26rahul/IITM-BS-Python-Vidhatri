{
 "cells": [
  {
   "cell_type": "markdown",
   "metadata": {},
   "source": [
    "# Naive search"
   ]
  },
  {
   "cell_type": "code",
   "execution_count": 1,
   "metadata": {},
   "outputs": [],
   "source": [
    "k = [3, 4, 18, 9, 2, 31, 56]\n",
    "\n",
    "# 17 ? T/F\n",
    "\n",
    "# Naive search (without enough experience)\n",
    "# [3, 4, 18, 9, 2, 31, 56]\n",
    "#                           ^ False"
   ]
  },
  {
   "cell_type": "code",
   "execution_count": 2,
   "metadata": {},
   "outputs": [
    {
     "name": "stdout",
     "output_type": "stream",
     "text": [
      "False\n",
      "False\n",
      "False\n",
      "False\n",
      "False\n",
      "False\n",
      "False\n"
     ]
    }
   ],
   "source": [
    "value = 17\n",
    "\n",
    "for x in k:\n",
    "  print(x == value)"
   ]
  },
  {
   "cell_type": "code",
   "execution_count": 3,
   "metadata": {},
   "outputs": [
    {
     "name": "stdout",
     "output_type": "stream",
     "text": [
      "False\n",
      "False\n",
      "True\n",
      "True\n"
     ]
    }
   ],
   "source": [
    "def naive_search(lst, value):\n",
    "  for x in lst:\n",
    "    if x == value:\n",
    "      return True\n",
    "  return False\n",
    "\n",
    "\n",
    "lst = [3, 4, 18, 9, 2, 31, 56]\n",
    "print(naive_search(lst, 17))\n",
    "print(naive_search(lst, 0))\n",
    "print(naive_search(lst, 31))\n",
    "print(naive_search(lst, 56))"
   ]
  },
  {
   "cell_type": "code",
   "execution_count": 4,
   "metadata": {},
   "outputs": [
    {
     "name": "stdout",
     "output_type": "stream",
     "text": [
      "I just received x=5, now I'll square it\n",
      "25\n",
      "I just received x=9, now I'll square it\n",
      "81\n",
      "I just received x=14, now I'll square it\n",
      "196\n"
     ]
    }
   ],
   "source": [
    "def square(x):\n",
    "  print(f\"I just received {x=}, now I'll square it\")\n",
    "  sq = x ** 2\n",
    "  return sq\n",
    "\n",
    "\n",
    "print(square(5))\n",
    "print(square(9))\n",
    "print(square(14))"
   ]
  },
  {
   "cell_type": "code",
   "execution_count": 5,
   "metadata": {},
   "outputs": [
    {
     "name": "stdout",
     "output_type": "stream",
     "text": [
      "20\n",
      "15\n"
     ]
    }
   ],
   "source": [
    "def add(x, y):\n",
    "  return x + y\n",
    "\n",
    "\n",
    "print(add(19, 1))\n",
    "print(add(10, 5))"
   ]
  },
  {
   "cell_type": "code",
   "execution_count": 6,
   "metadata": {},
   "outputs": [
    {
     "name": "stdout",
     "output_type": "stream",
     "text": [
      "hello Vidhatri\n",
      "hello Rahul\n",
      "hello Sanika\n"
     ]
    }
   ],
   "source": [
    "def say_hello(name):\n",
    "  print(f'hello {name}')\n",
    "\n",
    "\n",
    "say_hello('Vidhatri')\n",
    "say_hello('Rahul')\n",
    "say_hello('Sanika')"
   ]
  },
  {
   "cell_type": "markdown",
   "metadata": {},
   "source": [
    "# Dot product"
   ]
  },
  {
   "cell_type": "markdown",
   "metadata": {},
   "source": [
    "1. mat * scalar = mat ✅\n",
    "2. mat + mat = mat ✅\n",
    "3. mat * mat = mat (simple product) ⌛"
   ]
  },
  {
   "cell_type": "markdown",
   "metadata": {},
   "source": [
    "1. vector . vector = scalar 🤯 (scalar/dot product) ⌛\n",
    "2. vector * vector = mat (vector/cross product) ⌛"
   ]
  },
  {
   "cell_type": "markdown",
   "metadata": {},
   "source": [
    "[6, 2, 4]\n",
    "[5, 1, 3]\n",
    "       ^\n",
    "30 + 2 + 12 = 44\n",
    "Ans = 44"
   ]
  },
  {
   "cell_type": "code",
   "execution_count": 7,
   "metadata": {},
   "outputs": [
    {
     "name": "stdout",
     "output_type": "stream",
     "text": [
      "44\n"
     ]
    }
   ],
   "source": [
    "n = 3\n",
    "vector_1 = [6, 2, 4]\n",
    "vector_2 = [5, 1, 3]\n",
    "\n",
    "ans = 0\n",
    "\n",
    "for i in range(n):\n",
    "  product = vector_1[i] * vector_2[i]\n",
    "  ans += product\n",
    "\n",
    "print(ans)"
   ]
  },
  {
   "cell_type": "code",
   "execution_count": 8,
   "metadata": {},
   "outputs": [
    {
     "data": {
      "text/plain": [
       "[3, 2, 5, 1]"
      ]
     },
     "execution_count": 8,
     "metadata": {},
     "output_type": "execute_result"
    }
   ],
   "source": [
    "L = [6, 3, 2, 7, 9, 5, 1]\n",
    "\n",
    "L.remove(9)\n",
    "L.remove(7)\n",
    "L.remove(6)\n",
    "\n",
    "L"
   ]
  },
  {
   "cell_type": "markdown",
   "metadata": {},
   "source": [
    "Sorting: Naive/obvious approach\n",
    "\n",
    "max = ?\n",
    "[] L\n",
    "^\n",
    "\n",
    "[9, 7, 6, 5, 3, 2, 1] <- new list (sorted_L)"
   ]
  },
  {
   "cell_type": "code",
   "execution_count": 9,
   "metadata": {},
   "outputs": [],
   "source": [
    "L = [6, 3, 2, 7, 9, 5, 1]\n",
    "\n",
    "sorted_L = []\n",
    "\n",
    "# while len(L) > 0:"
   ]
  },
  {
   "cell_type": "code",
   "execution_count": 10,
   "metadata": {},
   "outputs": [
    {
     "name": "stdout",
     "output_type": "stream",
     "text": [
      "L=[]\n",
      "sorted_L=[9, 7, 6, 5, 3, 2, 1]\n"
     ]
    }
   ],
   "source": [
    "L = [6, 3, 2, 7, 9, 5, 1]\n",
    "\n",
    "sorted_L = []\n",
    "\n",
    "while len(L) > 0:\n",
    "  max = 0\n",
    "  for number in L:\n",
    "    if number > max:\n",
    "      max = number\n",
    "  L.remove(max)\n",
    "  sorted_L.append(max)\n",
    "\n",
    "print(f'{L=}')\n",
    "print(f'{sorted_L=}')"
   ]
  },
  {
   "cell_type": "code",
   "execution_count": 11,
   "metadata": {},
   "outputs": [
    {
     "name": "stdout",
     "output_type": "stream",
     "text": [
      "number=6\n",
      "number=3\n",
      "number=2\n",
      "number=7\n",
      "number=9\n",
      "number=5\n",
      "number=1\n"
     ]
    }
   ],
   "source": [
    "L = [6, 3, 2, 7, 9, 5, 1]\n",
    "\n",
    "for number in L:\n",
    "  print(f'{number=}')"
   ]
  },
  {
   "cell_type": "code",
   "execution_count": 12,
   "metadata": {},
   "outputs": [
    {
     "name": "stdout",
     "output_type": "stream",
     "text": [
      "index i=0, value L[i]=6\n",
      "index i=1, value L[i]=3\n",
      "index i=2, value L[i]=2\n",
      "index i=3, value L[i]=7\n",
      "index i=4, value L[i]=9\n",
      "index i=5, value L[i]=5\n",
      "index i=6, value L[i]=1\n"
     ]
    }
   ],
   "source": [
    "L = [6, 3, 2, 7, 9, 5, 1]\n",
    "\n",
    "n = len(L)\n",
    "\n",
    "for i in range(n):\n",
    "  print(f'index {i=}, value {L[i]=}')"
   ]
  },
  {
   "cell_type": "code",
   "execution_count": 13,
   "metadata": {},
   "outputs": [
    {
     "name": "stdout",
     "output_type": "stream",
     "text": [
      "6\n",
      "3\n",
      "2\n",
      "7\n",
      "9\n",
      "5\n",
      "1\n"
     ]
    }
   ],
   "source": [
    "L = [6, 3, 2, 7, 9, 5, 1]\n",
    "\n",
    "for number in L:  # directly itr over elements, enjoy direct access of value 🥂\n",
    "  print(number)"
   ]
  },
  {
   "cell_type": "code",
   "execution_count": 14,
   "metadata": {},
   "outputs": [
    {
     "name": "stdout",
     "output_type": "stream",
     "text": [
      "6\n",
      "3\n",
      "2\n",
      "7\n",
      "9\n",
      "5\n",
      "1\n"
     ]
    }
   ],
   "source": [
    "L = [6, 3, 2, 7, 9, 5, 1]\n",
    "\n",
    "for i in range(len(L)):  # itr over indices, then get value using list[index] 🤢\n",
    "  print(L[i])"
   ]
  },
  {
   "cell_type": "markdown",
   "metadata": {},
   "source": [
    "# matrix multiplication"
   ]
  },
  {
   "cell_type": "code",
   "execution_count": 15,
   "metadata": {},
   "outputs": [
    {
     "data": {
      "text/plain": [
       "2"
      ]
     },
     "execution_count": 15,
     "metadata": {},
     "output_type": "execute_result"
    },
    {
     "data": {
      "text/plain": [
       "2"
      ]
     },
     "execution_count": 15,
     "metadata": {},
     "output_type": "execute_result"
    }
   ],
   "source": [
    "matrix_a = [\n",
    "    [1, 2, 3],\n",
    "    [4, 5, 6],\n",
    "]  # m x n (2 x 2)\n",
    "\n",
    "matrix_b = [\n",
    "    [7, 8],\n",
    "    [9, 10],\n",
    "    [11, 12]\n",
    "]  # n x p (2 x 2)\n",
    "\n",
    "product_matrix = []  # m x p (2 x 2)\n",
    "\n",
    "m = len(matrix_a)  # no. of rows in matrix_a (m)\n",
    "m\n",
    "\n",
    "# no. of elements/cols in any (prefer 1st) row of matrix_b\n",
    "n = len(matrix_b[0])\n",
    "n"
   ]
  },
  {
   "cell_type": "code",
   "execution_count": 16,
   "metadata": {},
   "outputs": [
    {
     "data": {
      "text/plain": [
       "[[58, 64], [139, 154]]"
      ]
     },
     "execution_count": 16,
     "metadata": {},
     "output_type": "execute_result"
    }
   ],
   "source": [
    "matrix_a = [\n",
    "    [1, 2, 3],\n",
    "    [4, 5, 6],\n",
    "]\n",
    "\n",
    "matrix_b = [\n",
    "    [7, 8],\n",
    "    [9, 10],\n",
    "    [11, 12]\n",
    "]\n",
    "\n",
    "no_rows = len(matrix_a)\n",
    "no_cols = len(matrix_b[0])\n",
    "\n",
    "product_matrix = [[0 for i in range(no_cols)] for i in range(no_rows)]\n",
    "\n",
    "for i in range(no_rows):\n",
    "  for j in range(no_cols):\n",
    "    # element = (i-th row of matrix_a) . (j-th col of matrix_b)\n",
    "    sigma = 0\n",
    "    for k in range(len(matrix_b)):  # len(matrix_b) = n, why | A: m * n, B: n * p | sigma(1, n)\n",
    "      sigma += matrix_a[i][k] * matrix_b[k][j]\n",
    "    product_matrix[i][j] = sigma\n",
    "\n",
    "product_matrix\n",
    "# [[58, 64], [139, 154]]"
   ]
  },
  {
   "cell_type": "code",
   "execution_count": 17,
   "metadata": {},
   "outputs": [
    {
     "name": "stdout",
     "output_type": "stream",
     "text": [
      "no of rows=2\n",
      "no of cols=3\n",
      "[1, 2, 3]\n"
     ]
    }
   ],
   "source": [
    "matrix_a = [\n",
    "    [1, 2, 3],\n",
    "    [4, 5, 6],\n",
    "]\n",
    "\n",
    "print(f'no of rows={len(matrix_a)}')\n",
    "print(f'no of cols={len(matrix_a[0])}')\n",
    "\n",
    "print(matrix_a[0])  # [1, 2, 3]"
   ]
  },
  {
   "cell_type": "code",
   "execution_count": 18,
   "metadata": {},
   "outputs": [
    {
     "name": "stdout",
     "output_type": "stream",
     "text": [
      "col=[1, 4, 7]\n"
     ]
    }
   ],
   "source": [
    "matrix_a = [\n",
    "    [1, 2, 3],\n",
    "    [4, 5, 6],\n",
    "    [7, 8, 9],\n",
    "]\n",
    "\n",
    "# [1, 4, 7]\n",
    "# matrix_a[0][0], matrix_a[1][0], matrix_a[2][0]\n",
    "# matrix_a[i][0], matrix_a[i][0], matrix_a[i][0]\n",
    "# matrix_a[i][which_col], matrix_a[i][which_col], matrix_a[i][which_col]\n",
    "\n",
    "which_col = 0\n",
    "col = []\n",
    "for which_row in range(len(matrix_a)):\n",
    "  row = matrix_a[which_row]\n",
    "  col.append(row[which_col])\n",
    "\n",
    "print(f'{col=}')"
   ]
  },
  {
   "cell_type": "code",
   "execution_count": 19,
   "metadata": {},
   "outputs": [
    {
     "name": "stdout",
     "output_type": "stream",
     "text": [
      "col=[1, 4, 7]\n"
     ]
    }
   ],
   "source": [
    "matrix_a = [\n",
    "    [1, 2, 3],\n",
    "    [4, 5, 6],\n",
    "    [7, 8, 9],\n",
    "]\n",
    "\n",
    "which_col = 0\n",
    "col = []\n",
    "for row in matrix_a:\n",
    "  col.append(row[which_col])\n",
    "\n",
    "print(f'{col=}')"
   ]
  },
  {
   "cell_type": "code",
   "execution_count": 20,
   "metadata": {},
   "outputs": [
    {
     "data": {
      "text/plain": [
       "[1, 4, 7]"
      ]
     },
     "execution_count": 20,
     "metadata": {},
     "output_type": "execute_result"
    }
   ],
   "source": [
    "matrix_a = [\n",
    "    [1, 2, 3],\n",
    "    [4, 5, 6],\n",
    "    [7, 8, 9],\n",
    "]\n",
    "\n",
    "which_col = 0\n",
    "[row[which_col] for row in matrix_a]"
   ]
  },
  {
   "cell_type": "code",
   "execution_count": 21,
   "metadata": {},
   "outputs": [],
   "source": [
    "matrix_a = [\n",
    "    [1, 2, 3],\n",
    "    [4, 5, 6],\n",
    "]\n",
    "\n",
    "matrix_b = [\n",
    "    [7, 8],\n",
    "    [9, 10],\n",
    "    [11, 12]\n",
    "]\n",
    "\n",
    "i = 0\n",
    "j = 0\n",
    "n = 3\n",
    "# lets calc ij_elem_of_product_matrix = ?\n",
    "\n",
    "# matrix_a[i][k]  # 1,2,3\n",
    "# matrix_b[k][j]  # 7,9,11\n",
    "\n",
    "# [1,2,3] . [7,9,11]\n",
    "# 1*7 + 2*9 + 3*11 = 58\n",
    "# c[i][j] = 58"
   ]
  },
  {
   "cell_type": "code",
   "execution_count": 22,
   "metadata": {},
   "outputs": [
    {
     "name": "stdout",
     "output_type": "stream",
     "text": [
      "58\n",
      "64\n",
      "139\n",
      "154\n"
     ]
    }
   ],
   "source": [
    "matrix_a = [\n",
    "    [1, 2, 3],\n",
    "    [4, 5, 6],\n",
    "]\n",
    "\n",
    "matrix_b = [\n",
    "    [7, 8],\n",
    "    [9, 10],\n",
    "    [11, 12]\n",
    "]\n",
    "\n",
    "# i = 0\n",
    "# j = 0\n",
    "\n",
    "for i in range(len(matrix_a)):\n",
    "  for j in range(len(matrix_b[0])):\n",
    "    n = 3\n",
    "\n",
    "    sigma = 0\n",
    "    for k in range(n):\n",
    "      sigma += matrix_a[i][k] * matrix_b[k][j]\n",
    "\n",
    "    print(sigma)  # 58"
   ]
  },
  {
   "cell_type": "markdown",
   "metadata": {},
   "source": [
    "```\n",
    "matrix_a = [\n",
    "    [1, 2, 3],\n",
    "    [4, 5, 6],\n",
    "]\n",
    "\n",
    "matrix_b = [\n",
    "    [7, 8],\n",
    "    [9, 10],\n",
    "    [11, 12]\n",
    "]\n",
    "\n",
    "(2 * 3) mult (3, 2) = (2 * 2) 👇\n",
    "step 1.\n",
    "product_matrix = [\n",
    "  ?,  ?\n",
    "  ?,  ?\n",
    "]\n",
    "\n",
    "step 2.\n",
    "product_matrix = [\n",
    "  0,0,  0,1\n",
    "  1,0,  1,1\n",
    "]\n",
    "\n",
    "step 3.\n",
    "product_matrix = [\n",
    "  [1, 2, 3].[7,9,11],  [1, 2, 3].[8,10,12]\n",
    "  [4, 5, 6].[7,9,11],  [4, 5, 6].[8,10,12]\n",
    "]\n",
    "\n",
    "step 4.\n",
    "product_matrix = [\n",
    "  7+18+33,  8+20+36\n",
    "  28+45+66, 32+50+72\n",
    "]\n",
    "\n",
    "step 5.\n",
    "product_matrix = [\n",
    "  58, 64\n",
    "  139, 154\n",
    "]\n",
    "\n",
    "product_matrix[i][j] = i-th row of matrix_a . j-th col of matrix_b\n",
    "```"
   ]
  },
  {
   "cell_type": "code",
   "execution_count": 12,
   "metadata": {},
   "outputs": [
    {
     "name": "stdout",
     "output_type": "stream",
     "text": [
      "i=0, j=0, sigma=58\n",
      "i=0, j=1, sigma=64\n",
      "i=1, j=0, sigma=139\n",
      "i=1, j=1, sigma=154\n"
     ]
    }
   ],
   "source": [
    "matrix_a = [\n",
    "    [1, 2, 3],\n",
    "    [4, 5, 6],\n",
    "]\n",
    "\n",
    "matrix_b = [\n",
    "    [7, 8],\n",
    "    [9, 10],\n",
    "    [11, 12],\n",
    "]\n",
    "\n",
    "n = 3\n",
    "\n",
    "i = 0\n",
    "j = 0\n",
    "# [1, 2, 3].[7, 9, 11] = ?\n",
    "sigma = 0\n",
    "for k in range(n):\n",
    "  sigma += matrix_a[i][k] * matrix_b[k][j]\n",
    "print(f'{i=}, {j=}, {sigma=}')  # ?\n",
    "\n",
    "i = 0\n",
    "j = 1\n",
    "# [1, 2, 3].[8,10,12] = ?\n",
    "sigma = 0\n",
    "for k in range(n):\n",
    "  sigma += matrix_a[i][k] * matrix_b[k][j]\n",
    "print(f'{i=}, {j=}, {sigma=}')  # ?\n",
    "\n",
    "i = 1\n",
    "j = 0\n",
    "# [4, 5, 6].[7, 9, 11] = ?\n",
    "sigma = 0\n",
    "for k in range(n):\n",
    "  sigma += matrix_a[i][k] * matrix_b[k][j]\n",
    "print(f'{i=}, {j=}, {sigma=}')  # ?\n",
    "\n",
    "i = 1\n",
    "j = 1\n",
    "# [4, 5, 6].[8,10,12] = ?\n",
    "sigma = 0\n",
    "for k in range(n):\n",
    "  sigma += matrix_a[i][k] * matrix_b[k][j]\n",
    "print(f'{i=}, {j=}, {sigma=}')  # ?"
   ]
  },
  {
   "cell_type": "code",
   "execution_count": 24,
   "metadata": {},
   "outputs": [
    {
     "name": "stdout",
     "output_type": "stream",
     "text": [
      "matrix_a[i=0][k=0]=1 * matrix_b[k=0][j=0]=7\n",
      "matrix_a[i=0][k=1]=2 * matrix_b[k=1][j=0]=9\n",
      "matrix_a[i=0][k=2]=3 * matrix_b[k=2][j=0]=11\n",
      "i=0, j=0, sigma=58\n"
     ]
    }
   ],
   "source": [
    "matrix_a = [\n",
    "    [1, 2, 3],\n",
    "    [4, 5, 6],\n",
    "]\n",
    "\n",
    "matrix_b = [\n",
    "    [7, 8],\n",
    "    [9, 10],\n",
    "    [11, 12],\n",
    "]\n",
    "\n",
    "n = 3\n",
    "\n",
    "i = 0\n",
    "j = 0\n",
    "# [1, 2, 3].[7, 9, 11] = ?\n",
    "sigma = 0\n",
    "for k in range(n):\n",
    "  print(f'matrix_a[{i=}][{k=}]={matrix_a[i][k]\n",
    "                                } * matrix_b[{k=}][{j=}]={matrix_b[k][j]}')\n",
    "\n",
    "  sigma += matrix_a[i][k] * matrix_b[k][j]\n",
    "print(f'{i=}, {j=}, {sigma=}')  # ?"
   ]
  },
  {
   "cell_type": "code",
   "execution_count": 25,
   "metadata": {},
   "outputs": [
    {
     "name": "stdout",
     "output_type": "stream",
     "text": [
      "matrix_a[i=0][k=0]=1 * matrix_b[k=0][j=0]=7\n",
      "matrix_a[i=0][k=1]=2 * matrix_b[k=1][j=0]=9\n",
      "matrix_a[i=0][k=2]=3 * matrix_b[k=2][j=0]=11\n",
      "i=0, j=0, sigma=58\n",
      "matrix_a[i=0][k=0]=1 * matrix_b[k=0][j=1]=8\n",
      "matrix_a[i=0][k=1]=2 * matrix_b[k=1][j=1]=10\n",
      "matrix_a[i=0][k=2]=3 * matrix_b[k=2][j=1]=12\n",
      "i=0, j=1, sigma=64\n",
      "matrix_a[i=1][k=0]=4 * matrix_b[k=0][j=0]=7\n",
      "matrix_a[i=1][k=1]=5 * matrix_b[k=1][j=0]=9\n",
      "matrix_a[i=1][k=2]=6 * matrix_b[k=2][j=0]=11\n",
      "i=1, j=0, sigma=139\n",
      "matrix_a[i=1][k=0]=4 * matrix_b[k=0][j=1]=8\n",
      "matrix_a[i=1][k=1]=5 * matrix_b[k=1][j=1]=10\n",
      "matrix_a[i=1][k=2]=6 * matrix_b[k=2][j=1]=12\n",
      "i=1, j=1, sigma=154\n"
     ]
    }
   ],
   "source": [
    "matrix_a = [\n",
    "    [1, 2, 3],\n",
    "    [4, 5, 6],\n",
    "]\n",
    "\n",
    "matrix_b = [\n",
    "    [7, 8],\n",
    "    [9, 10],\n",
    "    [11, 12],\n",
    "]\n",
    "\n",
    "n = 3\n",
    "m = len(matrix_a)\n",
    "p = len(matrix_b[0])\n",
    "\n",
    "for i in range(m):\n",
    "  for j in range(p):\n",
    "    sigma = 0\n",
    "    for k in range(n):\n",
    "      print(f'matrix_a[{i=}][{k=}]={matrix_a[i][k]\n",
    "                                    } * matrix_b[{k=}][{j=}]={matrix_b[k][j]}')\n",
    "\n",
    "      sigma += matrix_a[i][k] * matrix_b[k][j]\n",
    "    print(f'{i=}, {j=}, {sigma=}')  # ?"
   ]
  },
  {
   "cell_type": "code",
   "execution_count": 17,
   "metadata": {},
   "outputs": [
    {
     "data": {
      "text/plain": [
       "[[58, 64], [139, 154]]"
      ]
     },
     "execution_count": 17,
     "metadata": {},
     "output_type": "execute_result"
    }
   ],
   "source": [
    "matrix_a = [\n",
    "    [1, 2, 3],\n",
    "    [4, 5, 6],\n",
    "]\n",
    "\n",
    "matrix_b = [\n",
    "    [7, 8],\n",
    "    [9, 10],\n",
    "    [11, 12],\n",
    "]\n",
    "\n",
    "# no. of rows in product_matrix = no. of rows in matrix_a\n",
    "# no. of cols in product_matrix = no. of cols in matrix_b\n",
    "\n",
    "# (m * n) mult (n, p) = (m * p) 👇\n",
    "m = len(matrix_a)  # no. of rows in matrix_a\n",
    "p = len(matrix_b[0])  # no. of cols in matrix_b\n",
    "n = len(matrix_b)  # no. of rows in matrix_b\n",
    "\n",
    "product_matrix = [[\n",
    "    0 for i in range(p)\n",
    "] for i in range(m)]\n",
    "\n",
    "for i in range(m):\n",
    "  for j in range(p):\n",
    "    sigma = 0\n",
    "    for k in range(n):\n",
    "      sigma += matrix_a[i][k] * matrix_b[k][j]\n",
    "\n",
    "    product_matrix[i][j] = sigma\n",
    "\n",
    "product_matrix"
   ]
  },
  {
   "cell_type": "code",
   "execution_count": 36,
   "metadata": {},
   "outputs": [
    {
     "name": "stdout",
     "output_type": "stream",
     "text": [
      "31\n"
     ]
    }
   ],
   "source": [
    "vector_a = [1, 2, 3]\n",
    "vector_b = [10, 10, 5]\n",
    "\n",
    "sigma = 0\n",
    "for i in range(len(vector_a)):\n",
    "  sigma += vector_a[i] + vector_b[i]\n",
    "\n",
    "print(sigma)"
   ]
  },
  {
   "cell_type": "code",
   "execution_count": 47,
   "metadata": {},
   "outputs": [
    {
     "name": "stdout",
     "output_type": "stream",
     "text": [
      "i=0, j=0, sigma=58\n"
     ]
    }
   ],
   "source": [
    "matrix_a = [\n",
    "    [1, 2, 3],\n",
    "    [4, 5, 6],\n",
    "]\n",
    "\n",
    "matrix_b = [\n",
    "    [7, 8],\n",
    "    [9, 10],\n",
    "    [11, 12],\n",
    "]\n",
    "\n",
    "i = 0\n",
    "j = 0\n",
    "# [1, 2, 3].[7, 9, 11] = ?\n",
    "# i-th row of matrix_a . j-th col of matrix_b = ?\n",
    "\n",
    "i_th_row_of_matrix_a = matrix_a[i]  # this is a vector\n",
    "j_th_col_of_matrix_b = [row[j] for row in matrix_b]  # this is a vector\n",
    "\n",
    "sigma = 0\n",
    "for k in range(len(i_th_row_of_matrix_a)):\n",
    "  sigma += i_th_row_of_matrix_a[k] * j_th_col_of_matrix_b[k]\n",
    "\n",
    "print(f'{i=}, {j=}, {sigma=}')\n",
    "\n",
    "# print(f'{i_th_row_of_matrix_a=}')\n",
    "# print(f'{j_th_col_of_matrix_b=}')"
   ]
  },
  {
   "cell_type": "code",
   "execution_count": 48,
   "metadata": {},
   "outputs": [
    {
     "name": "stdout",
     "output_type": "stream",
     "text": [
      "i=0, j=0, sigma=58\n",
      "i=0, j=1, sigma=64\n",
      "i=1, j=0, sigma=139\n",
      "i=1, j=1, sigma=154\n"
     ]
    }
   ],
   "source": [
    "matrix_a = [\n",
    "    [1, 2, 3],\n",
    "    [4, 5, 6],\n",
    "]\n",
    "\n",
    "matrix_b = [\n",
    "    [7, 8],\n",
    "    [9, 10],\n",
    "    [11, 12],\n",
    "]\n",
    "\n",
    "i = 0\n",
    "j = 0\n",
    "i_th_row_of_matrix_a = matrix_a[i]  # this is a vector\n",
    "j_th_col_of_matrix_b = [row[j] for row in matrix_b]  # this is a vector\n",
    "sigma = 0\n",
    "for k in range(len(i_th_row_of_matrix_a)):\n",
    "  sigma += i_th_row_of_matrix_a[k] * j_th_col_of_matrix_b[k]\n",
    "print(f'{i=}, {j=}, {sigma=}')\n",
    "\n",
    "i = 0\n",
    "j = 1\n",
    "i_th_row_of_matrix_a = matrix_a[i]  # this is a vector\n",
    "j_th_col_of_matrix_b = [row[j] for row in matrix_b]  # this is a vector\n",
    "sigma = 0\n",
    "for k in range(len(i_th_row_of_matrix_a)):\n",
    "  sigma += i_th_row_of_matrix_a[k] * j_th_col_of_matrix_b[k]\n",
    "print(f'{i=}, {j=}, {sigma=}')\n",
    "\n",
    "i = 1\n",
    "j = 0\n",
    "i_th_row_of_matrix_a = matrix_a[i]  # this is a vector\n",
    "j_th_col_of_matrix_b = [row[j] for row in matrix_b]  # this is a vector\n",
    "sigma = 0\n",
    "for k in range(len(i_th_row_of_matrix_a)):\n",
    "  sigma += i_th_row_of_matrix_a[k] * j_th_col_of_matrix_b[k]\n",
    "print(f'{i=}, {j=}, {sigma=}')\n",
    "\n",
    "i = 1\n",
    "j = 1\n",
    "i_th_row_of_matrix_a = matrix_a[i]  # this is a vector\n",
    "j_th_col_of_matrix_b = [row[j] for row in matrix_b]  # this is a vector\n",
    "sigma = 0\n",
    "for k in range(len(i_th_row_of_matrix_a)):\n",
    "  sigma += i_th_row_of_matrix_a[k] * j_th_col_of_matrix_b[k]\n",
    "print(f'{i=}, {j=}, {sigma=}')"
   ]
  },
  {
   "cell_type": "code",
   "execution_count": 60,
   "metadata": {},
   "outputs": [
    {
     "data": {
      "text/plain": [
       "[[58, 64], [139, 154]]"
      ]
     },
     "execution_count": 60,
     "metadata": {},
     "output_type": "execute_result"
    }
   ],
   "source": [
    "matrix_a = [\n",
    "    [1, 2, 3],\n",
    "    [4, 5, 6],\n",
    "]\n",
    "\n",
    "matrix_b = [\n",
    "    [7, 8],\n",
    "    [9, 10],\n",
    "    [11, 12],\n",
    "]\n",
    "\n",
    "m = len(matrix_a)  # rows in product_matrix\n",
    "n = len(matrix_b)  # for k in range(n)\n",
    "p = len(matrix_b[0])  # cols in product_matrix\n",
    "\n",
    "product_matrix = [[\n",
    "    0 for i in range(p)\n",
    "] for i in range(m)]\n",
    "\n",
    "for i in range(m):\n",
    "  for j in range(p):\n",
    "    sigma = 0\n",
    "    # calc sigma [approach 1]\n",
    "    for k in range(n):\n",
    "      sigma += matrix_a[i][k] * matrix_b[k][j]\n",
    "\n",
    "    product_matrix[i][j] = sigma\n",
    "\n",
    "product_matrix"
   ]
  },
  {
   "cell_type": "code",
   "execution_count": 61,
   "metadata": {},
   "outputs": [
    {
     "data": {
      "text/plain": [
       "[[58, 64], [139, 154]]"
      ]
     },
     "execution_count": 61,
     "metadata": {},
     "output_type": "execute_result"
    }
   ],
   "source": [
    "matrix_a = [\n",
    "    [1, 2, 3],\n",
    "    [4, 5, 6],\n",
    "]\n",
    "\n",
    "matrix_b = [\n",
    "    [7, 8],\n",
    "    [9, 10],\n",
    "    [11, 12],\n",
    "]\n",
    "\n",
    "m = len(matrix_a)  # rows in product_matrix\n",
    "n = len(matrix_b)  # for k in range(n)\n",
    "p = len(matrix_b[0])  # cols in product_matrix\n",
    "\n",
    "product_matrix = [[\n",
    "    0 for i in range(p)\n",
    "] for i in range(m)]\n",
    "\n",
    "for i in range(m):\n",
    "  for j in range(p):\n",
    "    sigma = 0\n",
    "    # calc sigma [approach 2]\n",
    "    i_row = matrix_a[i]\n",
    "    j_col = [row[j] for row in matrix_b]\n",
    "    for k in range(len(i_row)):\n",
    "      sigma += i_row[k] * j_col[k]\n",
    "\n",
    "    product_matrix[i][j] = sigma\n",
    "\n",
    "product_matrix"
   ]
  },
  {
   "cell_type": "code",
   "execution_count": 4,
   "metadata": {},
   "outputs": [
    {
     "name": "stdout",
     "output_type": "stream",
     "text": [
      "[1, 5, 6, 10, 11, 23]\n"
     ]
    }
   ],
   "source": [
    "k = [5, 1, 23, 11, 10, 6]\n",
    "k.sort()\n",
    "# ? = k.sort() ❌ bcz doesn't return anything\n",
    "print(k)"
   ]
  },
  {
   "cell_type": "code",
   "execution_count": 5,
   "metadata": {},
   "outputs": [
    {
     "name": "stdout",
     "output_type": "stream",
     "text": [
      "[1, 5, 6, 10, 11, 23]\n"
     ]
    }
   ],
   "source": [
    "k = [5, 1, 23, 11, 10, 6]\n",
    "k = sorted(k)\n",
    "# sorted(k) ❌ sorted(list) returns the list after sorting, so u've to store it\n",
    "print(k)"
   ]
  },
  {
   "cell_type": "code",
   "execution_count": 9,
   "metadata": {},
   "outputs": [
    {
     "name": "stdout",
     "output_type": "stream",
     "text": [
      "None\n",
      "[1, 5, 6, 10, 11, 23]\n"
     ]
    }
   ],
   "source": [
    "k = [5, 1, 23, 11, 10, 6]\n",
    "print(k.sort()) # modify the original list\n",
    "print(k)"
   ]
  },
  {
   "cell_type": "code",
   "execution_count": 13,
   "metadata": {},
   "outputs": [
    {
     "name": "stdout",
     "output_type": "stream",
     "text": [
      "[1, 5, 6, 10, 11, 23]\n",
      "[5, 1, 23, 11, 10, 6]\n"
     ]
    }
   ],
   "source": [
    "k = [5, 1, 23, 11, 10, 6]\n",
    "print(sorted(k))  # sorted() simply gives u a new list (after sorting)\n",
    "print(k)  # original list is untouched"
   ]
  },
  {
   "cell_type": "code",
   "execution_count": 14,
   "metadata": {},
   "outputs": [
    {
     "name": "stdout",
     "output_type": "stream",
     "text": [
      "[1, 5, 6, 10, 11, 23]\n"
     ]
    }
   ],
   "source": [
    "k = [5, 1, 23, 11, 10, 6]\n",
    "k.sort()\n",
    "print(k)"
   ]
  },
  {
   "cell_type": "code",
   "execution_count": 16,
   "metadata": {},
   "outputs": [
    {
     "name": "stdout",
     "output_type": "stream",
     "text": [
      "[5, 1, 23, 11, 10, 6]\n",
      "[1, 5, 6, 10, 11, 23]\n"
     ]
    }
   ],
   "source": [
    "k = [5, 1, 23, 11, 10, 6]\n",
    "sorted_k = sorted(k)\n",
    "\n",
    "print(k)\n",
    "print(sorted_k)"
   ]
  },
  {
   "cell_type": "code",
   "execution_count": 18,
   "metadata": {},
   "outputs": [
    {
     "name": "stdout",
     "output_type": "stream",
     "text": [
      "None\n"
     ]
    }
   ],
   "source": [
    "print([5, 1, 23, 11, 10, 6].sort())"
   ]
  },
  {
   "cell_type": "code",
   "execution_count": 19,
   "metadata": {},
   "outputs": [
    {
     "name": "stdout",
     "output_type": "stream",
     "text": [
      "[1, 5, 6, 10, 11, 23]\n"
     ]
    }
   ],
   "source": [
    "print(sorted([5, 1, 23, 11, 10, 6]))"
   ]
  },
  {
   "cell_type": "code",
   "execution_count": 20,
   "metadata": {},
   "outputs": [],
   "source": [
    "matrix_a = [\n",
    "    [1, 2, 3],\n",
    "    [4, 5, 6],\n",
    "]\n",
    "\n",
    "matrix_b = [\n",
    "    [7, 8],\n",
    "    [9, 10],\n",
    "    [11, 12],\n",
    "]"
   ]
  },
  {
   "cell_type": "code",
   "execution_count": 33,
   "metadata": {},
   "outputs": [
    {
     "data": {
      "text/plain": [
       "58"
      ]
     },
     "execution_count": 33,
     "metadata": {},
     "output_type": "execute_result"
    },
    {
     "data": {
      "text/plain": [
       "64"
      ]
     },
     "execution_count": 33,
     "metadata": {},
     "output_type": "execute_result"
    },
    {
     "data": {
      "text/plain": [
       "139"
      ]
     },
     "execution_count": 33,
     "metadata": {},
     "output_type": "execute_result"
    },
    {
     "data": {
      "text/plain": [
       "154"
      ]
     },
     "execution_count": 33,
     "metadata": {},
     "output_type": "execute_result"
    }
   ],
   "source": [
    "def get_ith_row(matrix, i):\n",
    "  \"\"\" give me a matrix, i'll give back i-th row of that matrix \"\"\"\n",
    "  return matrix[i]\n",
    "\n",
    "\n",
    "def get_jth_col(matrix, j):\n",
    "  \"\"\" give me a matrix, i'll give back j-th col of that matrix \"\"\"\n",
    "  return [row[j] for row in matrix]\n",
    "\n",
    "\n",
    "def dot_product(vector_1, vector_2):\n",
    "  \"\"\" give me 2 vectors, i'll give back dot product of those \"\"\"\n",
    "  \"\"\" return: a scalar value: sigma: just a single number \"\"\"\n",
    "  sigma = 0\n",
    "  for i in range(len(vector_1)):\n",
    "    sigma += vector_1[i] * vector_2[i]\n",
    "  return sigma\n",
    "\n",
    "\n",
    "for i in range(len(matrix_a)):  # rows in matrix_a\n",
    "  for j in range(len(matrix_b[0])):  # cols in matrix_b\n",
    "    i_row_vector = get_ith_row(matrix_a, i)\n",
    "    j_col_vector = get_jth_col(matrix_b, j)\n",
    "    dot_product(i_row_vector, j_col_vector)\n",
    "\n",
    "# i_row_vector = get_ith_row(matrix_a, 0)\n",
    "# j_col_vector = get_jth_col(matrix_b, 1)\n",
    "# dot_product(i_row_vector, j_col_vector)\n",
    "\n",
    "# i_row_vector = get_ith_row(matrix_a, 1)\n",
    "# j_col_vector = get_jth_col(matrix_b, 0)\n",
    "# dot_product(i_row_vector, j_col_vector)\n",
    "\n",
    "# i_row_vector = get_ith_row(matrix_a, 1)\n",
    "# j_col_vector = get_jth_col(matrix_b, 1)\n",
    "# dot_product(i_row_vector, j_col_vector)"
   ]
  },
  {
   "cell_type": "code",
   "execution_count": 38,
   "metadata": {},
   "outputs": [
    {
     "data": {
      "text/plain": [
       "[[58, 64], [139, 154]]"
      ]
     },
     "execution_count": 38,
     "metadata": {},
     "output_type": "execute_result"
    }
   ],
   "source": [
    "matrix_a = [\n",
    "    [1, 2, 3],\n",
    "    [4, 5, 6],\n",
    "]\n",
    "\n",
    "matrix_b = [\n",
    "    [7, 8],\n",
    "    [9, 10],\n",
    "    [11, 12],\n",
    "]\n",
    "\n",
    "m = len(matrix_a)  # rows in matrix_a\n",
    "p = len(matrix_b[0])  # cols in matrix_b\n",
    "\n",
    "# step 1. make a skeleton matrix\n",
    "product_matrix = [[\n",
    "    0 for j in range(p)\n",
    "] for i in range(m)]\n",
    "\n",
    "# step 2. make i*j loop\n",
    "for i in range(m):\n",
    "  for j in range(p):\n",
    "    i_row = get_ith_row(matrix_a, i)\n",
    "    j_col = get_jth_col(matrix_b, j)\n",
    "    sigma = dot_product(i_row, j_col)\n",
    "    product_matrix[i][j] = sigma\n",
    "\n",
    "product_matrix"
   ]
  },
  {
   "cell_type": "code",
   "execution_count": 40,
   "metadata": {},
   "outputs": [
    {
     "data": {
      "text/plain": [
       "[[58, 64], [139, 154]]"
      ]
     },
     "execution_count": 40,
     "metadata": {},
     "output_type": "execute_result"
    }
   ],
   "source": [
    "matrix_a = [\n",
    "    [1, 2, 3],\n",
    "    [4, 5, 6],\n",
    "]\n",
    "\n",
    "matrix_b = [\n",
    "    [7, 8],\n",
    "    [9, 10],\n",
    "    [11, 12],\n",
    "]\n",
    "\n",
    "m = len(matrix_a)  # rows in matrix_a\n",
    "p = len(matrix_b[0])  # cols in matrix_b\n",
    "\n",
    "# step 1. make a skeleton matrix\n",
    "product_matrix = [[\n",
    "    0 for j in range(p)\n",
    "] for i in range(m)]\n",
    "\n",
    "# step 2. make i*j loop\n",
    "for i in range(m):\n",
    "  for j in range(p):\n",
    "    sigma = 0\n",
    "    # calc sigma [approach 2]\n",
    "    i_row = matrix_a[i]\n",
    "    j_col = [row[j] for row in matrix_b]\n",
    "    for k in range(len(i_row)):\n",
    "      sigma += i_row[k] * j_col[k]\n",
    "    product_matrix[i][j] = sigma\n",
    "\n",
    "product_matrix"
   ]
  },
  {
   "cell_type": "code",
   "execution_count": 42,
   "metadata": {},
   "outputs": [
    {
     "data": {
      "text/plain": [
       "' normal '"
      ]
     },
     "execution_count": 42,
     "metadata": {},
     "output_type": "execute_result"
    },
    {
     "data": {
      "text/plain": [
       "' functional '"
      ]
     },
     "execution_count": 42,
     "metadata": {},
     "output_type": "execute_result"
    },
    {
     "data": {
      "text/plain": [
       "' same in both normal/functional '"
      ]
     },
     "execution_count": 42,
     "metadata": {},
     "output_type": "execute_result"
    }
   ],
   "source": [
    "i_row = matrix_a[i]  # normal\n",
    "i_row = get_ith_row(matrix_a, i)  # functional\n",
    "\n",
    "j_col = [row[j] for row in matrix_b]  # normal\n",
    "j_col = get_jth_col(matrix_b, j)  # functional\n",
    "\n",
    "\"\"\" normal \"\"\"\n",
    "sigma = 0\n",
    "for k in range(len(i_row)):\n",
    "  sigma += i_row[k] * j_col[k]\n",
    "\n",
    "\"\"\" functional \"\"\"\n",
    "sigma = dot_product(i_row, j_col)\n",
    "\n",
    "\"\"\" same in both normal/functional \"\"\"\n",
    "product_matrix[i][j] = sigma"
   ]
  },
  {
   "cell_type": "code",
   "execution_count": 48,
   "metadata": {},
   "outputs": [
    {
     "data": {
      "text/plain": [
       "[7, 9, 11]"
      ]
     },
     "execution_count": 48,
     "metadata": {},
     "output_type": "execute_result"
    },
    {
     "data": {
      "text/plain": [
       "[7, 9, 11]"
      ]
     },
     "execution_count": 48,
     "metadata": {},
     "output_type": "execute_result"
    }
   ],
   "source": [
    "matrix_b = [\n",
    "    [7, 8],\n",
    "    [9, 10],\n",
    "    [11, 12],\n",
    "]\n",
    "\n",
    "get_jth_col(matrix_b, 0)  # order is super important (positional argument)\n",
    "get_jth_col(j=0, matrix=matrix_b)  # order doesn't matter (keyword argument)"
   ]
  },
  {
   "cell_type": "code",
   "execution_count": 50,
   "metadata": {},
   "outputs": [],
   "source": [
    "# j=0\n",
    "# j < parameter\n",
    "# 0 < argument\n",
    "\n",
    "# get_jth_col(matrix, j) # i need 2 parameters matrix, j\n",
    "# get_jth_col(matrix_b, 0) # i'm giving u 2 arguments for your 2 parameters, in proper order\n",
    "\n",
    "# i'm giving u j parameter with value `0`, and matrix parameter with value `matrix_b`\n",
    "# get_jth_col(j=0, matrix=matrix_b)\n",
    "\n",
    "# CONCLUSION\n",
    "# function define: parameter\n",
    "# function call: argument"
   ]
  },
  {
   "cell_type": "code",
   "execution_count": 57,
   "metadata": {},
   "outputs": [
    {
     "name": "stdout",
     "output_type": "stream",
     "text": [
      "hi, i'm Vidhatri, i'm 20yo, i study in class 12, my roll is 50\n",
      "i'm 99kg heavy\n",
      "hi, i'm Vidhatri, i'm 20yo, i study in class 12, my roll is 99\n",
      "i'm 50kg heavy\n"
     ]
    }
   ],
   "source": [
    "def print_student_detail(name, age, cls, roll_no, weight):\n",
    "  print(f\"hi, i'm {name}, i'm {age}yo, i study in class {\n",
    "        cls}, my roll is {roll_no}\")\n",
    "  print(f\"i'm {weight}kg heavy\")\n",
    "\n",
    "\n",
    "my_name = 'Vidhatri'\n",
    "my_age = 20\n",
    "my_cls = 12\n",
    "my_roll_no = 99\n",
    "my_weight = 50\n",
    "print_student_detail(my_name, my_age, my_cls, my_weight, my_roll_no)\n",
    "print_student_detail(\n",
    "    roll_no=my_roll_no, name=my_name, age=my_age, weight=my_weight, cls=my_cls\n",
    ")"
   ]
  },
  {
   "cell_type": "code",
   "execution_count": 63,
   "metadata": {},
   "outputs": [
    {
     "data": {
      "text/plain": [
       "[[1, 2, 3], [4, 5, 6]]"
      ]
     },
     "execution_count": 63,
     "metadata": {},
     "output_type": "execute_result"
    }
   ],
   "source": [
    "# matrix_a is available in `this` scope.\n",
    "# scope: `this`\n",
    "# here `this` is entire cell.\n",
    "\n",
    "matrix_a"
   ]
  }
 ],
 "metadata": {
  "kernelspec": {
   "display_name": "Python 3",
   "language": "python",
   "name": "python3"
  },
  "language_info": {
   "codemirror_mode": {
    "name": "ipython",
    "version": 3
   },
   "file_extension": ".py",
   "mimetype": "text/x-python",
   "name": "python",
   "nbconvert_exporter": "python",
   "pygments_lexer": "ipython3",
   "version": "3.12.0"
  }
 },
 "nbformat": 4,
 "nbformat_minor": 2
}

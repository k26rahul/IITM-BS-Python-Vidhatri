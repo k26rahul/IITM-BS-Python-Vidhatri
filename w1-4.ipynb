{
 "cells": [
  {
   "cell_type": "code",
   "execution_count": 1,
   "metadata": {},
   "outputs": [],
   "source": [
    "x = 10\n",
    "y = 10\n",
    "z = 10"
   ]
  },
  {
   "cell_type": "code",
   "execution_count": 2,
   "metadata": {},
   "outputs": [
    {
     "data": {
      "text/plain": [
       "True"
      ]
     },
     "execution_count": 2,
     "metadata": {},
     "output_type": "execute_result"
    }
   ],
   "source": [
    "x == y == z"
   ]
  },
  {
   "cell_type": "markdown",
   "metadata": {},
   "source": [
    "- **Case 1: Number is an integer**\n",
    "  - $ x = 10 $\n",
    "    - $ \\text{floor} = 10 $\n",
    "    - $ \\text{ceil} = 10 $\n",
    "  - $ x = -5 $\n",
    "    - $ \\text{floor} = -5 $\n",
    "    - $ \\text{ceil} = -5 $\n",
    "\n",
    "- **Case 2: Not an integer. Positive value**\n",
    "  - $ x = 5.10 $\n",
    "    - $ \\text{integer\\_part\\_of\\_x} = 5 $\n",
    "    - $ \\text{floor} = \\text{integer\\_part\\_of\\_x} = 5 $\n",
    "    - $ \\text{ceil} = \\text{integer\\_part\\_of\\_x} + 1 = 6 $\n",
    "\n",
    "- **Case 3: Not an integer. Negative value**\n",
    "  - $ x = -4.35 $\n",
    "    - $ \\text{integer\\_part\\_of\\_x} = -4 $\n",
    "    - $ \\text{floor} = \\text{integer\\_part\\_of\\_x} - 1 = -5 $\n",
    "    - $ \\text{ceil} = \\text{integer\\_part\\_of\\_x} = -4 $"
   ]
  },
  {
   "cell_type": "code",
   "execution_count": 3,
   "metadata": {},
   "outputs": [
    {
     "data": {
      "text/plain": [
       "True"
      ]
     },
     "execution_count": 3,
     "metadata": {},
     "output_type": "execute_result"
    }
   ],
   "source": [
    "x = 17\n",
    "int(x) == x"
   ]
  },
  {
   "cell_type": "code",
   "execution_count": 4,
   "metadata": {},
   "outputs": [
    {
     "data": {
      "text/plain": [
       "False"
      ]
     },
     "execution_count": 4,
     "metadata": {},
     "output_type": "execute_result"
    }
   ],
   "source": [
    "x = 17.40\n",
    "int(x) == x"
   ]
  },
  {
   "cell_type": "code",
   "execution_count": 5,
   "metadata": {},
   "outputs": [
    {
     "name": "stdout",
     "output_type": "stream",
     "text": [
      "False\n"
     ]
    }
   ],
   "source": [
    "x = 17.40\n",
    "integer_part_of_x = int(x)\n",
    "print(integer_part_of_x == x)"
   ]
  },
  {
   "cell_type": "code",
   "execution_count": 6,
   "metadata": {},
   "outputs": [
    {
     "data": {
      "text/plain": [
       "'hello'"
      ]
     },
     "execution_count": 6,
     "metadata": {},
     "output_type": "execute_result"
    },
    {
     "data": {
      "text/plain": [
       "('h', 'ell', 'o')"
      ]
     },
     "execution_count": 6,
     "metadata": {},
     "output_type": "execute_result"
    }
   ],
   "source": [
    "\"hello\"  # string\n",
    "\n",
    "\"h\", \"ell\", \"o\"  # substrings"
   ]
  },
  {
   "cell_type": "code",
   "execution_count": 7,
   "metadata": {},
   "outputs": [],
   "source": [
    "# \"qwertyuiops\"\n",
    "\n",
    "# 11\n",
    "# -3 => 8/2 => 4\n",
    "\n",
    "# 4, 3, 4\n",
    "# quer, tyu, iops"
   ]
  },
  {
   "cell_type": "code",
   "execution_count": 8,
   "metadata": {},
   "outputs": [],
   "source": [
    "# \"qwertyuiop\"\n",
    "\n",
    "# 10\n",
    "# -3 => 7/2 => 3+4 or 4+3"
   ]
  },
  {
   "cell_type": "code",
   "execution_count": 9,
   "metadata": {},
   "outputs": [],
   "source": [
    "# \"qwertyuiop\" => \"qwertyuiop.\"\n",
    "# 10           =>            11\n",
    "\n",
    "# 11\n",
    "# -3 => 8/2 => 4\n",
    "\n",
    "# 4, 3, 4\n",
    "# quer, tyu, iop."
   ]
  },
  {
   "cell_type": "code",
   "execution_count": 10,
   "metadata": {},
   "outputs": [],
   "source": [
    "# \"qwertyuio.\" => \"qwertyuio\"\n",
    "# 10           =>           9\n",
    "\n",
    "# 9\n",
    "# -3 => 6/2 => 3\n",
    "\n",
    "# 3, 3, 3\n",
    "# que, rty, iuo = qwertyuio"
   ]
  },
  {
   "cell_type": "code",
   "execution_count": 11,
   "metadata": {},
   "outputs": [
    {
     "data": {
      "text/plain": [
       "1"
      ]
     },
     "execution_count": 11,
     "metadata": {},
     "output_type": "execute_result"
    },
    {
     "data": {
      "text/plain": [
       "0"
      ]
     },
     "execution_count": 11,
     "metadata": {},
     "output_type": "execute_result"
    }
   ],
   "source": [
    "11 % 2\n",
    "10 % 2"
   ]
  },
  {
   "cell_type": "code",
   "execution_count": 12,
   "metadata": {},
   "outputs": [
    {
     "data": {
      "text/plain": [
       "2.0"
      ]
     },
     "execution_count": 12,
     "metadata": {},
     "output_type": "execute_result"
    },
    {
     "data": {
      "text/plain": [
       "2"
      ]
     },
     "execution_count": 12,
     "metadata": {},
     "output_type": "execute_result"
    }
   ],
   "source": [
    "4/2\n",
    "4//2"
   ]
  },
  {
   "cell_type": "code",
   "execution_count": 13,
   "metadata": {},
   "outputs": [],
   "source": [
    "# C3 -> 3,3\n",
    "# E5 -> 5,5\n",
    "\n",
    "# a 1\n",
    "# b 2\n",
    "# c 3\n",
    "# ..."
   ]
  },
  {
   "cell_type": "code",
   "execution_count": 14,
   "metadata": {},
   "outputs": [
    {
     "data": {
      "text/plain": [
       "True"
      ]
     },
     "execution_count": 14,
     "metadata": {},
     "output_type": "execute_result"
    }
   ],
   "source": [
    "5 - 3 == 5 - 3  # (x dir dist == y dir dist) => diag ✔️"
   ]
  },
  {
   "cell_type": "code",
   "execution_count": 15,
   "metadata": {},
   "outputs": [
    {
     "name": "stdout",
     "output_type": "stream",
     "text": [
      "YES\n"
     ]
    }
   ],
   "source": [
    "x_map = {\n",
    "    \"A\": 1,\n",
    "    \"B\": 2,\n",
    "    \"C\": 3,\n",
    "    \"D\": 4,\n",
    "    \"E\": 5,\n",
    "    \"F\": 6,\n",
    "    \"G\": 7,\n",
    "    \"H\": 8\n",
    "}\n",
    "\n",
    "start = 'C3'\n",
    "end = 'E5'\n",
    "\n",
    "y1 = int(start[1])\n",
    "y2 = int(end[1])\n",
    "\n",
    "x1 = x_map[start[0]]\n",
    "x2 = x_map[end[0]]\n",
    "\n",
    "if x1 - x2 == y1 - y2:\n",
    "  print('YES')\n",
    "else:\n",
    "  print('NO')"
   ]
  },
  {
   "cell_type": "code",
   "execution_count": 16,
   "metadata": {},
   "outputs": [],
   "source": [
    "x_map = {\n",
    "    \"A\": 1,\n",
    "    \"B\": 2,\n",
    "    \"C\": 3,\n",
    "    \"D\": 4,\n",
    "    \"E\": 5,\n",
    "    \"F\": 6,\n",
    "    \"G\": 7,\n",
    "    \"H\": 8\n",
    "}"
   ]
  },
  {
   "cell_type": "code",
   "execution_count": 17,
   "metadata": {},
   "outputs": [
    {
     "data": {
      "text/plain": [
       "3"
      ]
     },
     "execution_count": 17,
     "metadata": {},
     "output_type": "execute_result"
    }
   ],
   "source": [
    "letter = 'C'\n",
    "x_map[letter]"
   ]
  },
  {
   "cell_type": "code",
   "execution_count": 18,
   "metadata": {},
   "outputs": [
    {
     "data": {
      "text/plain": [
       "10"
      ]
     },
     "execution_count": 18,
     "metadata": {},
     "output_type": "execute_result"
    }
   ],
   "source": [
    "k = [10, 20, 30, 40]\n",
    "k[0]"
   ]
  },
  {
   "cell_type": "code",
   "execution_count": 19,
   "metadata": {},
   "outputs": [],
   "source": [
    "scores = {\n",
    "    'Rahul': 90,\n",
    "    'Vidhatri': 94,\n",
    "    'CMD': 10\n",
    "}"
   ]
  },
  {
   "cell_type": "code",
   "execution_count": 20,
   "metadata": {},
   "outputs": [
    {
     "data": {
      "text/plain": [
       "90"
      ]
     },
     "execution_count": 20,
     "metadata": {},
     "output_type": "execute_result"
    },
    {
     "data": {
      "text/plain": [
       "94"
      ]
     },
     "execution_count": 20,
     "metadata": {},
     "output_type": "execute_result"
    }
   ],
   "source": [
    "scores['Rahul']\n",
    "scores['Vidhatri']"
   ]
  },
  {
   "cell_type": "code",
   "execution_count": 21,
   "metadata": {},
   "outputs": [
    {
     "name": "stdout",
     "output_type": "stream",
     "text": [
      "YES\n"
     ]
    }
   ],
   "source": [
    "start = 'C3'\n",
    "end = 'E5'\n",
    "\n",
    "y1 = int(start[1])\n",
    "y2 = int(end[1])\n",
    "\n",
    "x1 = ord(start[0]) - 64\n",
    "x2 = ord(end[0]) - 64\n",
    "\n",
    "if x1 - x2 == y1 - y2:\n",
    "  print('YES')\n",
    "else:\n",
    "  print('NO')"
   ]
  },
  {
   "cell_type": "code",
   "execution_count": 22,
   "metadata": {},
   "outputs": [
    {
     "data": {
      "text/plain": [
       "1"
      ]
     },
     "execution_count": 22,
     "metadata": {},
     "output_type": "execute_result"
    },
    {
     "data": {
      "text/plain": [
       "2"
      ]
     },
     "execution_count": 22,
     "metadata": {},
     "output_type": "execute_result"
    },
    {
     "data": {
      "text/plain": [
       "3"
      ]
     },
     "execution_count": 22,
     "metadata": {},
     "output_type": "execute_result"
    }
   ],
   "source": [
    "# ord: letter => number\n",
    "ord('A') - 64  # 1\n",
    "ord('B') - 64  # 2\n",
    "ord('C') - 64  # 3"
   ]
  },
  {
   "cell_type": "code",
   "execution_count": 23,
   "metadata": {},
   "outputs": [
    {
     "data": {
      "text/plain": [
       "'C'"
      ]
     },
     "execution_count": 23,
     "metadata": {},
     "output_type": "execute_result"
    },
    {
     "data": {
      "text/plain": [
       "'E'"
      ]
     },
     "execution_count": 23,
     "metadata": {},
     "output_type": "execute_result"
    }
   ],
   "source": [
    "start = 'C3'\n",
    "end = 'E5'\n",
    "\n",
    "start[0]\n",
    "end[0]"
   ]
  },
  {
   "cell_type": "code",
   "execution_count": 24,
   "metadata": {},
   "outputs": [
    {
     "data": {
      "text/plain": [
       "'3'"
      ]
     },
     "execution_count": 24,
     "metadata": {},
     "output_type": "execute_result"
    },
    {
     "data": {
      "text/plain": [
       "3"
      ]
     },
     "execution_count": 24,
     "metadata": {},
     "output_type": "execute_result"
    },
    {
     "data": {
      "text/plain": [
       "'5'"
      ]
     },
     "execution_count": 24,
     "metadata": {},
     "output_type": "execute_result"
    },
    {
     "data": {
      "text/plain": [
       "5"
      ]
     },
     "execution_count": 24,
     "metadata": {},
     "output_type": "execute_result"
    }
   ],
   "source": [
    "start[1]\n",
    "int(start[1])\n",
    "\n",
    "end[1]\n",
    "int(end[1])"
   ]
  },
  {
   "cell_type": "code",
   "execution_count": 25,
   "metadata": {},
   "outputs": [
    {
     "name": "stdout",
     "output_type": "stream",
     "text": [
      "hello\n"
     ]
    }
   ],
   "source": [
    "cond = 2 > 1\n",
    "\n",
    "if cond:\n",
    "  print('hello')"
   ]
  },
  {
   "attachments": {
    "image.png": {
     "image/png": "[encoded data removed]"
    }
   },
   "cell_type": "markdown",
   "metadata": {},
   "source": [
    "![image.png](attachment:image.png)"
   ]
  },
  {
   "cell_type": "code",
   "execution_count": 26,
   "metadata": {},
   "outputs": [
    {
     "name": "stdout",
     "output_type": "stream",
     "text": [
      "It is a perfect word\n"
     ]
    }
   ],
   "source": [
    "# word = 'and'\n",
    "word = 'aeious'\n",
    "\n",
    "all_vowels_present_cond = 'a' in word and 'e' in word and 'i' in word and 'o' in word and 'u' in word\n",
    "first_appearance_cond = False\n",
    "count_cond = False\n",
    "\n",
    "if all_vowels_present_cond:\n",
    "  first_appearance_cond = word.index('a') < word.index('e') < word.index('i') \\\n",
    "      < word.index('o') < word.index('u')\n",
    "\n",
    "  count_cond = word.count('a') >= word.count('e') >= word.count('i') \\\n",
    "      >= word.count('o') >= word.count('u')\n",
    "\n",
    "if all_vowels_present_cond and first_appearance_cond and count_cond:\n",
    "  print('It is a perfect word')\n",
    "else:\n",
    "  print('It is not a perfect word')"
   ]
  },
  {
   "cell_type": "code",
   "execution_count": 27,
   "metadata": {},
   "outputs": [
    {
     "data": {
      "text/plain": [
       "0"
      ]
     },
     "execution_count": 27,
     "metadata": {},
     "output_type": "execute_result"
    }
   ],
   "source": [
    "word.index('a')  # first appearance of letter"
   ]
  },
  {
   "cell_type": "code",
   "execution_count": 28,
   "metadata": {},
   "outputs": [],
   "source": [
    "word = 'apple'\n",
    "\n",
    "if 'o' in word:\n",
    "  print(word.index('o'))"
   ]
  },
  {
   "cell_type": "code",
   "execution_count": 29,
   "metadata": {},
   "outputs": [
    {
     "name": "stdout",
     "output_type": "stream",
     "text": [
      "[69, 9, 11, 5]\n",
      "[5, 9, 11, 69]\n"
     ]
    }
   ],
   "source": [
    "n1 = 69\n",
    "n2 = 9\n",
    "n3 = 11\n",
    "n4 = 5\n",
    "\n",
    "k = [n1, n2, n3, n4]\n",
    "print(k)\n",
    "\n",
    "k.sort()\n",
    "print(k)"
   ]
  },
  {
   "cell_type": "code",
   "execution_count": 30,
   "metadata": {},
   "outputs": [
    {
     "name": "stdout",
     "output_type": "stream",
     "text": [
      "[69, 9, 11, 5]\n",
      "[5, 9, 11, 69]\n"
     ]
    }
   ],
   "source": [
    "n1 = 69\n",
    "n2 = 9\n",
    "n3 = 11\n",
    "n4 = 5\n",
    "\n",
    "k = [n1, n2, n3, n4]\n",
    "print(k)\n",
    "\n",
    "k = sorted(k)\n",
    "print(k)"
   ]
  },
  {
   "cell_type": "code",
   "execution_count": 31,
   "metadata": {},
   "outputs": [
    {
     "data": {
      "text/plain": [
       "[5, 9, 11, 69]"
      ]
     },
     "execution_count": 31,
     "metadata": {},
     "output_type": "execute_result"
    }
   ],
   "source": [
    "n1 = 69\n",
    "n2 = 9\n",
    "n3 = 11\n",
    "n4 = 5\n",
    "\n",
    "sorted([n1, n2, n3, n4])"
   ]
  },
  {
   "cell_type": "code",
   "execution_count": 32,
   "metadata": {},
   "outputs": [
    {
     "name": "stdout",
     "output_type": "stream",
     "text": [
      "5 9 11 69\n"
     ]
    }
   ],
   "source": [
    "# n1 = 40\n",
    "# n2 = 30\n",
    "# n3 = 20\n",
    "# n4 = 10\n",
    "\n",
    "n1 = 69\n",
    "n2 = 9\n",
    "n3 = 11\n",
    "n4 = 5\n",
    "\n",
    "# Deal n2 (move it to correct location)\n",
    "\n",
    "# n1 < n2 (assume)\n",
    "if n1 > n2:\n",
    "  n1, n2 = n2, n1\n",
    "\n",
    "# Deal n3 (move it to correct location)\n",
    "\n",
    "# n2 < n3 (assume)\n",
    "if n2 > n3:\n",
    "  n2, n3 = n3, n2\n",
    "\n",
    "# n1 < n2 (assume)\n",
    "if n1 > n2:\n",
    "  n1, n2 = n2, n1\n",
    "\n",
    "# Deal n4 (move it to correct location)\n",
    "\n",
    "# n3 < n4 (assume)\n",
    "if n3 > n4:\n",
    "  n3, n4 = n4, n3\n",
    "\n",
    "# n2 < n3 (assume)\n",
    "if n2 > n3:\n",
    "  n2, n3 = n3, n2\n",
    "\n",
    "# n1 < n2 (assume)\n",
    "if n1 > n2:\n",
    "  n1, n2 = n2, n1\n",
    "\n",
    "# 10, 20, 30, 40 <= this is what we need to print\n",
    "print(n1, n2, n3, n4)  # <= this works only if we got the golden input"
   ]
  },
  {
   "cell_type": "code",
   "execution_count": 33,
   "metadata": {},
   "outputs": [
    {
     "name": "stdout",
     "output_type": "stream",
     "text": [
      "10 20\n",
      "20 10\n"
     ]
    }
   ],
   "source": [
    "a = 10\n",
    "b = 20\n",
    "\n",
    "print(a, b)\n",
    "\n",
    "a, b = b, a\n",
    "\n",
    "print(a, b)"
   ]
  },
  {
   "cell_type": "code",
   "execution_count": 34,
   "metadata": {},
   "outputs": [
    {
     "name": "stdout",
     "output_type": "stream",
     "text": [
      "False\n",
      "True\n"
     ]
    }
   ],
   "source": [
    "# a > b (assume this to be always true, no matters the input)\n",
    "a = 10\n",
    "b = 20\n",
    "\n",
    "print(a > b)\n",
    "\n",
    "if a < b:\n",
    "  a, b = b, a\n",
    "\n",
    "print(a > b)"
   ]
  },
  {
   "cell_type": "code",
   "execution_count": 35,
   "metadata": {},
   "outputs": [
    {
     "name": "stdout",
     "output_type": "stream",
     "text": [
      "1\n",
      "5\n",
      "9\n"
     ]
    }
   ],
   "source": [
    "# range(start, stop, step)\n",
    "\n",
    "# start (include)\n",
    "# stop (excluded)\n",
    "# step (step/jump size, default=1)\n",
    "\n",
    "# range(n) [0 to (n-1)]\n",
    "# range(5, n) [5 to (n-1), pick every value] [5, 6, 7...]\n",
    "# range(5, n, 2) [5 to (n-1), pick every 2nd value] [5, 7, 9...]\n",
    "# range(5, n, 3) [5 to (n-1), pick every 3rd value] [5, 8, 11...]\n",
    "\n",
    "for i in range(1, 11, 4):\n",
    "  print(i)"
   ]
  },
  {
   "cell_type": "code",
   "execution_count": 36,
   "metadata": {},
   "outputs": [
    {
     "name": "stdout",
     "output_type": "stream",
     "text": [
      "1 1\n",
      "1 2\n",
      "1 3\n",
      "2 1\n",
      "2 2\n",
      "2 3\n",
      "3 1\n",
      "3 2\n",
      "3 3\n"
     ]
    }
   ],
   "source": [
    "# [11,12,13]\n",
    "# [21,22,23]\n",
    "# [31,32,33]\n",
    "\n",
    "# nested loop example\n",
    "for i in range(1, 4):\n",
    "  for j in range(1, 4):\n",
    "    print(i, j)"
   ]
  },
  {
   "cell_type": "code",
   "execution_count": 37,
   "metadata": {},
   "outputs": [
    {
     "name": "stdout",
     "output_type": "stream",
     "text": [
      "1\n",
      "2\n",
      "3\n",
      "4\n",
      "6\n",
      "7\n",
      "8\n",
      "10\n"
     ]
    }
   ],
   "source": [
    "# 1-10, [not 5, 9]\n",
    "\n",
    "for i in range(1, 11):\n",
    "  if i == 5 or i == 9:\n",
    "    continue  # skip to next itr, don't go further in loop\n",
    "  print(i)"
   ]
  },
  {
   "cell_type": "code",
   "execution_count": 38,
   "metadata": {},
   "outputs": [],
   "source": [
    "# pass simply does nothing,\n",
    "# while continue goes on with the next loop iteration\n",
    "for i in range(5):\n",
    "  pass  # do nothing"
   ]
  },
  {
   "cell_type": "code",
   "execution_count": 39,
   "metadata": {},
   "outputs": [],
   "source": [
    "n = 15\n",
    "\n",
    "# 3,4,5\n",
    "# 5,12,13\n",
    "# 6,8,10"
   ]
  },
  {
   "cell_type": "code",
   "execution_count": 40,
   "metadata": {},
   "outputs": [
    {
     "name": "stdout",
     "output_type": "stream",
     "text": [
      "1\n",
      "2\n",
      "3\n",
      "4\n",
      "5\n",
      "6\n",
      "7\n",
      "8\n",
      "9\n",
      "10\n",
      "11\n",
      "12\n"
     ]
    }
   ],
   "source": [
    "for x in range(1, n-2):\n",
    "  print(x)\n",
    "\n",
    "# (x = 12, y = 13, z = 14) < 15\n",
    "# (x = 13, y = 14, z = 15) < 15 ❌"
   ]
  },
  {
   "cell_type": "code",
   "execution_count": 41,
   "metadata": {},
   "outputs": [
    {
     "name": "stdout",
     "output_type": "stream",
     "text": [
      "10\n",
      "11\n",
      "12\n",
      "13\n"
     ]
    }
   ],
   "source": [
    "x = 9\n",
    "\n",
    "for y in range(x+1, n-1):\n",
    "  print(y)\n",
    "\n",
    "# (x = 9, y = 13, z = 14) < 15\n",
    "# (x = 9, y = 14, z = 15) < 15 ❌"
   ]
  },
  {
   "cell_type": "code",
   "execution_count": 42,
   "metadata": {},
   "outputs": [
    {
     "name": "stdout",
     "output_type": "stream",
     "text": [
      "12\n",
      "13\n",
      "14\n"
     ]
    }
   ],
   "source": [
    "y = 11\n",
    "\n",
    "for z in range(y+1, n):\n",
    "  print(z)\n",
    "\n",
    "# (y = 11, z = 14) < 15\n",
    "# (y = 11, z = 15) < 15 ❌"
   ]
  },
  {
   "cell_type": "code",
   "execution_count": 43,
   "metadata": {},
   "outputs": [
    {
     "name": "stdout",
     "output_type": "stream",
     "text": [
      "3, 4, 5\n",
      "5, 12, 13\n",
      "6, 8, 10\n"
     ]
    }
   ],
   "source": [
    "for x in range(1, n-2):\n",
    "  for y in range(x+1, n-1):\n",
    "    for z in range(y+1, n):\n",
    "      eq = x**2 + y**2 == z**2\n",
    "      if eq:\n",
    "        print(f'{x}, {y}, {z}')"
   ]
  },
  {
   "cell_type": "code",
   "execution_count": 44,
   "metadata": {},
   "outputs": [
    {
     "data": {
      "text/plain": [
       "4"
      ]
     },
     "execution_count": 44,
     "metadata": {},
     "output_type": "execute_result"
    },
    {
     "data": {
      "text/plain": [
       "4"
      ]
     },
     "execution_count": 44,
     "metadata": {},
     "output_type": "execute_result"
    }
   ],
   "source": [
    "2+2\n",
    "2+2"
   ]
  },
  {
   "cell_type": "code",
   "execution_count": 45,
   "metadata": {},
   "outputs": [],
   "source": [
    "string_1 = 'aeiou'\n",
    "string_2 = 'this is a python program'"
   ]
  },
  {
   "cell_type": "code",
   "execution_count": 46,
   "metadata": {},
   "outputs": [
    {
     "name": "stdout",
     "output_type": "stream",
     "text": [
      "ths s  pythn prgrm\n"
     ]
    }
   ],
   "source": [
    "new_string = ''\n",
    "\n",
    "for letter in string_2:\n",
    "  if letter in string_1:\n",
    "    continue\n",
    "  new_string += letter\n",
    "\n",
    "print(new_string)"
   ]
  },
  {
   "cell_type": "code",
   "execution_count": 47,
   "metadata": {},
   "outputs": [
    {
     "name": "stdout",
     "output_type": "stream",
     "text": [
      "PALINDROME\n"
     ]
    }
   ],
   "source": [
    "word = 'malayalam'\n",
    "n = len(word)\n",
    "half = (n-1)//2\n",
    "\n",
    "is_palindrome = True\n",
    "\n",
    "for i in range(n):\n",
    "  if i == half:\n",
    "    break\n",
    "  if not word[i] == word[n-i-1]:\n",
    "    is_palindrome = False\n",
    "\n",
    "# i,   n-i [n=6]\n",
    "# 0,   6\n",
    "# 1,   5\n",
    "# 2,   4\n",
    "\n",
    "if is_palindrome:\n",
    "  print('PALINDROME')\n",
    "else:\n",
    "  print('NOT PALINDROME')"
   ]
  },
  {
   "cell_type": "code",
   "execution_count": 48,
   "metadata": {},
   "outputs": [
    {
     "name": "stdout",
     "output_type": "stream",
     "text": [
      "Not Coprime\n"
     ]
    }
   ],
   "source": [
    "x = 20\n",
    "y = 40\n",
    "\n",
    "is_coprime = True\n",
    "\n",
    "for i in range(2, min(x, y)+1):\n",
    "  # print(f'{i=}')\n",
    "\n",
    "  if x % i == 0 and y % i == 0:\n",
    "    # print('got a factor', i)\n",
    "    is_coprime = False\n",
    "\n",
    "if is_coprime:\n",
    "  print('Coprime')\n",
    "else:\n",
    "  print('Not Coprime')"
   ]
  },
  {
   "cell_type": "code",
   "execution_count": 49,
   "metadata": {},
   "outputs": [
    {
     "name": "stdout",
     "output_type": "stream",
     "text": [
      "float\n"
     ]
    }
   ],
   "source": [
    "word = '0.09'\n",
    "\n",
    "digits = '0123456789.'\n",
    "\n",
    "is_number = True\n",
    "\n",
    "for letter in word:\n",
    "  if letter not in digits:\n",
    "    is_number = False\n",
    "\n",
    "if not is_number:\n",
    "  print(None)\n",
    "else:\n",
    "  if '.' in word:\n",
    "    print('float')\n",
    "  else:\n",
    "    print('int')"
   ]
  },
  {
   "cell_type": "code",
   "execution_count": 50,
   "metadata": {},
   "outputs": [
    {
     "data": {
      "text/plain": [
       "'1,2,3'"
      ]
     },
     "execution_count": 50,
     "metadata": {},
     "output_type": "execute_result"
    },
    {
     "name": "stdout",
     "output_type": "stream",
     "text": [
      "1\n",
      ",\n",
      "2\n",
      ",\n",
      "3\n"
     ]
    }
   ],
   "source": [
    "'1,2,3'\n",
    "\n",
    "for x in '1,2,3':\n",
    "  print(x)"
   ]
  },
  {
   "cell_type": "code",
   "execution_count": 51,
   "metadata": {},
   "outputs": [
    {
     "data": {
      "text/plain": [
       "[1, 2, 3]"
      ]
     },
     "execution_count": 51,
     "metadata": {},
     "output_type": "execute_result"
    },
    {
     "name": "stdout",
     "output_type": "stream",
     "text": [
      "1\n",
      "2\n",
      "3\n"
     ]
    }
   ],
   "source": [
    "[1, 2, 3]\n",
    "\n",
    "for x in [1, 2, 3]:\n",
    "  print(x)"
   ]
  },
  {
   "cell_type": "code",
   "execution_count": 52,
   "metadata": {},
   "outputs": [
    {
     "data": {
      "text/plain": [
       "['apple', 'boat', 'banana']"
      ]
     },
     "execution_count": 52,
     "metadata": {},
     "output_type": "execute_result"
    }
   ],
   "source": [
    "'apple~boat~banana'.split('~')"
   ]
  },
  {
   "cell_type": "code",
   "execution_count": 53,
   "metadata": {},
   "outputs": [
    {
     "data": {
      "text/plain": [
       "['1', '2', '3']"
      ]
     },
     "execution_count": 53,
     "metadata": {},
     "output_type": "execute_result"
    }
   ],
   "source": [
    "'1,2,3'.split(',')"
   ]
  },
  {
   "cell_type": "code",
   "execution_count": 54,
   "metadata": {},
   "outputs": [
    {
     "data": {
      "text/plain": [
       "[1, 2, 3]"
      ]
     },
     "execution_count": 54,
     "metadata": {},
     "output_type": "execute_result"
    },
    {
     "data": {
      "text/plain": [
       "['1', '2', '3']"
      ]
     },
     "execution_count": 54,
     "metadata": {},
     "output_type": "execute_result"
    }
   ],
   "source": [
    "[1, 2, 3]\n",
    "\n",
    "['1', '2', '3']"
   ]
  },
  {
   "cell_type": "code",
   "execution_count": 55,
   "metadata": {},
   "outputs": [
    {
     "data": {
      "text/plain": [
       "[1, 2, 3]"
      ]
     },
     "execution_count": 55,
     "metadata": {},
     "output_type": "execute_result"
    }
   ],
   "source": [
    "list(map(int, ['1', '2', '3']))"
   ]
  },
  {
   "cell_type": "code",
   "execution_count": 56,
   "metadata": {},
   "outputs": [
    {
     "data": {
      "text/plain": [
       "[1, 2, 3]"
      ]
     },
     "execution_count": 56,
     "metadata": {},
     "output_type": "execute_result"
    }
   ],
   "source": [
    "list(map(int, '1,2,3'.split(',')))"
   ]
  },
  {
   "cell_type": "code",
   "execution_count": 57,
   "metadata": {},
   "outputs": [],
   "source": [
    "# mala y alam h=5, 1-4\n",
    "#      ^\n",
    "# ab ba h=3, 1-2\n",
    "#    ^"
   ]
  },
  {
   "cell_type": "code",
   "execution_count": 58,
   "metadata": {},
   "outputs": [
    {
     "name": "stdout",
     "output_type": "stream",
     "text": [
      "PALINDROME\n"
     ]
    }
   ],
   "source": [
    "word = 'malayalam'\n",
    "\n",
    "reverse = ''\n",
    "\n",
    "for letter in word:\n",
    "  reverse = letter + reverse\n",
    "  # print(f'{reverse=}')\n",
    "\n",
    "if reverse == word:\n",
    "  print('PALINDROME')\n",
    "else:\n",
    "  print('NOT PALINDROME')"
   ]
  },
  {
   "cell_type": "code",
   "execution_count": 59,
   "metadata": {},
   "outputs": [
    {
     "data": {
      "text/plain": [
       "True"
      ]
     },
     "execution_count": 59,
     "metadata": {},
     "output_type": "execute_result"
    }
   ],
   "source": [
    "word = 'malayalam'\n",
    "\n",
    "reverse_word_list = list(word)\n",
    "reverse_word_list.reverse()\n",
    "\n",
    "reverse_word_list == list(word)"
   ]
  },
  {
   "cell_type": "code",
   "execution_count": 60,
   "metadata": {},
   "outputs": [
    {
     "data": {
      "text/plain": [
       "True"
      ]
     },
     "execution_count": 60,
     "metadata": {},
     "output_type": "execute_result"
    }
   ],
   "source": [
    "word = 'malayalam'\n",
    "\n",
    "# reversed = None\n",
    "\n",
    "list(reversed(list(word))) == list(word)"
   ]
  },
  {
   "cell_type": "markdown",
   "metadata": {},
   "source": [
    "<!-- Both the strings are in ascending order -->\n",
    "23457899\n",
    "2678\n",
    "^\n",
    "\n",
    "1"
   ]
  },
  {
   "cell_type": "code",
   "execution_count": 61,
   "metadata": {},
   "outputs": [
    {
     "name": "stdout",
     "output_type": "stream",
     "text": [
      "1,3,4,10\n"
     ]
    }
   ],
   "source": [
    "word = '1.2 3.9 4.2 10.0'\n",
    "numbers = list(map(float, word.split(' ')))\n",
    "\n",
    "k = []\n",
    "for number in numbers:\n",
    "  k.append(str(int(number)))\n",
    "\n",
    "# for i in range(len(k)):\n",
    "#   k[i] = str(k[i])\n",
    "\n",
    "# print(f'{k=}')\n",
    "# k=[1, 3, 4, 10] ❌ join\n",
    "# k=['1', '3', '4', '10']  ✔️ join\n",
    "\n",
    "print(','.join(k))"
   ]
  },
  {
   "cell_type": "code",
   "execution_count": 62,
   "metadata": {},
   "outputs": [
    {
     "name": "stdout",
     "output_type": "stream",
     "text": [
      "1,3,4,10\n"
     ]
    }
   ],
   "source": [
    "word = '1.2 3.9 4.2 10.0'\n",
    "numbers = list(map(float, word.split(' ')))\n",
    "\n",
    "k = []\n",
    "for number in numbers:\n",
    "  k.append(str(int(number)))\n",
    "\n",
    "print(','.join(k))"
   ]
  },
  {
   "cell_type": "code",
   "execution_count": 63,
   "metadata": {},
   "outputs": [
    {
     "data": {
      "text/plain": [
       "'apple⭐ball⭐fox⭐8'"
      ]
     },
     "execution_count": 63,
     "metadata": {},
     "output_type": "execute_result"
    }
   ],
   "source": [
    "k = ['apple', 'ball', 'fox', str(8)]  # all el must be strs\n",
    "\n",
    "# str.join(list)\n",
    "'⭐'.join(k)"
   ]
  },
  {
   "cell_type": "code",
   "execution_count": 64,
   "metadata": {},
   "outputs": [
    {
     "data": {
      "text/plain": [
       "'1-2-3'"
      ]
     },
     "execution_count": 64,
     "metadata": {},
     "output_type": "execute_result"
    }
   ],
   "source": [
    "k = [str(1), str(2), str(3)]\n",
    "\n",
    "'-'.join(k)"
   ]
  },
  {
   "cell_type": "code",
   "execution_count": 65,
   "metadata": {},
   "outputs": [
    {
     "data": {
      "text/plain": [
       "'1-2-3'"
      ]
     },
     "execution_count": 65,
     "metadata": {},
     "output_type": "execute_result"
    }
   ],
   "source": [
    "k = [1, 2, 3]\n",
    "\n",
    "for i in range(len(k)):\n",
    "  k[i] = str(k[i])\n",
    "\n",
    "'-'.join(k)"
   ]
  },
  {
   "cell_type": "code",
   "execution_count": 66,
   "metadata": {},
   "outputs": [
    {
     "data": {
      "text/plain": [
       "['vidhatri', 'rahul', 'sanika', 'harikesh']"
      ]
     },
     "execution_count": 66,
     "metadata": {},
     "output_type": "execute_result"
    },
    {
     "data": {
      "text/plain": [
       "['hello vidhatri', 'hello rahul', 'hello sanika', 'hello harikesh']"
      ]
     },
     "execution_count": 66,
     "metadata": {},
     "output_type": "execute_result"
    }
   ],
   "source": [
    "# simple loop\n",
    "\n",
    "names = ['vidhatri', 'rahul', 'sanika', 'harikesh']\n",
    "\n",
    "new_names = []\n",
    "for name in names:\n",
    "  new_names.append(f'hello {name}')\n",
    "\n",
    "names\n",
    "new_names"
   ]
  },
  {
   "cell_type": "code",
   "execution_count": 67,
   "metadata": {},
   "outputs": [
    {
     "data": {
      "text/plain": [
       "['vidhatri', 'rahul', 'sanika', 'harikesh']"
      ]
     },
     "execution_count": 67,
     "metadata": {},
     "output_type": "execute_result"
    },
    {
     "data": {
      "text/plain": [
       "['hello vidhatri', 'hello rahul', 'hello sanika', 'hello harikesh']"
      ]
     },
     "execution_count": 67,
     "metadata": {},
     "output_type": "execute_result"
    }
   ],
   "source": [
    "# list comprehension\n",
    "\n",
    "names = ['vidhatri', 'rahul', 'sanika', 'harikesh']\n",
    "new_names = [f'hello {name}' for name in names]\n",
    "\n",
    "names\n",
    "new_names"
   ]
  },
  {
   "cell_type": "code",
   "execution_count": 68,
   "metadata": {},
   "outputs": [
    {
     "name": "stdout",
     "output_type": "stream",
     "text": [
      "[1, 4, 9, 16, 25, 36, 49, 64, 81, 100]\n"
     ]
    }
   ],
   "source": [
    "sq_list = []\n",
    "\n",
    "for i in range(1, 10+1):\n",
    "  sq_list.append(i**2)\n",
    "\n",
    "print(sq_list)"
   ]
  },
  {
   "cell_type": "code",
   "execution_count": 69,
   "metadata": {},
   "outputs": [
    {
     "name": "stdout",
     "output_type": "stream",
     "text": [
      "[1, 4, 9, 16, 25, 36, 49, 64, 81, 100]\n"
     ]
    }
   ],
   "source": [
    "sq_list = [i**2 for i in range(1, 10+1)]\n",
    "\n",
    "print(sq_list)"
   ]
  },
  {
   "cell_type": "code",
   "execution_count": 70,
   "metadata": {},
   "outputs": [
    {
     "data": {
      "text/plain": [
       "[1, 4, 9, 16, 25, 36, 49, 64, 81, 100]"
      ]
     },
     "execution_count": 70,
     "metadata": {},
     "output_type": "execute_result"
    }
   ],
   "source": [
    "[i**2 for i in range(1, 11)]"
   ]
  },
  {
   "cell_type": "code",
   "execution_count": 71,
   "metadata": {},
   "outputs": [
    {
     "data": {
      "text/plain": [
       "['apple⭐', 'ball⭐', 'cat⭐']"
      ]
     },
     "execution_count": 71,
     "metadata": {},
     "output_type": "execute_result"
    }
   ],
   "source": [
    "[word + '⭐' for word in ('apple', 'ball', 'cat')]"
   ]
  },
  {
   "cell_type": "code",
   "execution_count": 72,
   "metadata": {},
   "outputs": [
    {
     "data": {
      "text/plain": [
       "[100]"
      ]
     },
     "execution_count": 72,
     "metadata": {},
     "output_type": "execute_result"
    }
   ],
   "source": [
    "[i**2 for i in range(1, 11) if i == 10]"
   ]
  },
  {
   "cell_type": "code",
   "execution_count": 73,
   "metadata": {},
   "outputs": [],
   "source": [
    "# [APPEND_VAL for i in range(1, 11) if CONDITION]\n",
    "# [APPEND_VAL FOR LOOP IF CONDITION]"
   ]
  },
  {
   "cell_type": "code",
   "execution_count": 74,
   "metadata": {},
   "outputs": [],
   "source": [
    "n = 3\n",
    "\n",
    "row = []\n",
    "for x in range(1, n+1):\n",
    "  row.append(x)"
   ]
  },
  {
   "cell_type": "code",
   "execution_count": 75,
   "metadata": {},
   "outputs": [
    {
     "data": {
      "text/plain": [
       "True"
      ]
     },
     "execution_count": 75,
     "metadata": {},
     "output_type": "execute_result"
    },
    {
     "data": {
      "text/plain": [
       "False"
      ]
     },
     "execution_count": 75,
     "metadata": {},
     "output_type": "execute_result"
    },
    {
     "data": {
      "text/plain": [
       "True"
      ]
     },
     "execution_count": 75,
     "metadata": {},
     "output_type": "execute_result"
    }
   ],
   "source": [
    "k1 = [1, 2, 3]\n",
    "k2 = [1, 2, 3]\n",
    "\n",
    "k1 == k2  # element wise equal check (just check if all elems are same)\n",
    "k1 is k2  # reference check (both lists are defined independently)\n",
    "\n",
    "# True (bcz both lists are same in the sense of definition/declaration)\n",
    "k1 is k1"
   ]
  },
  {
   "cell_type": "code",
   "execution_count": 76,
   "metadata": {},
   "outputs": [],
   "source": [
    "# k1[0] = 45\n",
    "# mat = [k1, k1, k1]\n",
    "# mat"
   ]
  },
  {
   "cell_type": "code",
   "execution_count": 77,
   "metadata": {},
   "outputs": [
    {
     "data": {
      "text/plain": [
       "[[1, 2, 3], [1, 2, 3], [1, 2, 3]]"
      ]
     },
     "execution_count": 77,
     "metadata": {},
     "output_type": "execute_result"
    },
    {
     "data": {
      "text/plain": [
       "True"
      ]
     },
     "execution_count": 77,
     "metadata": {},
     "output_type": "execute_result"
    }
   ],
   "source": [
    "# ❌\n",
    "\n",
    "n = 3\n",
    "\n",
    "zero_matrix = []\n",
    "\n",
    "row = [x for x in range(1, n+1)]\n",
    "\n",
    "for _ in range(1, n+1):\n",
    "  zero_matrix.append(row)\n",
    "\n",
    "zero_matrix\n",
    "zero_matrix[0] is zero_matrix[1]  # 💀 both rows same WTH!!! 💀"
   ]
  },
  {
   "cell_type": "code",
   "execution_count": 78,
   "metadata": {},
   "outputs": [
    {
     "data": {
      "text/plain": [
       "[[1, 2, 3], [1, 2, 3], [1, 2, 3]]"
      ]
     },
     "execution_count": 78,
     "metadata": {},
     "output_type": "execute_result"
    },
    {
     "data": {
      "text/plain": [
       "False"
      ]
     },
     "execution_count": 78,
     "metadata": {},
     "output_type": "execute_result"
    }
   ],
   "source": [
    "# ✅\n",
    "\n",
    "n = 3\n",
    "\n",
    "zero_matrix = []\n",
    "\n",
    "for _ in range(1, n+1):\n",
    "  row = [x for x in range(1, n+1)]\n",
    "  zero_matrix.append(row)\n",
    "\n",
    "zero_matrix\n",
    "zero_matrix[0] is zero_matrix[1]  # 💚 both rows are uniq 🤗"
   ]
  },
  {
   "cell_type": "code",
   "execution_count": 79,
   "metadata": {},
   "outputs": [
    {
     "data": {
      "text/plain": [
       "[[0, 0, 0], [0, 0, 0], [0, 0, 0]]"
      ]
     },
     "execution_count": 79,
     "metadata": {},
     "output_type": "execute_result"
    },
    {
     "data": {
      "text/plain": [
       "True"
      ]
     },
     "execution_count": 79,
     "metadata": {},
     "output_type": "execute_result"
    }
   ],
   "source": [
    "# ❌\n",
    "\n",
    "n = 3\n",
    "\n",
    "row = [0 for _ in range(1, n+1)]\n",
    "zero_matrix = [row for _ in range(1, n+1)]\n",
    "\n",
    "zero_matrix\n",
    "zero_matrix[0] is zero_matrix[1]  # 💀 both rows same WTH!!! 💀"
   ]
  },
  {
   "cell_type": "code",
   "execution_count": 80,
   "metadata": {},
   "outputs": [
    {
     "data": {
      "text/plain": [
       "[[0, 0, 0], [0, 0, 0], [0, 0, 0]]"
      ]
     },
     "execution_count": 80,
     "metadata": {},
     "output_type": "execute_result"
    },
    {
     "data": {
      "text/plain": [
       "False"
      ]
     },
     "execution_count": 80,
     "metadata": {},
     "output_type": "execute_result"
    }
   ],
   "source": [
    "# ✅\n",
    "\n",
    "n = 3\n",
    "zero_matrix = [\n",
    "    [0 for _ in range(1, n+1)]\n",
    "    for _ in range(1, n+1)\n",
    "]\n",
    "\n",
    "zero_matrix\n",
    "zero_matrix[0] is zero_matrix[1]  # 💚 both rows are uniq 🤗"
   ]
  },
  {
   "cell_type": "code",
   "execution_count": 81,
   "metadata": {},
   "outputs": [
    {
     "name": "stdout",
     "output_type": "stream",
     "text": [
      "i=0 j=0\n",
      "diag pair found.\n",
      "i=0 j=1\n",
      "i=0 j=2\n",
      "i=1 j=0\n",
      "i=1 j=1\n",
      "diag pair found.\n",
      "i=1 j=2\n",
      "i=2 j=0\n",
      "i=2 j=1\n",
      "i=2 j=2\n",
      "diag pair found.\n",
      "zero_matrix=[[1, 0, 0], [0, 1, 0], [0, 0, 1]]\n"
     ]
    }
   ],
   "source": [
    "for i in range(n):\n",
    "  for j in range(n):\n",
    "    print(f'{i=} {j=}')\n",
    "    if i == j:\n",
    "      print('diag pair found.')\n",
    "      zero_matrix[i][j] = 1\n",
    "\n",
    "print(f'{zero_matrix=}')"
   ]
  },
  {
   "cell_type": "code",
   "execution_count": 5,
   "metadata": {},
   "outputs": [
    {
     "data": {
      "text/plain": [
       "5.2"
      ]
     },
     "execution_count": 5,
     "metadata": {},
     "output_type": "execute_result"
    }
   ],
   "source": [
    "float('5.2')"
   ]
  },
  {
   "attachments": {
    "image.png": {
     "image/png": "[encoded data removed]"
    }
   },
   "cell_type": "markdown",
   "metadata": {},
   "source": [
    "![image.png](attachment:image.png)"
   ]
  },
  {
   "cell_type": "markdown",
   "metadata": {},
   "source": [
    "# pseudo code\n",
    "\n",
    "1. read integer n\n",
    "2. make matrix=[]\n",
    "3. loop n times: in every itr:\n",
    "   1. make row=[]\n",
    "   2. loop n times: in every itr:\n",
    "      1. make element = use the i,j formula\n",
    "      2. append element to row\n",
    "   3. append row to matrix\n",
    "4. matrix ✅\n",
    "5. print the matrix\n",
    "\n",
    "> print the matrix\n",
    "1. for row in matrix\n",
    "2. print(join row) [but make sure all elems of row are str]"
   ]
  }
 ],
 "metadata": {
  "kernelspec": {
   "display_name": "Python 3",
   "language": "python",
   "name": "python3"
  },
  "language_info": {
   "codemirror_mode": {
    "name": "ipython",
    "version": 3
   },
   "file_extension": ".py",
   "mimetype": "text/x-python",
   "name": "python",
   "nbconvert_exporter": "python",
   "pygments_lexer": "ipython3",
   "version": "3.12.0"
  }
 },
 "nbformat": 4,
 "nbformat_minor": 2
}

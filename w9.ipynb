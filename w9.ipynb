{
 "cells": [
  {
   "cell_type": "markdown",
   "metadata": {},
   "source": [
    "`open(file_name, mode)`\n",
    "\n",
    "1. file_name: name of file that you want to open\n",
    "2. mode: operation that you want to perform\n",
    "      1. read (r): read the contents of the file\n",
    "      2. write (w): write some content to the file (existing content of file is deleted)\n",
    "      3. append (a): add some content at the end of file (existing content stays)\n",
    "\n",
    "examples: \n",
    "\n",
    "- `open('message.txt', 'r')`\n",
    "- `open('message.txt', 'w')`\n",
    "- `open('message.txt', 'a')`\n"
   ]
  },
  {
   "cell_type": "code",
   "execution_count": 2,
   "metadata": {},
   "outputs": [
    {
     "name": "stdout",
     "output_type": "stream",
     "text": [
      "content='today is a beautiful day\\nhello vidhatri\\ni am rahul'\n"
     ]
    }
   ],
   "source": [
    "file = open('message.txt', 'r')  # r for reading the file\n",
    "\n",
    "# do something with file (read/write/append)\n",
    "content = file.read()\n",
    "print(f'{content=}')\n",
    "\n",
    "file.close()"
   ]
  },
  {
   "cell_type": "code",
   "execution_count": 6,
   "metadata": {},
   "outputs": [
    {
     "name": "stdout",
     "output_type": "stream",
     "text": [
      "hello rahul\n",
      "i am vidhatri\n"
     ]
    }
   ],
   "source": [
    "print('hello rahul\\ni am vidhatri')"
   ]
  },
  {
   "cell_type": "code",
   "execution_count": 22,
   "metadata": {},
   "outputs": [
    {
     "data": {
      "text/plain": [
       "35"
      ]
     },
     "execution_count": 22,
     "metadata": {},
     "output_type": "execute_result"
    }
   ],
   "source": [
    "# w for writing entire file (existing data deleted)\n",
    "file = open('new-message.txt', 'w')\n",
    "\n",
    "# do something with file (read/write/append)\n",
    "content = 'this is new message\\nready for oppe\\n'\n",
    "file.write(content)\n",
    "\n",
    "file.close()"
   ]
  },
  {
   "cell_type": "code",
   "execution_count": 21,
   "metadata": {},
   "outputs": [
    {
     "data": {
      "text/plain": [
       "17"
      ]
     },
     "execution_count": 21,
     "metadata": {},
     "output_type": "execute_result"
    }
   ],
   "source": [
    "# add something to end of file (existing data stays)\n",
    "file = open('new-message.txt', 'a')\n",
    "\n",
    "# do something with file (read/write/append)\n",
    "content = 'good morning\\nhi!\\n'\n",
    "file.write(content)\n",
    "\n",
    "file.close()"
   ]
  },
  {
   "cell_type": "code",
   "execution_count": 9,
   "metadata": {},
   "outputs": [
    {
     "name": "stdout",
     "output_type": "stream",
     "text": [
      "today is a beautiful day\n",
      "hello vidhatri\n",
      "i am rahul\n"
     ]
    }
   ],
   "source": [
    "file = open('message.txt', 'r')  # r for reading the file\n",
    "\n",
    "# do something with file (read/write/append)\n",
    "for line in file:\n",
    "  line = line.strip()\n",
    "  print(line)\n",
    "\n",
    "file.close()"
   ]
  },
  {
   "cell_type": "code",
   "execution_count": 11,
   "metadata": {},
   "outputs": [],
   "source": [
    "file = open('message.txt', 'r')  # r for reading the file\n",
    "\n",
    "# do something with file (read/write/append)\n",
    "# this is skeleton code for all file stuff ✌️\n",
    "\n",
    "file.close()"
   ]
  },
  {
   "cell_type": "code",
   "execution_count": 12,
   "metadata": {},
   "outputs": [
    {
     "name": "stdout",
     "output_type": "stream",
     "text": [
      "first_name,last_name,company_name,address,city,county,state,zip,phone1,phone,email\n",
      "James,Butt,\"Benton, John B Jr\",6649 N Blue Gum St,New Orleans,Orleans,LA,70116,504-621-8927,504-845-1427,jbutt@gmail.com\n",
      "Josephine,Darakjy,\"Chanay, Jeffrey A Esq\",4 B Blue Ridge Blvd,Brighton,Livingston,MI,48116,810-292-9388,810-374-9840,josephine_darakjy@darakjy.org\n",
      "Art,Venere,\"Chemel, James L Cpa\",8 W Cerritos Ave #54,Bridgeport,Gloucester,NJ,8014,856-636-8749,856-264-4130,art@venere.org\n",
      "Lenna,Paprocki,Feltz Printing Service,639 Main St,Anchorage,Anchorage,AK,99501,907-385-4412,907-921-2010,lpaprocki@hotmail.com\n",
      "Donette,Foller,Printing Dimensions,34 Center St,Hamilton,Butler,OH,45011,513-570-1893,513-549-4561,donette.foller@cox.net\n",
      "Simona,Morasca,\"Chapman, Ross E Esq\",3 Mcauley Dr,Ashland,Ashland,OH,44805,419-503-2484,419-800-6759,simona@morasca.com\n",
      "Mitsue,Tollner,Morlong Associates,7 Eads St,Chicago,Cook,IL,60632,773-573-6914,773-924-8565,mitsue_tollner@yahoo.com\n",
      "Leota,Dilliard,Commercial Press,7 W Jackson Blvd,San Jose,Santa Clara,CA,95111,408-752-3500,408-813-1105,leota@hotmail.com\n",
      "Sage,Wieser,Truhlar And Truhlar Attys,5 Boston Ave #88,Sioux Falls,Minnehaha,SD,57105,605-414-2147,605-794-4895,sage_wieser@cox.net\n",
      "Kris,Marrier,\"King, Christopher A Esq\",228 Runamuck Pl #2808,Baltimore,Baltimore City,MD,21224,410-655-8723,410-804-4694,kris@gmail.com\n",
      "Minna,Amigon,\"Dorl, James J Esq\",2371 Jerrold Ave,Kulpsville,Montgomery,PA,19443,215-874-1229,215-422-8694,minna_amigon@yahoo.com\n",
      "Abel,Maclead,Rangoni Of Florence,37275 St  Rt 17m M,Middle Island,Suffolk,NY,11953,631-335-3414,631-677-3675,amaclead@gmail.com\n",
      "Kiley,Caldarera,Feiner Bros,25 E 75th St #69,Los Angeles,Los Angeles,CA,90034,310-498-5651,310-254-3084,kiley.caldarera@aol.com\n",
      "Graciela,Ruta,Buckley Miller & Wright,98 Connecticut Ave Nw,Chagrin Falls,Geauga,OH,44023,440-780-8425,440-579-7763,gruta@cox.net\n",
      "Cammy,Albares,\"Rousseaux, Michael Esq\",56 E Morehead St,Laredo,Webb,TX,78045,956-537-6195,956-841-7216,calbares@gmail.com\n",
      "Mattie,Poquette,Century Communications,73 State Road 434 E,Phoenix,Maricopa,AZ,85013,602-277-4385,602-953-6360,mattie@aol.com\n",
      "Meaghan,Garufi,\"Bolton, Wilbur Esq\",69734 E Carrillo St,Mc Minnville,Warren,TN,37110,931-313-9635,931-235-7959,meaghan@hotmail.com\n",
      "Gladys,Rim,T M Byxbee Company Pc,322 New Horizon Blvd,Milwaukee,Milwaukee,WI,53207,414-661-9598,414-377-2880,gladys.rim@rim.org\n",
      "Yuki,Whobrey,Farmers Insurance Group,1 State Route 27,Taylor,Wayne,MI,48180,313-288-7937,313-341-4470,yuki_whobrey@aol.com\n",
      "Fletcher,Flosi,Post Box Services Plus,394 Manchester Blvd,Rockford,Winnebago,IL,61109,815-828-2147,815-426-5657,fletcher.flosi@yahoo.com\n",
      "Bette,Nicka,Sport En Art,6 S 33rd St,Aston,Delaware,PA,19014,610-545-3615,610-492-4643,bette_nicka@cox.net\n",
      "Veronika,Inouye,C 4 Network Inc,6 Greenleaf Ave,San Jose,Santa Clara,CA,95111,408-540-1785,408-813-4592,vinouye@aol.com\n",
      "Willard,Kolmetz,\"Ingalls, Donald R Esq\",618 W Yakima Ave,Irving,Dallas,TX,75062,972-303-9197,972-896-4882,willard@hotmail.com\n",
      "Maryann,Royster,\"Franklin, Peter L Esq\",74 S Westgate St,Albany,Albany,NY,12204,518-966-7987,518-448-8982,mroyster@royster.com\n",
      "Alisha,Slusarski,Wtlz Power 107 Fm,3273 State St,Middlesex,Middlesex,NJ,8846,732-658-3154,732-635-3453,alisha@slusarski.com\n",
      "Allene,Iturbide,\"Ledecky, David Esq\",1 Central Ave,Stevens Point,Portage,WI,54481,715-662-6764,715-530-9863,allene_iturbide@cox.net\n",
      "Chanel,Caudy,Professional Image Inc,86 Nw 66th St #8673,Shawnee,Johnson,KS,66218,913-388-2079,913-899-1103,chanel.caudy@caudy.org\n",
      "Ezekiel,Chui,\"Sider, Donald C Esq\",2 Cedar Ave #84,Easton,Talbot,MD,21601,410-669-1642,410-235-8738,ezekiel@chui.com\n",
      "Willow,Kusko,U Pull It,90991 Thorburn Ave,New York,New York,NY,10011,212-582-4976,212-934-5167,wkusko@yahoo.com\n",
      "Bernardo,Figeroa,\"Clark, Richard Cpa\",386 9th Ave N,Conroe,Montgomery,TX,77301,936-336-3951,936-597-3614,bfigeroa@aol.com\n",
      "Ammie,Corrio,\"Moskowitz, Barry S\",74874 Atlantic Ave,Columbus,Franklin,OH,43215,614-801-9788,614-648-3265,ammie@corrio.com\n",
      "Francine,Vocelka,Cascade Realty Advisors Inc,366 South Dr,Las Cruces,Dona Ana,NM,88011,505-977-3911,505-335-5293,francine_vocelka@vocelka.com\n",
      "Ernie,Stenseth,Knwz Newsradio,45 E Liberty St,Ridgefield Park,Bergen,NJ,7660,201-709-6245,201-387-9093,ernie_stenseth@aol.com\n",
      "Albina,Glick,\"Giampetro, Anthony D\",4 Ralph Ct,Dunellen,Middlesex,NJ,8812,732-924-7882,732-782-6701,albina@glick.com\n",
      "Alishia,Sergi,Milford Enterprises Inc,2742 Distribution Way,New York,New York,NY,10025,212-860-1579,212-753-2740,asergi@gmail.com\n",
      "Solange,Shinko,\"Mosocco, Ronald A\",426 Wolf St,Metairie,Jefferson,LA,70002,504-979-9175,504-265-8174,solange@shinko.com\n",
      "Jose,Stockham,Tri State Refueler Co,128 Bransten Rd,New York,New York,NY,10011,212-675-8570,212-569-4233,jose@yahoo.com\n",
      "Rozella,Ostrosky,Parkway Company,17 Morena Blvd,Camarillo,Ventura,CA,93012,805-832-6163,805-609-1531,rozella.ostrosky@ostrosky.com\n",
      "Valentine,Gillian,Fbs Business Finance,775 W 17th St,San Antonio,Bexar,TX,78204,210-812-9597,210-300-6244,valentine_gillian@gmail.com\n",
      "Kati,Rulapaugh,Eder Assocs Consltng Engrs Pc,6980 Dorsett Rd,Abilene,Dickinson,KS,67410,785-463-7829,785-219-7724,kati.rulapaugh@hotmail.com\n",
      "Youlanda,Schemmer,Tri M Tool Inc,2881 Lewis Rd,Prineville,Crook,OR,97754,541-548-8197,541-993-2611,youlanda@aol.com\n",
      "Dyan,Oldroyd,International Eyelets Inc,7219 Woodfield Rd,Overland Park,Johnson,KS,66204,913-413-4604,913-645-8918,doldroyd@aol.com\n",
      "Roxane,Campain,Rapid Trading Intl,1048 Main St,Fairbanks,Fairbanks North Star,AK,99708,907-231-4722,907-335-6568,roxane@hotmail.com\n",
      "Lavera,Perin,Abc Enterprises Inc,678 3rd Ave,Miami,Miami-Dade,FL,33196,305-606-7291,305-995-2078,lperin@perin.org\n",
      "Erick,Ferencz,Cindy Turner Associates,20 S Babcock St,Fairbanks,Fairbanks North Star,AK,99712,907-741-1044,907-227-6777,erick.ferencz@aol.com\n",
      "Fatima,Saylors,\"Stanton, James D Esq\",2 Lighthouse Ave,Hopkins,Hennepin,MN,55343,952-768-2416,952-479-2375,fsaylors@saylors.org\n",
      "Jina,Briddick,Grace Pastries Inc,38938 Park Blvd,Boston,Suffolk,MA,2128,617-399-5124,617-997-5771,jina_briddick@briddick.com\n",
      "Kanisha,Waycott,\"Schroer, Gene E Esq\",5 Tomahawk Dr,Los Angeles,Los Angeles,CA,90006,323-453-2780,323-315-7314,kanisha_waycott@yahoo.com\n",
      "Emerson,Bowley,Knights Inn,762 S Main St,Madison,Dane,WI,53711,608-336-7444,608-658-7940,emerson.bowley@bowley.org\n",
      "Blair,Malet,Bollinger Mach Shp & Shipyard,209 Decker Dr,Philadelphia,Philadelphia,PA,19132,215-907-9111,215-794-4519,bmalet@yahoo.com\n",
      "\n"
     ]
    }
   ],
   "source": [
    "file = open('50-contacts.csv', 'r')  # r for reading the file\n",
    "\n",
    "# do something with file (read/write/append)\n",
    "# this is skeleton code for all file stuff ✌️\n",
    "content = file.read()\n",
    "print(content)\n",
    "\n",
    "file.close()\n",
    "\n",
    "# first line of csv: header: name of cols (cols are separated by comma)\n",
    "# e.g. first_name,last_name,company_name,address,city,county,state,zip,phone1,phone,email\n",
    "\n",
    "# e.g. sample\n",
    "# James,Butt,\"Benton, John B Jr\",6649 N Blue Gum St,New Orleans,Orleans,LA,70116,504-621-8927,504-845-1427,jbutt@gmail.com\n",
    "# ^^^^ col 1 (first name)        ^^^^^^^^^^^^^^^^^^ col 4 (address)"
   ]
  },
  {
   "cell_type": "code",
   "execution_count": 14,
   "metadata": {},
   "outputs": [
    {
     "name": "stdout",
     "output_type": "stream",
     "text": [
      "first_name,last_name,company_name,address,city,county,state,zip,phone1,phone,email\n",
      "James,Butt,\"Benton, John B Jr\",6649 N Blue Gum St,New Orleans,Orleans,LA,70116,504-621-8927,504-845-1427,jbutt@gmail.com\n",
      "Josephine,Darakjy,\"Chanay, Jeffrey A Esq\",4 B Blue Ridge Blvd,Brighton,Livingston,MI,48116,810-292-9388,810-374-9840,josephine_darakjy@darakjy.org\n",
      "Art,Venere,\"Chemel, James L Cpa\",8 W Cerritos Ave #54,Bridgeport,Gloucester,NJ,8014,856-636-8749,856-264-4130,art@venere.org\n",
      "Lenna,Paprocki,Feltz Printing Service,639 Main St,Anchorage,Anchorage,AK,99501,907-385-4412,907-921-2010,lpaprocki@hotmail.com\n",
      "Donette,Foller,Printing Dimensions,34 Center St,Hamilton,Butler,OH,45011,513-570-1893,513-549-4561,donette.foller@cox.net\n",
      "Simona,Morasca,\"Chapman, Ross E Esq\",3 Mcauley Dr,Ashland,Ashland,OH,44805,419-503-2484,419-800-6759,simona@morasca.com\n",
      "Mitsue,Tollner,Morlong Associates,7 Eads St,Chicago,Cook,IL,60632,773-573-6914,773-924-8565,mitsue_tollner@yahoo.com\n",
      "Leota,Dilliard,Commercial Press,7 W Jackson Blvd,San Jose,Santa Clara,CA,95111,408-752-3500,408-813-1105,leota@hotmail.com\n",
      "Sage,Wieser,Truhlar And Truhlar Attys,5 Boston Ave #88,Sioux Falls,Minnehaha,SD,57105,605-414-2147,605-794-4895,sage_wieser@cox.net\n",
      "Kris,Marrier,\"King, Christopher A Esq\",228 Runamuck Pl #2808,Baltimore,Baltimore City,MD,21224,410-655-8723,410-804-4694,kris@gmail.com\n",
      "Minna,Amigon,\"Dorl, James J Esq\",2371 Jerrold Ave,Kulpsville,Montgomery,PA,19443,215-874-1229,215-422-8694,minna_amigon@yahoo.com\n",
      "Abel,Maclead,Rangoni Of Florence,37275 St  Rt 17m M,Middle Island,Suffolk,NY,11953,631-335-3414,631-677-3675,amaclead@gmail.com\n",
      "Kiley,Caldarera,Feiner Bros,25 E 75th St #69,Los Angeles,Los Angeles,CA,90034,310-498-5651,310-254-3084,kiley.caldarera@aol.com\n",
      "Graciela,Ruta,Buckley Miller & Wright,98 Connecticut Ave Nw,Chagrin Falls,Geauga,OH,44023,440-780-8425,440-579-7763,gruta@cox.net\n",
      "Cammy,Albares,\"Rousseaux, Michael Esq\",56 E Morehead St,Laredo,Webb,TX,78045,956-537-6195,956-841-7216,calbares@gmail.com\n",
      "Mattie,Poquette,Century Communications,73 State Road 434 E,Phoenix,Maricopa,AZ,85013,602-277-4385,602-953-6360,mattie@aol.com\n",
      "Meaghan,Garufi,\"Bolton, Wilbur Esq\",69734 E Carrillo St,Mc Minnville,Warren,TN,37110,931-313-9635,931-235-7959,meaghan@hotmail.com\n",
      "Gladys,Rim,T M Byxbee Company Pc,322 New Horizon Blvd,Milwaukee,Milwaukee,WI,53207,414-661-9598,414-377-2880,gladys.rim@rim.org\n",
      "Yuki,Whobrey,Farmers Insurance Group,1 State Route 27,Taylor,Wayne,MI,48180,313-288-7937,313-341-4470,yuki_whobrey@aol.com\n",
      "Fletcher,Flosi,Post Box Services Plus,394 Manchester Blvd,Rockford,Winnebago,IL,61109,815-828-2147,815-426-5657,fletcher.flosi@yahoo.com\n",
      "Bette,Nicka,Sport En Art,6 S 33rd St,Aston,Delaware,PA,19014,610-545-3615,610-492-4643,bette_nicka@cox.net\n",
      "Veronika,Inouye,C 4 Network Inc,6 Greenleaf Ave,San Jose,Santa Clara,CA,95111,408-540-1785,408-813-4592,vinouye@aol.com\n",
      "Willard,Kolmetz,\"Ingalls, Donald R Esq\",618 W Yakima Ave,Irving,Dallas,TX,75062,972-303-9197,972-896-4882,willard@hotmail.com\n",
      "Maryann,Royster,\"Franklin, Peter L Esq\",74 S Westgate St,Albany,Albany,NY,12204,518-966-7987,518-448-8982,mroyster@royster.com\n",
      "Alisha,Slusarski,Wtlz Power 107 Fm,3273 State St,Middlesex,Middlesex,NJ,8846,732-658-3154,732-635-3453,alisha@slusarski.com\n",
      "Allene,Iturbide,\"Ledecky, David Esq\",1 Central Ave,Stevens Point,Portage,WI,54481,715-662-6764,715-530-9863,allene_iturbide@cox.net\n",
      "Chanel,Caudy,Professional Image Inc,86 Nw 66th St #8673,Shawnee,Johnson,KS,66218,913-388-2079,913-899-1103,chanel.caudy@caudy.org\n",
      "Ezekiel,Chui,\"Sider, Donald C Esq\",2 Cedar Ave #84,Easton,Talbot,MD,21601,410-669-1642,410-235-8738,ezekiel@chui.com\n",
      "Willow,Kusko,U Pull It,90991 Thorburn Ave,New York,New York,NY,10011,212-582-4976,212-934-5167,wkusko@yahoo.com\n",
      "Bernardo,Figeroa,\"Clark, Richard Cpa\",386 9th Ave N,Conroe,Montgomery,TX,77301,936-336-3951,936-597-3614,bfigeroa@aol.com\n",
      "Ammie,Corrio,\"Moskowitz, Barry S\",74874 Atlantic Ave,Columbus,Franklin,OH,43215,614-801-9788,614-648-3265,ammie@corrio.com\n",
      "Francine,Vocelka,Cascade Realty Advisors Inc,366 South Dr,Las Cruces,Dona Ana,NM,88011,505-977-3911,505-335-5293,francine_vocelka@vocelka.com\n",
      "Ernie,Stenseth,Knwz Newsradio,45 E Liberty St,Ridgefield Park,Bergen,NJ,7660,201-709-6245,201-387-9093,ernie_stenseth@aol.com\n",
      "Albina,Glick,\"Giampetro, Anthony D\",4 Ralph Ct,Dunellen,Middlesex,NJ,8812,732-924-7882,732-782-6701,albina@glick.com\n",
      "Alishia,Sergi,Milford Enterprises Inc,2742 Distribution Way,New York,New York,NY,10025,212-860-1579,212-753-2740,asergi@gmail.com\n",
      "Solange,Shinko,\"Mosocco, Ronald A\",426 Wolf St,Metairie,Jefferson,LA,70002,504-979-9175,504-265-8174,solange@shinko.com\n",
      "Jose,Stockham,Tri State Refueler Co,128 Bransten Rd,New York,New York,NY,10011,212-675-8570,212-569-4233,jose@yahoo.com\n",
      "Rozella,Ostrosky,Parkway Company,17 Morena Blvd,Camarillo,Ventura,CA,93012,805-832-6163,805-609-1531,rozella.ostrosky@ostrosky.com\n",
      "Valentine,Gillian,Fbs Business Finance,775 W 17th St,San Antonio,Bexar,TX,78204,210-812-9597,210-300-6244,valentine_gillian@gmail.com\n",
      "Kati,Rulapaugh,Eder Assocs Consltng Engrs Pc,6980 Dorsett Rd,Abilene,Dickinson,KS,67410,785-463-7829,785-219-7724,kati.rulapaugh@hotmail.com\n",
      "Youlanda,Schemmer,Tri M Tool Inc,2881 Lewis Rd,Prineville,Crook,OR,97754,541-548-8197,541-993-2611,youlanda@aol.com\n",
      "Dyan,Oldroyd,International Eyelets Inc,7219 Woodfield Rd,Overland Park,Johnson,KS,66204,913-413-4604,913-645-8918,doldroyd@aol.com\n",
      "Roxane,Campain,Rapid Trading Intl,1048 Main St,Fairbanks,Fairbanks North Star,AK,99708,907-231-4722,907-335-6568,roxane@hotmail.com\n",
      "Lavera,Perin,Abc Enterprises Inc,678 3rd Ave,Miami,Miami-Dade,FL,33196,305-606-7291,305-995-2078,lperin@perin.org\n",
      "Erick,Ferencz,Cindy Turner Associates,20 S Babcock St,Fairbanks,Fairbanks North Star,AK,99712,907-741-1044,907-227-6777,erick.ferencz@aol.com\n",
      "Fatima,Saylors,\"Stanton, James D Esq\",2 Lighthouse Ave,Hopkins,Hennepin,MN,55343,952-768-2416,952-479-2375,fsaylors@saylors.org\n",
      "Jina,Briddick,Grace Pastries Inc,38938 Park Blvd,Boston,Suffolk,MA,2128,617-399-5124,617-997-5771,jina_briddick@briddick.com\n",
      "Kanisha,Waycott,\"Schroer, Gene E Esq\",5 Tomahawk Dr,Los Angeles,Los Angeles,CA,90006,323-453-2780,323-315-7314,kanisha_waycott@yahoo.com\n",
      "Emerson,Bowley,Knights Inn,762 S Main St,Madison,Dane,WI,53711,608-336-7444,608-658-7940,emerson.bowley@bowley.org\n",
      "Blair,Malet,Bollinger Mach Shp & Shipyard,209 Decker Dr,Philadelphia,Philadelphia,PA,19132,215-907-9111,215-794-4519,bmalet@yahoo.com\n"
     ]
    }
   ],
   "source": [
    "file = open('./50-contacts.csv', 'r')\n",
    "\n",
    "for line in file:\n",
    "  print(line.strip())\n",
    "\n",
    "file.close()"
   ]
  },
  {
   "cell_type": "code",
   "execution_count": 21,
   "metadata": {},
   "outputs": [
    {
     "name": "stdout",
     "output_type": "stream",
     "text": [
      "address\n",
      "6649 N Blue Gum St\n",
      "4 B Blue Ridge Blvd\n",
      "8 W Cerritos Ave #54\n",
      "639 Main St\n",
      "34 Center St\n",
      "3 Mcauley Dr\n",
      "7 Eads St\n",
      "7 W Jackson Blvd\n",
      "5 Boston Ave #88\n",
      "228 Runamuck Pl #2808\n",
      "2371 Jerrold Ave\n",
      "37275 St  Rt 17m M\n",
      "25 E 75th St #69\n",
      "98 Connecticut Ave Nw\n",
      "56 E Morehead St\n",
      "73 State Road 434 E\n",
      "69734 E Carrillo St\n",
      "322 New Horizon Blvd\n",
      "1 State Route 27\n",
      "394 Manchester Blvd\n",
      "6 S 33rd St\n",
      "6 Greenleaf Ave\n",
      "618 W Yakima Ave\n",
      "74 S Westgate St\n",
      "3273 State St\n",
      "1 Central Ave\n",
      "86 Nw 66th St #8673\n",
      "2 Cedar Ave #84\n",
      "90991 Thorburn Ave\n",
      "386 9th Ave N\n",
      "74874 Atlantic Ave\n",
      "366 South Dr\n",
      "45 E Liberty St\n",
      "4 Ralph Ct\n",
      "2742 Distribution Way\n",
      "426 Wolf St\n",
      "128 Bransten Rd\n",
      "17 Morena Blvd\n",
      "775 W 17th St\n",
      "6980 Dorsett Rd\n",
      "2881 Lewis Rd\n",
      "7219 Woodfield Rd\n",
      "1048 Main St\n",
      "678 3rd Ave\n",
      "20 S Babcock St\n",
      "2 Lighthouse Ave\n",
      "38938 Park Blvd\n",
      "5 Tomahawk Dr\n",
      "762 S Main St\n",
      "209 Decker Dr\n"
     ]
    }
   ],
   "source": [
    "from csv import reader\n",
    "\n",
    "file = open('./50-contacts.csv', 'r')\n",
    "\n",
    "data = list(reader(file))\n",
    "for row in data:\n",
    "  print(row[3])\n",
    "\n",
    "file.close()"
   ]
  },
  {
   "cell_type": "code",
   "execution_count": 4,
   "metadata": {},
   "outputs": [
    {
     "name": "stdout",
     "output_type": "stream",
     "text": [
      "1,It takes a great deal of bravery to stand up to our enemies, but just as much to stand up to our friends.\n",
      "2,Numbing the pain for a while will make it worse when you finally feel it.\n",
      "3,Never trust anything that can think for itself if you can't see where it keeps its brain.\n",
      "4,It does not do to dwell on dreams and forget to live.\n",
      "5,Differences of habit and language are nothing at all if our aims are identical and our hearts are open.\n"
     ]
    }
   ],
   "source": [
    "def read_file(filename):\n",
    "  file = open(filename, 'r')\n",
    "  for line in file:\n",
    "    print(line.strip())\n",
    "  file.close()\n",
    "\n",
    "\n",
    "# testing (not part of submitted sol code)\n",
    "read_file('./public_1.txt')"
   ]
  },
  {
   "cell_type": "code",
   "execution_count": 14,
   "metadata": {},
   "outputs": [
    {
     "name": "stdout",
     "output_type": "stream",
     "text": [
      "3,Never trust anything that can think for itself if you can't see where it keeps its brain.\n"
     ]
    }
   ],
   "source": [
    "def read_line(filename, n):\n",
    "  file = open(filename, 'r')\n",
    "\n",
    "  k = 1\n",
    "  for line in file:\n",
    "    if k == n:\n",
    "      print(line.strip())\n",
    "      break\n",
    "    k += 1\n",
    "\n",
    "  file.close()\n",
    "\n",
    "\n",
    "# testing\n",
    "read_line('./public_1.txt', 3)"
   ]
  },
  {
   "cell_type": "code",
   "execution_count": 25,
   "metadata": {},
   "outputs": [
    {
     "data": {
      "text/plain": [
       "9"
      ]
     },
     "execution_count": 25,
     "metadata": {},
     "output_type": "execute_result"
    }
   ],
   "source": [
    "def get_max_line(filename):\n",
    "  file = open(filename, 'r')\n",
    "\n",
    "  k = 1\n",
    "  max_k = k\n",
    "  max_number = float('-inf')\n",
    "  for line in file:\n",
    "    number = int(line.strip())\n",
    "\n",
    "    # debug\n",
    "    # print(f'{k=}, {max_k=}, {number=}, {max_number=}')\n",
    "\n",
    "    if number > max_number:\n",
    "      max_number = number\n",
    "      max_k = k\n",
    "    k += 1\n",
    "\n",
    "  file.close()\n",
    "  return max_k\n",
    "\n",
    "\n",
    "# testing\n",
    "get_max_line('./public_2.txt')  # 9"
   ]
  }
 ],
 "metadata": {
  "kernelspec": {
   "display_name": "Python 3",
   "language": "python",
   "name": "python3"
  },
  "language_info": {
   "codemirror_mode": {
    "name": "ipython",
    "version": 3
   },
   "file_extension": ".py",
   "mimetype": "text/x-python",
   "name": "python",
   "nbconvert_exporter": "python",
   "pygments_lexer": "ipython3",
   "version": "3.12.0"
  }
 },
 "nbformat": 4,
 "nbformat_minor": 2
}

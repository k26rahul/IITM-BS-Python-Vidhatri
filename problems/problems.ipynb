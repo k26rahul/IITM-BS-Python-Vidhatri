{
 "cells": [
  {
   "cell_type": "markdown",
   "metadata": {},
   "source": [
    "- *Flatten Matrix Along Axis*: Flatten a matrix along the specified axis, resulting in a list of all elements arranged either in row-major or column-major order.\n",
    "  \n",
    "- *Clockwise Rotation of a List*: Rotate a list clockwise k times.\n",
    "  \n",
    "- *Special Identity Matrix*: Generate a special identity matrix of size n x n with ones on both diagonals.\n",
    "  \n",
    "- *Matrix Multiplication*: Multiply three matrices A, B, and C, and return the resulting matrix.\n",
    "  \n",
    "- *Evaluate Mathematical Sentence*: Evaluate a mathematical sentence containing only addition and subtraction.\n",
    "\n",
    "- *Check Word Equivalence*: Check if two words are equivalent, meaning they have the same letters in any order."
   ]
  },
  {
   "cell_type": "code",
   "execution_count": 19,
   "metadata": {},
   "outputs": [
    {
     "name": "stdout",
     "output_type": "stream",
     "text": [
      "None\n",
      "None\n"
     ]
    }
   ],
   "source": [
    "def flatten_matrix(matrix, axis):\n",
    "  \"\"\"\n",
    "  Flatten a matrix along the specified axis, resulting in a list of all elements\n",
    "  arranged either in row-major (axis=0) or column-major (axis=1) order.\n",
    "\n",
    "  Args:\n",
    "      matrix (list): Matrix to flatten.\n",
    "      axis (int): Axis along which to flatten (0 for rows, 1 for columns).\n",
    "\n",
    "  Returns:\n",
    "      list: Flattened matrix.\n",
    "  \"\"\"\n",
    "  pass\n",
    "\n",
    "\n",
    "# Test Case 1\n",
    "matrix = [[1, 2, 3], [4, 5, 6], [7, 8, 9]]\n",
    "axis = 0\n",
    "# Expected: [1, 2, 3, 4, 5, 6, 7, 8, 9]\n",
    "print(flatten_matrix(matrix, axis))\n",
    "\n",
    "# Test Case 2\n",
    "matrix = [[1, 2, 3], [4, 5, 6], [7, 8, 9]]\n",
    "axis = 1\n",
    "# Expected: [1, 4, 7, 2, 5, 8, 3, 6, 9]\n",
    "print(flatten_matrix(matrix, axis))"
   ]
  },
  {
   "cell_type": "code",
   "execution_count": 6,
   "metadata": {},
   "outputs": [
    {
     "name": "stdout",
     "output_type": "stream",
     "text": [
      "None\n",
      "None\n"
     ]
    }
   ],
   "source": [
    "def rotate_list_clockwise(lst, k):\n",
    "  \"\"\"\n",
    "  Rotate a list clockwise k times.\n",
    "\n",
    "  Args:\n",
    "      lst (list): List to rotate.\n",
    "      k (int): Number of rotations.\n",
    "\n",
    "  Returns:\n",
    "      list: Rotated list.\n",
    "  \"\"\"\n",
    "  pass\n",
    "\n",
    "\n",
    "# Test Case 1\n",
    "lst = [1, 2, 3]\n",
    "k = 1\n",
    "# Expected: [3, 1, 2]\n",
    "print(rotate_list_clockwise(lst, k))\n",
    "\n",
    "# Test Case 2\n",
    "lst = [1, 2, 3]\n",
    "k = 2\n",
    "# Expected: [2, 3, 1]\n",
    "print(rotate_list_clockwise(lst, k))"
   ]
  },
  {
   "cell_type": "code",
   "execution_count": 9,
   "metadata": {},
   "outputs": [
    {
     "name": "stdout",
     "output_type": "stream",
     "text": [
      "None\n",
      "None\n"
     ]
    }
   ],
   "source": [
    "def special_identity_matrix(n):\n",
    "  \"\"\"\n",
    "  Generate a special identity matrix of size n x n with ones on both diagonals.\n",
    "\n",
    "  Args:\n",
    "      n (int): Size of the special identity matrix.\n",
    "\n",
    "  Returns:\n",
    "      list: Special identity matrix.\n",
    "  \"\"\"\n",
    "  pass\n",
    "\n",
    "\n",
    "# Test Case 1\n",
    "n = 2\n",
    "# Expected: [[1, 1], [1, 1]]\n",
    "print(special_identity_matrix(n))\n",
    "\n",
    "# Test Case 2\n",
    "n = 3\n",
    "# Expected: [[1, 0, 1], [0, 1, 0], [1, 0, 1]]\n",
    "print(special_identity_matrix(n))"
   ]
  },
  {
   "cell_type": "code",
   "execution_count": 12,
   "metadata": {},
   "outputs": [
    {
     "name": "stdout",
     "output_type": "stream",
     "text": [
      "None\n"
     ]
    }
   ],
   "source": [
    "def matrix_multiply(A, B, C):\n",
    "  \"\"\"\n",
    "  Multiply three matrices A, B, and C.\n",
    "  https://www.calculator.net/matrix-calculator.html\n",
    "\n",
    "  Args:\n",
    "      A (list of lists): First matrix of dimension m x n.\n",
    "      B (list of lists): Second matrix of dimension n x p.\n",
    "      C (list of lists): Third matrix of dimension p x z.\n",
    "\n",
    "  Returns:\n",
    "      list: Resultant product matrix `ABC` with dimensions m x z.\n",
    "  \"\"\"\n",
    "  pass\n",
    "\n",
    "\n",
    "# Test Case 1\n",
    "A = [[1, 2],    # 3x2\n",
    "     [3, 4],\n",
    "     [5, 6]]\n",
    "\n",
    "B = [[10, 11, 12, 13],   # 2x4\n",
    "     [14, 15, 16, 17]]\n",
    "\n",
    "C = [[1],    # 4x1\n",
    "     [1],\n",
    "     [1],\n",
    "     [1]]\n",
    "\n",
    "# Expected Output: [[170], [386], [602]]\n",
    "print(matrix_multiply(A, B, C))"
   ]
  },
  {
   "cell_type": "code",
   "execution_count": 16,
   "metadata": {},
   "outputs": [
    {
     "name": "stdout",
     "output_type": "stream",
     "text": [
      "None\n",
      "None\n",
      "None\n",
      "None\n",
      "None\n",
      "None\n",
      "None\n",
      "None\n"
     ]
    }
   ],
   "source": [
    "def evaluate_math_sentence(sentence):\n",
    "  \"\"\"\n",
    "  Evaluate a mathematical sentence containing only addition and subtraction.\n",
    "\n",
    "  Args:\n",
    "      sentence (str): The mathematical sentence to evaluate. \n",
    "                      It contains up to 10 words representing numbers (zero to nine) \n",
    "                      and the operations 'plus' and 'minus'.\n",
    "\n",
    "  Returns:\n",
    "      int: The result of the evaluated mathematical expression.\n",
    "  \"\"\"\n",
    "  pass\n",
    "\n",
    "\n",
    "print(evaluate_math_sentence('one'))  # Expected Output: 1\n",
    "print(evaluate_math_sentence('plus one'))  # Expected Output: 1\n",
    "print(evaluate_math_sentence('minus one'))  # Expected Output: -1\n",
    "print(evaluate_math_sentence('minus one plus one'))  # Expected Output: 0\n",
    "print(evaluate_math_sentence('minus one plus minus one'))  # Expected Output: -2\n",
    "print(evaluate_math_sentence('one plus two minus eight'))  # Expected Output: -5\n",
    "print(evaluate_math_sentence(\n",
    "    'one plus two minus eight plus nine plus three minus two'))  # Expected Output: 5\n",
    "print(evaluate_math_sentence(\n",
    "    'one plus two minus eight plus nine plus three minus minus two'))  # Expected Output: 9"
   ]
  },
  {
   "cell_type": "code",
   "execution_count": 18,
   "metadata": {},
   "outputs": [
    {
     "name": "stdout",
     "output_type": "stream",
     "text": [
      "None\n",
      "None\n",
      "None\n",
      "None\n",
      "None\n",
      "None\n",
      "None\n"
     ]
    }
   ],
   "source": [
    "def are_words_equivalent(word1, word2):\n",
    "  \"\"\"\n",
    "  Check if two words are equivalent, meaning they have the same letters in any order.\n",
    "\n",
    "  Args:\n",
    "      word1 (str): First word.\n",
    "      word2 (str): Second word.\n",
    "\n",
    "  Returns:\n",
    "      bool: True if the words are equivalent, False otherwise.\n",
    "  \"\"\"\n",
    "  pass\n",
    "\n",
    "\n",
    "# Test Cases\n",
    "print(are_words_equivalent('vidhatri', 'trividha'))  # Expected Output: True\n",
    "print(are_words_equivalent('hello', 'llohe'))  # Expected Output: True\n",
    "print(are_words_equivalent('python', 'java'))  # Expected Output: False\n",
    "print(are_words_equivalent('listen', 'silent'))  # Expected Output: True\n",
    "print(are_words_equivalent('programming', 'gaming'))  # Expected Output: False\n",
    "print(are_words_equivalent('race', 'care'))  # Expected Output: True\n",
    "print(are_words_equivalent('moon', 'noon'))  # Expected Output: False"
   ]
  }
 ],
 "metadata": {
  "kernelspec": {
   "display_name": "Python 3",
   "language": "python",
   "name": "python3"
  },
  "language_info": {
   "codemirror_mode": {
    "name": "ipython",
    "version": 3
   },
   "file_extension": ".py",
   "mimetype": "text/x-python",
   "name": "python",
   "nbconvert_exporter": "python",
   "pygments_lexer": "ipython3",
   "version": "3.10.11"
  }
 },
 "nbformat": 4,
 "nbformat_minor": 2
}

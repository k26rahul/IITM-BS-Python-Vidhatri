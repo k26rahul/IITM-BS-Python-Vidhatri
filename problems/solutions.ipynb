{
 "cells": [
  {
   "cell_type": "markdown",
   "metadata": {},
   "source": [
    "# Solutions"
   ]
  },
  {
   "cell_type": "markdown",
   "metadata": {},
   "source": [
    "# flatten_matrix"
   ]
  },
  {
   "cell_type": "code",
   "execution_count": 38,
   "metadata": {},
   "outputs": [
    {
     "name": "stdout",
     "output_type": "stream",
     "text": [
      "[1, 2, 3, 4, 5, 6, 7, 8, 9]\n",
      "[1, 4, 7, 1, 4, 7, 1, 4, 7]\n"
     ]
    }
   ],
   "source": [
    "def flatten_matrix(matrix, axis):\n",
    "  \"\"\"\n",
    "  Flatten a matrix along the specified axis, resulting in a list of all elements\n",
    "  arranged either in row-major (axis=0) or column-major (axis=1) order.\n",
    "\n",
    "  Args:\n",
    "      matrix (list): Matrix to flatten.\n",
    "      axis (int): Axis along which to flatten (0 for rows, 1 for columns).\n",
    "\n",
    "  Returns:\n",
    "      list: Flattened matrix.\n",
    "  \"\"\"\n",
    "  result = []\n",
    "\n",
    "  if axis == 0:\n",
    "    for row in matrix:\n",
    "      for elem in row:\n",
    "        result.append(elem)\n",
    "    return result\n",
    "\n",
    "  if axis == 1:\n",
    "    num_cols = len(matrix[0])\n",
    "    for j in range(num_cols):\n",
    "      col = [row[0] for row in matrix]\n",
    "      for elem in col:\n",
    "        result.append(elem)\n",
    "    return result\n",
    "\n",
    "\n",
    "# Test Case 1\n",
    "matrix = [[1, 2, 3], [4, 5, 6], [7, 8, 9]]\n",
    "axis = 0\n",
    "# Expected: [1, 2, 3, 4, 5, 6, 7, 8, 9]\n",
    "print(flatten_matrix(matrix, axis))\n",
    "\n",
    "# Test Case 2\n",
    "matrix = [[1, 2, 3], [4, 5, 6], [7, 8, 9]]\n",
    "axis = 1\n",
    "# Expected: [1, 4, 7, 2, 5, 8, 3, 6, 9]\n",
    "print(flatten_matrix(matrix, axis))"
   ]
  },
  {
   "cell_type": "code",
   "execution_count": 5,
   "metadata": {},
   "outputs": [
    {
     "data": {
      "text/plain": [
       "[[1, 2, 3], [4, 5, 6]]"
      ]
     },
     "execution_count": 5,
     "metadata": {},
     "output_type": "execute_result"
    },
    {
     "data": {
      "text/plain": [
       "[1, 2, 3, 4, 5, 6]"
      ]
     },
     "execution_count": 5,
     "metadata": {},
     "output_type": "execute_result"
    },
    {
     "data": {
      "text/plain": [
       "[1, 4, 2, 5, 3, 6]"
      ]
     },
     "execution_count": 5,
     "metadata": {},
     "output_type": "execute_result"
    }
   ],
   "source": [
    "[\n",
    "    [1, 2, 3],\n",
    "    [4, 5, 6]\n",
    "] # given matrix (list of rows)\n",
    "\n",
    "[1, 2, 3, 4, 5, 6]  # row wise flattened list (list of elements)\n",
    "[1, 4, 2, 5, 3, 6]  # col wise flattened list (list of elements)"
   ]
  },
  {
   "cell_type": "code",
   "execution_count": 9,
   "metadata": {},
   "outputs": [
    {
     "name": "stdout",
     "output_type": "stream",
     "text": [
      "[1, 2, 3, 4, 5, 6]\n"
     ]
    }
   ],
   "source": [
    "mat = [\n",
    "    [1, 2, 3],\n",
    "    [4, 5, 6]\n",
    "]\n",
    "\n",
    "result = []  # row wise flattened list\n",
    "\n",
    "for row in mat:\n",
    "  for elem in row:\n",
    "    result.append(elem)\n",
    "\n",
    "print(result)"
   ]
  },
  {
   "cell_type": "code",
   "execution_count": 22,
   "metadata": {},
   "outputs": [
    {
     "name": "stdout",
     "output_type": "stream",
     "text": [
      "[1, 4, 2, 5, 3, 6]\n"
     ]
    }
   ],
   "source": [
    "mat = [\n",
    "    [1, 2, 3],\n",
    "    [4, 5, 6]\n",
    "]\n",
    "\n",
    "result = []  # col wise flattened list\n",
    "\n",
    "num_cols = len(mat[0])\n",
    "for j in range(num_cols):\n",
    "  col = [row[j] for row in mat]\n",
    "  for elem in col:\n",
    "    result.append(elem)\n",
    "\n",
    "print(result)"
   ]
  },
  {
   "cell_type": "markdown",
   "metadata": {},
   "source": [
    "# rotate_list_clockwise"
   ]
  },
  {
   "cell_type": "code",
   "execution_count": 37,
   "metadata": {},
   "outputs": [
    {
     "name": "stdout",
     "output_type": "stream",
     "text": [
      "[3, 1, 2]\n",
      "[2, 3, 1]\n"
     ]
    }
   ],
   "source": [
    "def rotate_list_clockwise(lst, k):\n",
    "  \"\"\"\n",
    "  Rotate a list clockwise k times.\n",
    "\n",
    "  Args:\n",
    "      lst (list): List to rotate.\n",
    "      k (int): Number of rotations.\n",
    "\n",
    "  Returns:\n",
    "      list: Rotated list.\n",
    "  \"\"\"\n",
    "  n = len(lst)\n",
    "\n",
    "  new_lst = [0 for i in range(n)]\n",
    "\n",
    "  for i in range(n):\n",
    "    new_i = (i + k) % n\n",
    "    new_lst[new_i] = lst[i]\n",
    "\n",
    "  return new_lst\n",
    "\n",
    "\n",
    "# Test Case 1\n",
    "lst = [1, 2, 3]\n",
    "k = 1\n",
    "# Expected: [3, 1, 2]\n",
    "print(rotate_list_clockwise(lst, k))\n",
    "\n",
    "# Test Case 2\n",
    "lst = [1, 2, 3]\n",
    "k = 2\n",
    "# Expected: [2, 3, 1]\n",
    "print(rotate_list_clockwise(lst, k))"
   ]
  },
  {
   "cell_type": "code",
   "execution_count": 36,
   "metadata": {},
   "outputs": [
    {
     "data": {
      "text/plain": [
       "[12, 21, 53]"
      ]
     },
     "execution_count": 36,
     "metadata": {},
     "output_type": "execute_result"
    }
   ],
   "source": [
    "lst = [12, 21, 53]\n",
    "k = 3\n",
    "\n",
    "n = len(lst)\n",
    "new_lst = [0 for i in range(n)]\n",
    "\n",
    "for i in range(n):\n",
    "  new_i = i + k\n",
    "  new_i = new_i % n\n",
    "  new_lst[new_i] = lst[i]\n",
    "\n",
    "new_lst"
   ]
  },
  {
   "cell_type": "markdown",
   "metadata": {},
   "source": [
    "# special_identity_matrix"
   ]
  },
  {
   "cell_type": "code",
   "execution_count": 49,
   "metadata": {},
   "outputs": [
    {
     "name": "stdout",
     "output_type": "stream",
     "text": [
      "[[1, 1], [1, 1]]\n",
      "[[1, 0, 1], [0, 1, 0], [1, 0, 1]]\n"
     ]
    }
   ],
   "source": [
    "def special_identity_matrix(n):\n",
    "  \"\"\"\n",
    "  Generate a special identity matrix of size n x n with ones on both diagonals.\n",
    "\n",
    "  Args:\n",
    "      n (int): Size of the special identity matrix.\n",
    "\n",
    "  Returns:\n",
    "      list: Special identity matrix.\n",
    "  \"\"\"\n",
    "  mat = [[0 for j in range(n)] for i in range(n)]\n",
    "\n",
    "  for i in range(n):\n",
    "    for j in range(n):\n",
    "      if i == j:\n",
    "        mat[i][j] = 1\n",
    "\n",
    "  for i in range(n):\n",
    "    j = (n-1)-i\n",
    "    mat[i][j] = 1\n",
    "\n",
    "  return mat\n",
    "\n",
    "\n",
    "# Test Case 1\n",
    "n = 2\n",
    "# Expected: [[1, 1], [1, 1]]\n",
    "print(special_identity_matrix(n))\n",
    "\n",
    "# Test Case 2\n",
    "n = 3\n",
    "# Expected: [[1, 0, 1], [0, 1, 0], [1, 0, 1]]\n",
    "print(special_identity_matrix(n))"
   ]
  },
  {
   "cell_type": "code",
   "execution_count": 44,
   "metadata": {},
   "outputs": [
    {
     "name": "stdout",
     "output_type": "stream",
     "text": [
      "[[1, 0, 1], [0, 1, 0], [1, 0, 1]]\n"
     ]
    }
   ],
   "source": [
    "n = 3\n",
    "\n",
    "mat = [[0 for j in range(n)] for i in range(n)]\n",
    "\n",
    "for i in range(n):\n",
    "  for j in range(n):\n",
    "    if i == j:\n",
    "      mat[i][j] = 1\n",
    "\n",
    "for i in range(n):\n",
    "  j = n-1-i\n",
    "  mat[i][j] = 1\n",
    "\n",
    "print(mat)"
   ]
  },
  {
   "cell_type": "code",
   "execution_count": 42,
   "metadata": {},
   "outputs": [
    {
     "name": "stdout",
     "output_type": "stream",
     "text": [
      "1\n",
      "6\n",
      "1\n",
      "\n",
      "6\n",
      "6\n",
      "6\n"
     ]
    }
   ],
   "source": [
    "n = 3\n",
    "\n",
    "M = [\n",
    "    [1, 0, 6],\n",
    "    [0, 6, 0],\n",
    "    [6, 0, 1],\n",
    "]\n",
    "\n",
    "for i in range(n):\n",
    "  for j in range(n):\n",
    "    if i == j:\n",
    "      print(M[i][j])\n",
    "\n",
    "print()\n",
    "\n",
    "for i in range(n):\n",
    "  j = n-1-i\n",
    "  print(M[i][j])"
   ]
  },
  {
   "cell_type": "code",
   "execution_count": 51,
   "metadata": {},
   "outputs": [
    {
     "data": {
      "text/plain": [
       "[[11, 22, 33], [44, 55, 66], [77, 88, 99]]"
      ]
     },
     "execution_count": 51,
     "metadata": {},
     "output_type": "execute_result"
    },
    {
     "data": {
      "text/plain": [
       "[11, 55, 99]"
      ]
     },
     "execution_count": 51,
     "metadata": {},
     "output_type": "execute_result"
    }
   ],
   "source": [
    "[\n",
    "    [11, 22, 33],\n",
    "    [44, 55, 66],\n",
    "    [77, 88, 99]\n",
    "]\n",
    "\n",
    "[11, 55, 99]"
   ]
  },
  {
   "cell_type": "code",
   "execution_count": 57,
   "metadata": {},
   "outputs": [
    {
     "data": {
      "text/plain": [
       "11"
      ]
     },
     "execution_count": 57,
     "metadata": {},
     "output_type": "execute_result"
    },
    {
     "data": {
      "text/plain": [
       "55"
      ]
     },
     "execution_count": 57,
     "metadata": {},
     "output_type": "execute_result"
    },
    {
     "data": {
      "text/plain": [
       "99"
      ]
     },
     "execution_count": 57,
     "metadata": {},
     "output_type": "execute_result"
    }
   ],
   "source": [
    "mat = [\n",
    "    [11, 22, 33],\n",
    "    [44, 55, 66],\n",
    "    [77, 88, 99]\n",
    "]\n",
    "\n",
    "mat[0][0]\n",
    "mat[1][1]\n",
    "mat[2][2]"
   ]
  },
  {
   "cell_type": "code",
   "execution_count": 61,
   "metadata": {},
   "outputs": [
    {
     "name": "stdout",
     "output_type": "stream",
     "text": [
      "11\n",
      "55\n",
      "99\n"
     ]
    }
   ],
   "source": [
    "mat = [\n",
    "    [11, 22, 33],\n",
    "    [44, 55, 66],\n",
    "    [77, 88, 99]\n",
    "]\n",
    "\n",
    "n = len(mat)\n",
    "\n",
    "for i in range(n):\n",
    "  j = i\n",
    "  print(mat[i][j])"
   ]
  },
  {
   "cell_type": "code",
   "execution_count": 1,
   "metadata": {},
   "outputs": [
    {
     "data": {
      "text/plain": [
       "' mat = [\\n    [11, 22, 33],\\n    [44, 55, 66],\\n    [77, 88, 99]\\n]\\n\\nmat[0][2]\\nmat[1][1]\\nmat[2][0]\\n\\ni, (n-1)-i\\n\\nmat[i][n-1-i]\\nmat[i][n-1-i]\\nmat[i][n-1-i] '"
      ]
     },
     "execution_count": 1,
     "metadata": {},
     "output_type": "execute_result"
    }
   ],
   "source": [
    "\"\"\" mat = [\n",
    "    [11, 22, 33],\n",
    "    [44, 55, 66],\n",
    "    [77, 88, 99]\n",
    "]\n",
    "\n",
    "mat[0][2]\n",
    "mat[1][1]\n",
    "mat[2][0]\n",
    "\n",
    "i, (n-1)-i\n",
    "\n",
    "mat[i][n-1-i]\n",
    "mat[i][n-1-i]\n",
    "mat[i][n-1-i] \"\"\""
   ]
  },
  {
   "cell_type": "code",
   "execution_count": 67,
   "metadata": {},
   "outputs": [
    {
     "name": "stdout",
     "output_type": "stream",
     "text": [
      "33\n",
      "55\n",
      "77\n"
     ]
    }
   ],
   "source": [
    "mat = [\n",
    "    [11, 22, 33],\n",
    "    [44, 55, 66],\n",
    "    [77, 88, 99]\n",
    "]\n",
    "\n",
    "n = len(mat)\n",
    "\n",
    "for i in range(n):\n",
    "  j = n-1-i\n",
    "  print(mat[i][j])"
   ]
  },
  {
   "cell_type": "markdown",
   "metadata": {},
   "source": [
    "# matrix_multiply"
   ]
  },
  {
   "cell_type": "code",
   "execution_count": 2,
   "metadata": {},
   "outputs": [
    {
     "name": "stdout",
     "output_type": "stream",
     "text": [
      "None\n"
     ]
    }
   ],
   "source": [
    "def matrix_multiply(A, B, C):\n",
    "  \"\"\"\n",
    "  Multiply three matrices A, B, and C.\n",
    "  https://www.calculator.net/matrix-calculator.html\n",
    "\n",
    "  Args:\n",
    "      A (list of lists): First matrix of dimension m x n.\n",
    "      B (list of lists): Second matrix of dimension n x p.\n",
    "      C (list of lists): Third matrix of dimension p x z.\n",
    "\n",
    "  Returns:\n",
    "      list: Resultant product matrix `ABC` with dimensions m x z.\n",
    "  \"\"\"\n",
    "  pass\n",
    "\n",
    "\n",
    "# Test Case 1\n",
    "A = [[1, 2],    # 3x2\n",
    "     [3, 4],\n",
    "     [5, 6]]\n",
    "\n",
    "B = [[10, 11, 12, 13],   # 2x4\n",
    "     [14, 15, 16, 17]]\n",
    "\n",
    "C = [[1],    # 4x1\n",
    "     [1],\n",
    "     [1],\n",
    "     [1]]\n",
    "\n",
    "# Expected Output: [[170], [386], [602]]\n",
    "print(matrix_multiply(A, B, C))"
   ]
  },
  {
   "cell_type": "markdown",
   "metadata": {},
   "source": [
    "# are_words_equivalent"
   ]
  },
  {
   "cell_type": "code",
   "execution_count": 42,
   "metadata": {},
   "outputs": [
    {
     "name": "stdout",
     "output_type": "stream",
     "text": [
      "True\n",
      "True\n",
      "False\n",
      "True\n",
      "False\n",
      "True\n",
      "False\n"
     ]
    }
   ],
   "source": [
    "def get_freq_dict(lst):\n",
    "  freq_dict = {}\n",
    "\n",
    "  for letter in lst:\n",
    "    if letter not in freq_dict:\n",
    "      freq_dict[letter] = 0\n",
    "    freq_dict[letter] += 1\n",
    "    \n",
    "  return freq_dict\n",
    "\n",
    "\n",
    "def are_words_equivalent(word1, word2):\n",
    "  \"\"\"\n",
    "  Check if two words are equivalent, meaning they have the same letters in any order.\n",
    "\n",
    "  Args:\n",
    "      word1 (str): First word.\n",
    "      word2 (str): Second word.\n",
    "\n",
    "  Returns:\n",
    "      bool: True if the words are equivalent, False otherwise.\n",
    "  \"\"\"\n",
    "  lst1 = list(word1)\n",
    "  lst2 = list(word2)\n",
    "\n",
    "  freq_dict1 = get_freq_dict(lst1)\n",
    "  freq_dict2 = get_freq_dict(lst2)\n",
    "\n",
    "  return freq_dict1 == freq_dict2\n",
    "\n",
    "\n",
    "# Test Cases\n",
    "print(are_words_equivalent('vidhatri', 'trividha'))  # Expected Output: True\n",
    "print(are_words_equivalent('hello', 'llohe'))  # Expected Output: True\n",
    "print(are_words_equivalent('python', 'java'))  # Expected Output: False\n",
    "print(are_words_equivalent('listen', 'silent'))  # Expected Output: True\n",
    "print(are_words_equivalent('programming', 'gaming'))  # Expected Output: False\n",
    "print(are_words_equivalent('race', 'care'))  # Expected Output: True\n",
    "print(are_words_equivalent('moon', 'noon'))  # Expected Output: False"
   ]
  },
  {
   "cell_type": "code",
   "execution_count": 40,
   "metadata": {},
   "outputs": [
    {
     "data": {
      "text/plain": [
       "True"
      ]
     },
     "execution_count": 40,
     "metadata": {},
     "output_type": "execute_result"
    }
   ],
   "source": [
    "word1 = 'vidhatri'\n",
    "word2 = 'trividha'\n",
    "\n",
    "lst1 = list(word1)\n",
    "lst2 = list(word2)\n",
    "\n",
    "\n",
    "def get_freq_dict(lst):\n",
    "  freq_dict = {}\n",
    "  for letter in lst:\n",
    "    if letter not in freq_dict:\n",
    "      freq_dict[letter] = 0\n",
    "    freq_dict[letter] += 1\n",
    "  return freq_dict\n",
    "\n",
    "\n",
    "freq_dict1 = get_freq_dict(lst1)\n",
    "freq_dict2 = get_freq_dict(lst2)\n",
    "\n",
    "freq_dict1 == freq_dict2"
   ]
  },
  {
   "cell_type": "code",
   "execution_count": 33,
   "metadata": {},
   "outputs": [
    {
     "data": {
      "text/plain": [
       "True"
      ]
     },
     "execution_count": 33,
     "metadata": {},
     "output_type": "execute_result"
    }
   ],
   "source": [
    "lst1 = [1, 2, 3, 3]\n",
    "lst2 = [3, 1, 2, 3]\n",
    "\n",
    "\n",
    "def get_freq_dict(lst):\n",
    "  freq_dict = {}\n",
    "  for number in lst:\n",
    "    if number not in freq_dict:\n",
    "      freq_dict[number] = 0\n",
    "    freq_dict[number] += 1\n",
    "  return freq_dict\n",
    "\n",
    "\n",
    "freq_dict1 = get_freq_dict(lst1)\n",
    "freq_dict2 = get_freq_dict(lst2)\n",
    "\n",
    "freq_dict1 == freq_dict2"
   ]
  },
  {
   "cell_type": "code",
   "execution_count": 28,
   "metadata": {},
   "outputs": [
    {
     "data": {
      "text/plain": [
       "{1: 1, 2: 1, 3: 2}"
      ]
     },
     "execution_count": 28,
     "metadata": {},
     "output_type": "execute_result"
    }
   ],
   "source": [
    "lst = [1, 2, 3, 3]\n",
    "freq_dict = {}\n",
    "\n",
    "for number in lst:\n",
    "  if number not in freq_dict:\n",
    "    freq_dict[number] = 0\n",
    "  freq_dict[number] += 1\n",
    "\n",
    "freq_dict"
   ]
  },
  {
   "cell_type": "code",
   "execution_count": null,
   "metadata": {},
   "outputs": [],
   "source": [
    "[1, 2, 3, 3]\n",
    "\n",
    "{\n",
    "  1: 1,\n",
    "  2: 1,\n",
    "  3: 2\n",
    "}\n",
    "\n",
    "[3, 1, 2, 3]\n",
    "\n",
    "{\n",
    "  3: 2,\n",
    "  1: 1,\n",
    "  2: 1\n",
    "}"
   ]
  },
  {
   "cell_type": "code",
   "execution_count": 21,
   "metadata": {},
   "outputs": [
    {
     "data": {
      "text/plain": [
       "True"
      ]
     },
     "execution_count": 21,
     "metadata": {},
     "output_type": "execute_result"
    }
   ],
   "source": [
    "{\n",
    "    1: 1,\n",
    "    2: 1,\n",
    "    3: 2\n",
    "} == {\n",
    "    3: 2,\n",
    "    1: 1,\n",
    "    2: 1\n",
    "}"
   ]
  },
  {
   "cell_type": "markdown",
   "metadata": {},
   "source": [
    "# evaluate_math_sentence"
   ]
  },
  {
   "cell_type": "code",
   "execution_count": 74,
   "metadata": {},
   "outputs": [
    {
     "name": "stdout",
     "output_type": "stream",
     "text": [
      "1\n",
      "1\n",
      "-1\n",
      "0\n",
      "-2\n",
      "-5\n",
      "5\n",
      "9\n"
     ]
    }
   ],
   "source": [
    "def evaluate_math_sentence(sentence):\n",
    "  word_to_number = {\n",
    "      'zero': 0,\n",
    "      'one': 1,\n",
    "      'two': 2,\n",
    "      'three': 3,\n",
    "      'four': 4,\n",
    "      'five': 5,\n",
    "      'six': 6,\n",
    "      'seven': 7,\n",
    "      'eight': 8,\n",
    "      'nine': 9,\n",
    "  }\n",
    "\n",
    "  sentence = sentence.split()\n",
    "  result = 0\n",
    "  sign = 1\n",
    "\n",
    "  for word in sentence:\n",
    "    if word == 'plus':\n",
    "      sign = 1\n",
    "    elif word == 'minus':\n",
    "      sign = sign * -1\n",
    "    else:\n",
    "      number = word_to_number[word]\n",
    "      result += (sign * number)\n",
    "\n",
    "  return result\n",
    "\n",
    "\n",
    "print(evaluate_math_sentence('one'))  # Expected Output: 1\n",
    "print(evaluate_math_sentence('plus one'))  # Expected Output: 1\n",
    "print(evaluate_math_sentence('minus one'))  # Expected Output: -1\n",
    "print(evaluate_math_sentence('minus one plus one'))  # Expected Output: 0\n",
    "print(evaluate_math_sentence('minus one plus minus one'))  # Expected Output: -2\n",
    "print(evaluate_math_sentence('one plus two minus eight'))  # Expected Output: -5\n",
    "print(evaluate_math_sentence(\n",
    "    'one plus two minus eight plus nine plus three minus two'))  # Expected Output: 5\n",
    "print(evaluate_math_sentence(\n",
    "    'one plus two minus eight plus nine plus three minus minus two'))  # Expected Output: 9"
   ]
  },
  {
   "cell_type": "code",
   "execution_count": 69,
   "metadata": {},
   "outputs": [
    {
     "data": {
      "text/plain": [
       "-5"
      ]
     },
     "execution_count": 69,
     "metadata": {},
     "output_type": "execute_result"
    }
   ],
   "source": [
    "sentence = 'one plus two minus eight'\n",
    "\n",
    "word_to_number = {\n",
    "    'zero': 0,\n",
    "    'one': 1,\n",
    "    'two': 2,\n",
    "    'three': 3,\n",
    "    'four': 4,\n",
    "    'five': 5,\n",
    "    'six': 6,\n",
    "    'seven': 7,\n",
    "    'eight': 8,\n",
    "    'nine': 9,\n",
    "}\n",
    "\n",
    "sentence = sentence.split()\n",
    "result = 0\n",
    "sign = 1\n",
    "\n",
    "for word in sentence:\n",
    "  if word == 'plus':\n",
    "    sign = 1\n",
    "  elif word == 'minus':\n",
    "    sign = sign * -1\n",
    "  else:\n",
    "    number = word_to_number[word]\n",
    "    result += (sign * number)\n",
    "\n",
    "result"
   ]
  },
  {
   "cell_type": "markdown",
   "metadata": {},
   "source": [
    "+ mila:\n",
    "  sign = +\n",
    "\n",
    "- mila:\n",
    "  sign reversed"
   ]
  },
  {
   "cell_type": "code",
   "execution_count": null,
   "metadata": {},
   "outputs": [],
   "source": [
    "sentence = '1 + 1 + 5 - 3 + 2 - - 4'\n",
    "\n",
    "result = 0\n",
    "result += (+1 * 1)\n",
    "result += (+1 * 1)\n",
    "result += (+1 * 5)\n",
    "result += (-1 * 5)\n",
    "result += (+1 * 2)\n",
    "result += (+1 * 4)"
   ]
  }
 ],
 "metadata": {
  "kernelspec": {
   "display_name": "Python 3",
   "language": "python",
   "name": "python3"
  },
  "language_info": {
   "codemirror_mode": {
    "name": "ipython",
    "version": 3
   },
   "file_extension": ".py",
   "mimetype": "text/x-python",
   "name": "python",
   "nbconvert_exporter": "python",
   "pygments_lexer": "ipython3",
   "version": "3.10.11"
  }
 },
 "nbformat": 4,
 "nbformat_minor": 2
}

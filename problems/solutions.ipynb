{
 "cells": [
  {
   "cell_type": "markdown",
   "metadata": {},
   "source": [
    "# Solutions"
   ]
  },
  {
   "cell_type": "markdown",
   "metadata": {},
   "source": [
    "# flatten_matrix"
   ]
  },
  {
   "cell_type": "code",
   "execution_count": 38,
   "metadata": {},
   "outputs": [
    {
     "name": "stdout",
     "output_type": "stream",
     "text": [
      "[1, 2, 3, 4, 5, 6, 7, 8, 9]\n",
      "[1, 4, 7, 1, 4, 7, 1, 4, 7]\n"
     ]
    }
   ],
   "source": [
    "def flatten_matrix(matrix, axis):\n",
    "  \"\"\"\n",
    "  Flatten a matrix along the specified axis, resulting in a list of all elements\n",
    "  arranged either in row-major (axis=0) or column-major (axis=1) order.\n",
    "\n",
    "  Args:\n",
    "      matrix (list): Matrix to flatten.\n",
    "      axis (int): Axis along which to flatten (0 for rows, 1 for columns).\n",
    "\n",
    "  Returns:\n",
    "      list: Flattened matrix.\n",
    "  \"\"\"\n",
    "  result = []\n",
    "\n",
    "  if axis == 0:\n",
    "    for row in matrix:\n",
    "      for elem in row:\n",
    "        result.append(elem)\n",
    "    return result\n",
    "\n",
    "  if axis == 1:\n",
    "    num_cols = len(matrix[0])\n",
    "    for j in range(num_cols):\n",
    "      col = [row[0] for row in matrix]\n",
    "      for elem in col:\n",
    "        result.append(elem)\n",
    "    return result\n",
    "\n",
    "\n",
    "# Test Case 1\n",
    "matrix = [[1, 2, 3], [4, 5, 6], [7, 8, 9]]\n",
    "axis = 0\n",
    "# Expected: [1, 2, 3, 4, 5, 6, 7, 8, 9]\n",
    "print(flatten_matrix(matrix, axis))\n",
    "\n",
    "# Test Case 2\n",
    "matrix = [[1, 2, 3], [4, 5, 6], [7, 8, 9]]\n",
    "axis = 1\n",
    "# Expected: [1, 4, 7, 2, 5, 8, 3, 6, 9]\n",
    "print(flatten_matrix(matrix, axis))"
   ]
  },
  {
   "cell_type": "code",
   "execution_count": 5,
   "metadata": {},
   "outputs": [
    {
     "data": {
      "text/plain": [
       "[[1, 2, 3], [4, 5, 6]]"
      ]
     },
     "execution_count": 5,
     "metadata": {},
     "output_type": "execute_result"
    },
    {
     "data": {
      "text/plain": [
       "[1, 2, 3, 4, 5, 6]"
      ]
     },
     "execution_count": 5,
     "metadata": {},
     "output_type": "execute_result"
    },
    {
     "data": {
      "text/plain": [
       "[1, 4, 2, 5, 3, 6]"
      ]
     },
     "execution_count": 5,
     "metadata": {},
     "output_type": "execute_result"
    }
   ],
   "source": [
    "[\n",
    "    [1, 2, 3],\n",
    "    [4, 5, 6]\n",
    "] # given matrix (list of rows)\n",
    "\n",
    "[1, 2, 3, 4, 5, 6]  # row wise flattened list (list of elements)\n",
    "[1, 4, 2, 5, 3, 6]  # col wise flattened list (list of elements)"
   ]
  },
  {
   "cell_type": "code",
   "execution_count": 9,
   "metadata": {},
   "outputs": [
    {
     "name": "stdout",
     "output_type": "stream",
     "text": [
      "[1, 2, 3, 4, 5, 6]\n"
     ]
    }
   ],
   "source": [
    "mat = [\n",
    "    [1, 2, 3],\n",
    "    [4, 5, 6]\n",
    "]\n",
    "\n",
    "result = []  # row wise flattened list\n",
    "\n",
    "for row in mat:\n",
    "  for elem in row:\n",
    "    result.append(elem)\n",
    "\n",
    "print(result)"
   ]
  },
  {
   "cell_type": "code",
   "execution_count": 22,
   "metadata": {},
   "outputs": [
    {
     "name": "stdout",
     "output_type": "stream",
     "text": [
      "[1, 4, 2, 5, 3, 6]\n"
     ]
    }
   ],
   "source": [
    "mat = [\n",
    "    [1, 2, 3],\n",
    "    [4, 5, 6]\n",
    "]\n",
    "\n",
    "result = []  # col wise flattened list\n",
    "\n",
    "num_cols = len(mat[0])\n",
    "for j in range(num_cols):\n",
    "  col = [row[j] for row in mat]\n",
    "  for elem in col:\n",
    "    result.append(elem)\n",
    "\n",
    "print(result)"
   ]
  },
  {
   "cell_type": "markdown",
   "metadata": {},
   "source": [
    "# rotate_list_clockwise"
   ]
  },
  {
   "cell_type": "code",
   "execution_count": 37,
   "metadata": {},
   "outputs": [
    {
     "name": "stdout",
     "output_type": "stream",
     "text": [
      "[3, 1, 2]\n",
      "[2, 3, 1]\n"
     ]
    }
   ],
   "source": [
    "def rotate_list_clockwise(lst, k):\n",
    "  \"\"\"\n",
    "  Rotate a list clockwise k times.\n",
    "\n",
    "  Args:\n",
    "      lst (list): List to rotate.\n",
    "      k (int): Number of rotations.\n",
    "\n",
    "  Returns:\n",
    "      list: Rotated list.\n",
    "  \"\"\"\n",
    "  n = len(lst)\n",
    "\n",
    "  new_lst = [0 for i in range(n)]\n",
    "\n",
    "  for i in range(n):\n",
    "    new_i = (i + k) % n\n",
    "    new_lst[new_i] = lst[i]\n",
    "\n",
    "  return new_lst\n",
    "\n",
    "\n",
    "# Test Case 1\n",
    "lst = [1, 2, 3]\n",
    "k = 1\n",
    "# Expected: [3, 1, 2]\n",
    "print(rotate_list_clockwise(lst, k))\n",
    "\n",
    "# Test Case 2\n",
    "lst = [1, 2, 3]\n",
    "k = 2\n",
    "# Expected: [2, 3, 1]\n",
    "print(rotate_list_clockwise(lst, k))"
   ]
  },
  {
   "cell_type": "code",
   "execution_count": 36,
   "metadata": {},
   "outputs": [
    {
     "data": {
      "text/plain": [
       "[12, 21, 53]"
      ]
     },
     "execution_count": 36,
     "metadata": {},
     "output_type": "execute_result"
    }
   ],
   "source": [
    "lst = [12, 21, 53]\n",
    "k = 3\n",
    "\n",
    "n = len(lst)\n",
    "new_lst = [0 for i in range(n)]\n",
    "\n",
    "for i in range(n):\n",
    "  new_i = i + k\n",
    "  new_i = new_i % n\n",
    "  new_lst[new_i] = lst[i]\n",
    "\n",
    "new_lst"
   ]
  },
  {
   "cell_type": "markdown",
   "metadata": {},
   "source": [
    "# special_identity_matrix"
   ]
  },
  {
   "cell_type": "code",
   "execution_count": 49,
   "metadata": {},
   "outputs": [
    {
     "name": "stdout",
     "output_type": "stream",
     "text": [
      "[[1, 1], [1, 1]]\n",
      "[[1, 0, 1], [0, 1, 0], [1, 0, 1]]\n"
     ]
    }
   ],
   "source": [
    "def special_identity_matrix(n):\n",
    "  \"\"\"\n",
    "  Generate a special identity matrix of size n x n with ones on both diagonals.\n",
    "\n",
    "  Args:\n",
    "      n (int): Size of the special identity matrix.\n",
    "\n",
    "  Returns:\n",
    "      list: Special identity matrix.\n",
    "  \"\"\"\n",
    "  mat = [[0 for j in range(n)] for i in range(n)]\n",
    "\n",
    "  for i in range(n):\n",
    "    for j in range(n):\n",
    "      if i == j:\n",
    "        mat[i][j] = 1\n",
    "\n",
    "  for i in range(n):\n",
    "    j = (n-1)-i\n",
    "    mat[i][j] = 1\n",
    "\n",
    "  return mat\n",
    "\n",
    "\n",
    "# Test Case 1\n",
    "n = 2\n",
    "# Expected: [[1, 1], [1, 1]]\n",
    "print(special_identity_matrix(n))\n",
    "\n",
    "# Test Case 2\n",
    "n = 3\n",
    "# Expected: [[1, 0, 1], [0, 1, 0], [1, 0, 1]]\n",
    "print(special_identity_matrix(n))"
   ]
  },
  {
   "cell_type": "code",
   "execution_count": 44,
   "metadata": {},
   "outputs": [
    {
     "name": "stdout",
     "output_type": "stream",
     "text": [
      "[[1, 0, 1], [0, 1, 0], [1, 0, 1]]\n"
     ]
    }
   ],
   "source": [
    "n = 3\n",
    "\n",
    "mat = [[0 for j in range(n)] for i in range(n)]\n",
    "\n",
    "for i in range(n):\n",
    "  for j in range(n):\n",
    "    if i == j:\n",
    "      mat[i][j] = 1\n",
    "\n",
    "for i in range(n):\n",
    "  j = n-1-i\n",
    "  mat[i][j] = 1\n",
    "\n",
    "print(mat)"
   ]
  },
  {
   "cell_type": "code",
   "execution_count": 42,
   "metadata": {},
   "outputs": [
    {
     "name": "stdout",
     "output_type": "stream",
     "text": [
      "1\n",
      "6\n",
      "1\n",
      "\n",
      "6\n",
      "6\n",
      "6\n"
     ]
    }
   ],
   "source": [
    "n = 3\n",
    "\n",
    "M = [\n",
    "    [1, 0, 6],\n",
    "    [0, 6, 0],\n",
    "    [6, 0, 1],\n",
    "]\n",
    "\n",
    "for i in range(n):\n",
    "  for j in range(n):\n",
    "    if i == j:\n",
    "      print(M[i][j])\n",
    "\n",
    "print()\n",
    "\n",
    "for i in range(n):\n",
    "  j = n-1-i\n",
    "  print(M[i][j])"
   ]
  }
 ],
 "metadata": {
  "kernelspec": {
   "display_name": "Python 3",
   "language": "python",
   "name": "python3"
  },
  "language_info": {
   "codemirror_mode": {
    "name": "ipython",
    "version": 3
   },
   "file_extension": ".py",
   "mimetype": "text/x-python",
   "name": "python",
   "nbconvert_exporter": "python",
   "pygments_lexer": "ipython3",
   "version": "3.10.11"
  }
 },
 "nbformat": 4,
 "nbformat_minor": 2
}

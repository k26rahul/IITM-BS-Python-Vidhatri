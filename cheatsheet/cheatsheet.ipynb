{
 "cells": [
  {
   "cell_type": "markdown",
   "metadata": {},
   "source": [
    "# Strings"
   ]
  },
  {
   "cell_type": "code",
   "execution_count": 1,
   "metadata": {},
   "outputs": [],
   "source": [
    "word = 'apple'"
   ]
  },
  {
   "cell_type": "markdown",
   "metadata": {},
   "source": [
    "### to reverse a string"
   ]
  },
  {
   "cell_type": "code",
   "execution_count": 6,
   "metadata": {},
   "outputs": [
    {
     "data": {
      "text/plain": [
       "['a', 'p', 'p', 'l', 'e']"
      ]
     },
     "execution_count": 6,
     "metadata": {},
     "output_type": "execute_result"
    },
    {
     "data": {
      "text/plain": [
       "<list_reverseiterator at 0x18386e3ac50>"
      ]
     },
     "execution_count": 6,
     "metadata": {},
     "output_type": "execute_result"
    },
    {
     "data": {
      "text/plain": [
       "['e', 'l', 'p', 'p', 'a']"
      ]
     },
     "execution_count": 6,
     "metadata": {},
     "output_type": "execute_result"
    },
    {
     "data": {
      "text/plain": [
       "'elppa'"
      ]
     },
     "execution_count": 6,
     "metadata": {},
     "output_type": "execute_result"
    }
   ],
   "source": [
    "list(word)\n",
    "\n",
    "reversed(list(word))\n",
    "\n",
    "list(reversed(list(word)))\n",
    "\n",
    "''.join(\n",
    "    list(reversed(list(word)))\n",
    ")"
   ]
  },
  {
   "cell_type": "markdown",
   "metadata": {},
   "source": [
    "### to sort a string"
   ]
  },
  {
   "cell_type": "code",
   "execution_count": 18,
   "metadata": {},
   "outputs": [
    {
     "data": {
      "text/plain": [
       "['a', 'p', 'p', 'l', 'e']"
      ]
     },
     "execution_count": 18,
     "metadata": {},
     "output_type": "execute_result"
    },
    {
     "data": {
      "text/plain": [
       "['p', 'p', 'l', 'e', 'a']"
      ]
     },
     "execution_count": 18,
     "metadata": {},
     "output_type": "execute_result"
    },
    {
     "data": {
      "text/plain": [
       "'pplea'"
      ]
     },
     "execution_count": 18,
     "metadata": {},
     "output_type": "execute_result"
    }
   ],
   "source": [
    "list(word)\n",
    "\n",
    "sorted(list(word), reverse=True)\n",
    "\n",
    "''.join(\n",
    "    sorted(list(word), reverse=True)\n",
    ")"
   ]
  },
  {
   "cell_type": "markdown",
   "metadata": {},
   "source": [
    "### case convert a string"
   ]
  },
  {
   "cell_type": "code",
   "execution_count": 20,
   "metadata": {},
   "outputs": [
    {
     "data": {
      "text/plain": [
       "'apple'"
      ]
     },
     "execution_count": 20,
     "metadata": {},
     "output_type": "execute_result"
    },
    {
     "data": {
      "text/plain": [
       "'APPLE'"
      ]
     },
     "execution_count": 20,
     "metadata": {},
     "output_type": "execute_result"
    }
   ],
   "source": [
    "word.lower()\n",
    "\n",
    "word.upper()"
   ]
  },
  {
   "cell_type": "markdown",
   "metadata": {},
   "source": [
    "### string -> number (ordinal value of letters)"
   ]
  },
  {
   "cell_type": "code",
   "execution_count": 26,
   "metadata": {},
   "outputs": [
    {
     "data": {
      "text/plain": [
       "65"
      ]
     },
     "execution_count": 26,
     "metadata": {},
     "output_type": "execute_result"
    },
    {
     "data": {
      "text/plain": [
       "66"
      ]
     },
     "execution_count": 26,
     "metadata": {},
     "output_type": "execute_result"
    },
    {
     "data": {
      "text/plain": [
       "97"
      ]
     },
     "execution_count": 26,
     "metadata": {},
     "output_type": "execute_result"
    },
    {
     "data": {
      "text/plain": [
       "98"
      ]
     },
     "execution_count": 26,
     "metadata": {},
     "output_type": "execute_result"
    }
   ],
   "source": [
    "ord('A')\n",
    "ord('B')\n",
    "\n",
    "ord('a')\n",
    "ord('b')"
   ]
  },
  {
   "cell_type": "markdown",
   "metadata": {},
   "source": [
    "### dog/cat dist problem"
   ]
  },
  {
   "cell_type": "code",
   "execution_count": 33,
   "metadata": {},
   "outputs": [
    {
     "name": "stdout",
     "output_type": "stream",
     "text": [
      "letter1='d', letter2='c', dist=1\n",
      "letter1='o', letter2='a', dist=14\n",
      "letter1='g', letter2='t', dist=13\n",
      "dist_sum=28\n"
     ]
    }
   ],
   "source": [
    "word1 = 'dog'\n",
    "word2 = 'cat'\n",
    "\n",
    "n = len(word1)\n",
    "dist_sum = 0\n",
    "\n",
    "for i in range(n):\n",
    "  letter1 = word1[i]\n",
    "  letter2 = word2[i]\n",
    "\n",
    "  dist = abs(ord(letter1) - ord(letter2))\n",
    "  dist_sum += dist\n",
    "  print(f'{letter1=}, {letter2=}, {dist=}')\n",
    "\n",
    "print(f'{dist_sum=}')"
   ]
  },
  {
   "cell_type": "markdown",
   "metadata": {},
   "source": [
    "### chess board bishop move problem"
   ]
  },
  {
   "attachments": {
    "image.png": {
     "image/png": "[encoded data removed]"
    }
   },
   "cell_type": "markdown",
   "metadata": {},
   "source": [
    "![image.png](attachment:image.png)"
   ]
  },
  {
   "cell_type": "code",
   "execution_count": 41,
   "metadata": {},
   "outputs": [
    {
     "data": {
      "text/plain": [
       "8"
      ]
     },
     "execution_count": 41,
     "metadata": {},
     "output_type": "execute_result"
    }
   ],
   "source": [
    "letter = 'H'\n",
    "ord(letter) - 64"
   ]
  },
  {
   "cell_type": "code",
   "execution_count": 47,
   "metadata": {},
   "outputs": [
    {
     "name": "stdout",
     "output_type": "stream",
     "text": [
      "ipos_y=4, fpos_y=8\n",
      "ipos_x=3, fpos_x=6\n",
      "x_dist=3, y_dist=4\n",
      "move is invalid 😵\n"
     ]
    }
   ],
   "source": [
    "ipos = 'C4'\n",
    "fpos = 'F8'\n",
    "\n",
    "ipos_y = int(ipos[1])\n",
    "fpos_y = int(fpos[1])\n",
    "\n",
    "ipos_x = ord(ipos[0]) - 64\n",
    "fpos_x = ord(fpos[0]) - 64\n",
    "\n",
    "x_dist = abs(ipos_x - fpos_x)\n",
    "y_dist = abs(ipos_y - fpos_y)\n",
    "\n",
    "print(f'{ipos_y=}, {fpos_y=}')\n",
    "print(f'{ipos_x=}, {fpos_x=}')\n",
    "print(f'{x_dist=}, {y_dist=}')\n",
    "\n",
    "if x_dist == y_dist:\n",
    "  print('move is possible 😀')\n",
    "else:\n",
    "  print('move is invalid 😵')"
   ]
  },
  {
   "cell_type": "markdown",
   "metadata": {},
   "source": [
    "# Lists"
   ]
  },
  {
   "cell_type": "code",
   "execution_count": 48,
   "metadata": {},
   "outputs": [],
   "source": [
    "L = [8, 9, 1, 0, 10, 11, 5]"
   ]
  },
  {
   "cell_type": "markdown",
   "metadata": {},
   "source": [
    "### sort() method (🚨 modify the og list)"
   ]
  },
  {
   "cell_type": "code",
   "execution_count": 49,
   "metadata": {},
   "outputs": [
    {
     "data": {
      "text/plain": [
       "[0, 1, 5, 8, 9, 10, 11]"
      ]
     },
     "execution_count": 49,
     "metadata": {},
     "output_type": "execute_result"
    }
   ],
   "source": [
    "L = [8, 9, 1, 0, 10, 11, 5]\n",
    "L.sort()\n",
    "L"
   ]
  },
  {
   "cell_type": "code",
   "execution_count": 50,
   "metadata": {},
   "outputs": [
    {
     "data": {
      "text/plain": [
       "[11, 10, 9, 8, 5, 1, 0]"
      ]
     },
     "execution_count": 50,
     "metadata": {},
     "output_type": "execute_result"
    }
   ],
   "source": [
    "L = [8, 9, 1, 0, 10, 11, 5]\n",
    "L.sort(reverse=True)\n",
    "L"
   ]
  },
  {
   "cell_type": "code",
   "execution_count": 54,
   "metadata": {},
   "outputs": [
    {
     "name": "stdout",
     "output_type": "stream",
     "text": [
      "L=[8, 9, 1, 0, 10, 11, 5]\n",
      "new_L=[0, 1, 5, 8, 9, 10, 11]\n"
     ]
    }
   ],
   "source": [
    "# if sort() method not allowed (we do a trick!)\n",
    "\n",
    "L = [8, 9, 1, 0, 10, 11, 5]\n",
    "new_L = L[:]  # 🔥 Brahamastra for copying a list (newly created list is stored in `new_L` variable)\n",
    "new_L.sort()\n",
    "\n",
    "print(f'{L=}')\n",
    "print(f'{new_L=}')"
   ]
  },
  {
   "cell_type": "markdown",
   "metadata": {},
   "source": [
    "### sorted() function (✌️ og list is untouched)"
   ]
  },
  {
   "cell_type": "code",
   "execution_count": 56,
   "metadata": {},
   "outputs": [
    {
     "name": "stdout",
     "output_type": "stream",
     "text": [
      "L=[8, 9, 1, 0, 10, 11, 5]\n",
      "new_L=[0, 1, 5, 8, 9, 10, 11]\n"
     ]
    }
   ],
   "source": [
    "L = [8, 9, 1, 0, 10, 11, 5]\n",
    "new_L = sorted(L) # we don't have any tricks to use this in oppe if they don't allow\n",
    "\n",
    "print(f'{L=}')\n",
    "print(f'{new_L=}')"
   ]
  },
  {
   "cell_type": "markdown",
   "metadata": {},
   "source": [
    "### reverse() method (🚨 modify the og list)"
   ]
  },
  {
   "cell_type": "code",
   "execution_count": 57,
   "metadata": {},
   "outputs": [
    {
     "data": {
      "text/plain": [
       "[5, 11, 10, 0, 1, 9, 8]"
      ]
     },
     "execution_count": 57,
     "metadata": {},
     "output_type": "execute_result"
    }
   ],
   "source": [
    "L = [8, 9, 1, 0, 10, 11, 5]\n",
    "L.reverse()\n",
    "L"
   ]
  },
  {
   "cell_type": "markdown",
   "metadata": {},
   "source": [
    "### reversed() function (✌️ og list is untouched)"
   ]
  },
  {
   "cell_type": "code",
   "execution_count": 60,
   "metadata": {},
   "outputs": [
    {
     "data": {
      "text/plain": [
       "<list_reverseiterator at 0x18386dfaa40>"
      ]
     },
     "execution_count": 60,
     "metadata": {},
     "output_type": "execute_result"
    },
    {
     "data": {
      "text/plain": [
       "[5, 11, 10, 0, 1, 9, 8]"
      ]
     },
     "execution_count": 60,
     "metadata": {},
     "output_type": "execute_result"
    }
   ],
   "source": [
    "L = [8, 9, 1, 0, 10, 11, 5]\n",
    "\n",
    "reversed(L)\n",
    "\n",
    "list(reversed(L))"
   ]
  },
  {
   "cell_type": "markdown",
   "metadata": {},
   "source": [
    "### join() method"
   ]
  },
  {
   "cell_type": "code",
   "execution_count": 94,
   "metadata": {},
   "outputs": [
    {
     "data": {
      "text/plain": [
       "'todayisagoodday'"
      ]
     },
     "execution_count": 94,
     "metadata": {},
     "output_type": "execute_result"
    },
    {
     "data": {
      "text/plain": [
       "'today is a good day'"
      ]
     },
     "execution_count": 94,
     "metadata": {},
     "output_type": "execute_result"
    },
    {
     "data": {
      "text/plain": [
       "'today,is,a,good,day'"
      ]
     },
     "execution_count": 94,
     "metadata": {},
     "output_type": "execute_result"
    },
    {
     "data": {
      "text/plain": [
       "'today#$#is#$#a#$#good#$#day'"
      ]
     },
     "execution_count": 94,
     "metadata": {},
     "output_type": "execute_result"
    }
   ],
   "source": [
    "L = ['today', 'is', 'a', 'good', 'day']  # all elems are strings\n",
    "\n",
    "''.join(L)\n",
    "\n",
    "' '.join(L)\n",
    "\n",
    "','.join(L)\n",
    "\n",
    "'#$#'.join(L)"
   ]
  },
  {
   "cell_type": "code",
   "execution_count": 97,
   "metadata": {},
   "outputs": [],
   "source": [
    "L = [1, 2, 3, 4]\n",
    "\n",
    "# ','.join(L)  # TypeError: sequence item 0: expected str instance, int found"
   ]
  },
  {
   "cell_type": "code",
   "execution_count": 101,
   "metadata": {},
   "outputs": [
    {
     "data": {
      "text/plain": [
       "['1', '2', '3', '4']"
      ]
     },
     "execution_count": 101,
     "metadata": {},
     "output_type": "execute_result"
    },
    {
     "data": {
      "text/plain": [
       "'1,2,3,4'"
      ]
     },
     "execution_count": 101,
     "metadata": {},
     "output_type": "execute_result"
    }
   ],
   "source": [
    "L = [1, 2, 3, 4]\n",
    "L = [str(x) for x in L]  # all x are mapped to their string representation\n",
    "\n",
    "L  # now it's a list of strings\n",
    "','.join(L)  # join is ok"
   ]
  },
  {
   "cell_type": "markdown",
   "metadata": {},
   "source": [
    "### add two lists together"
   ]
  },
  {
   "cell_type": "code",
   "execution_count": 103,
   "metadata": {},
   "outputs": [
    {
     "data": {
      "text/plain": [
       "[1, 2, 3, 11, 44, 55]"
      ]
     },
     "execution_count": 103,
     "metadata": {},
     "output_type": "execute_result"
    }
   ],
   "source": [
    "L1 = [1, 2, 3]\n",
    "L2 = [11, 44, 55]\n",
    "\n",
    "L1 + L2"
   ]
  },
  {
   "cell_type": "code",
   "execution_count": 104,
   "metadata": {},
   "outputs": [
    {
     "data": {
      "text/plain": [
       "['rahul', 'vidhatri', 'sanika']"
      ]
     },
     "execution_count": 104,
     "metadata": {},
     "output_type": "execute_result"
    }
   ],
   "source": [
    "['rahul', 'vidhatri'] + ['sanika']"
   ]
  },
  {
   "cell_type": "markdown",
   "metadata": {},
   "source": [
    "### 2 ways to loop"
   ]
  },
  {
   "cell_type": "code",
   "execution_count": 106,
   "metadata": {},
   "outputs": [
    {
     "name": "stdout",
     "output_type": "stream",
     "text": [
      "name='rahul'\n",
      "name='vidhatri'\n",
      "name='sanika'\n"
     ]
    }
   ],
   "source": [
    "names = ['rahul', 'vidhatri', 'sanika']\n",
    "\n",
    "# 1. directly loop over list elems\n",
    "for name in names:\n",
    "  print(f'{name=}')"
   ]
  },
  {
   "cell_type": "code",
   "execution_count": 117,
   "metadata": {},
   "outputs": [
    {
     "name": "stdout",
     "output_type": "stream",
     "text": [
      "i=0, names[i]='rahul'\n",
      "i=1, names[i]='vidhatri'\n",
      "i=2, names[i]='sanika'\n"
     ]
    }
   ],
   "source": [
    "names = ['rahul', 'vidhatri', 'sanika']\n",
    "\n",
    "# 2. loop over list indices (then use those indices to get elem values: names[i])\n",
    "n = len(names)\n",
    "for i in range(n):\n",
    "  print(f'{i=}, {names[i]=}')"
   ]
  },
  {
   "cell_type": "markdown",
   "metadata": {},
   "source": [
    "### to demo: why use loop over indices"
   ]
  },
  {
   "cell_type": "code",
   "execution_count": 118,
   "metadata": {},
   "outputs": [
    {
     "name": "stdout",
     "output_type": "stream",
     "text": [
      "i=0, names[i]='rahul', marks[i]=90\n",
      "i=1, names[i]='vidhatri', marks[i]=80\n",
      "i=2, names[i]='sanika', marks[i]=70\n"
     ]
    }
   ],
   "source": [
    "names = ['rahul', 'vidhatri', 'sanika']\n",
    "marks = [90, 80, 70]\n",
    "\n",
    "n = len(names)\n",
    "for i in range(n):\n",
    "  print(f'{i=}, {names[i]=}, {marks[i]=}')"
   ]
  },
  {
   "cell_type": "code",
   "execution_count": 116,
   "metadata": {},
   "outputs": [
    {
     "name": "stdout",
     "output_type": "stream",
     "text": [
      "name='rahul', mark=90\n",
      "name='vidhatri', mark=80\n",
      "name='sanika', mark=70\n"
     ]
    }
   ],
   "source": [
    "names = ['rahul', 'vidhatri', 'sanika']\n",
    "marks = [90, 80, 70]\n",
    "\n",
    "n = len(names)\n",
    "for i in range(n):\n",
    "  name = names[i]\n",
    "  mark = marks[i]\n",
    "  print(f'{name=}, {mark=}')"
   ]
  },
  {
   "cell_type": "markdown",
   "metadata": {},
   "source": [
    "# Set"
   ]
  },
  {
   "cell_type": "code",
   "execution_count": 66,
   "metadata": {},
   "outputs": [
    {
     "data": {
      "text/plain": [
       "{1, 2, 3, 4, 5}"
      ]
     },
     "execution_count": 66,
     "metadata": {},
     "output_type": "execute_result"
    },
    {
     "data": {
      "text/plain": [
       "{1, 2, 3, 4, 5}"
      ]
     },
     "execution_count": 66,
     "metadata": {},
     "output_type": "execute_result"
    },
    {
     "data": {
      "text/plain": [
       "{1, 2, 3, 4, 5}"
      ]
     },
     "execution_count": 66,
     "metadata": {},
     "output_type": "execute_result"
    }
   ],
   "source": [
    "{1, 2, 3, 4, 4, 4, 5, 5}  # direct notation\n",
    "\n",
    "set([1, 2, 3, 4, 4, 4, 5, 5])  # a list is given\n",
    "\n",
    "set((1, 2, 3, 4, 4, 4, 5, 5))  # a tuple is given"
   ]
  },
  {
   "cell_type": "markdown",
   "metadata": {},
   "source": [
    "### set operations (using operators and functions)"
   ]
  },
  {
   "cell_type": "code",
   "execution_count": 68,
   "metadata": {},
   "outputs": [],
   "source": [
    "set1 = {1, 2, 3, 4, 5, 6}\n",
    "set2 = {10, 5, 6}"
   ]
  },
  {
   "cell_type": "code",
   "execution_count": 74,
   "metadata": {},
   "outputs": [
    {
     "data": {
      "text/plain": [
       "{1, 2, 3, 4, 5, 6, 10}"
      ]
     },
     "execution_count": 74,
     "metadata": {},
     "output_type": "execute_result"
    },
    {
     "data": {
      "text/plain": [
       "{1, 2, 3, 4, 5, 6, 10}"
      ]
     },
     "execution_count": 74,
     "metadata": {},
     "output_type": "execute_result"
    }
   ],
   "source": [
    "set1 | set2  # or/union\n",
    "\n",
    "set1.union(set2)"
   ]
  },
  {
   "cell_type": "code",
   "execution_count": 75,
   "metadata": {},
   "outputs": [
    {
     "data": {
      "text/plain": [
       "{5, 6}"
      ]
     },
     "execution_count": 75,
     "metadata": {},
     "output_type": "execute_result"
    },
    {
     "data": {
      "text/plain": [
       "{5, 6}"
      ]
     },
     "execution_count": 75,
     "metadata": {},
     "output_type": "execute_result"
    }
   ],
   "source": [
    "set1 & set2  # and/intersection\n",
    "\n",
    "set1.intersection(set2)"
   ]
  },
  {
   "cell_type": "code",
   "execution_count": 76,
   "metadata": {},
   "outputs": [
    {
     "data": {
      "text/plain": [
       "{1, 2, 3, 4}"
      ]
     },
     "execution_count": 76,
     "metadata": {},
     "output_type": "execute_result"
    },
    {
     "data": {
      "text/plain": [
       "{1, 2, 3, 4}"
      ]
     },
     "execution_count": 76,
     "metadata": {},
     "output_type": "execute_result"
    }
   ],
   "source": [
    "set1 - set2  # diff\n",
    "\n",
    "set1.difference(set2)"
   ]
  },
  {
   "cell_type": "code",
   "execution_count": 77,
   "metadata": {},
   "outputs": [
    {
     "data": {
      "text/plain": [
       "{1, 2, 3, 4, 10}"
      ]
     },
     "execution_count": 77,
     "metadata": {},
     "output_type": "execute_result"
    },
    {
     "data": {
      "text/plain": [
       "{1, 2, 3, 4, 10}"
      ]
     },
     "execution_count": 77,
     "metadata": {},
     "output_type": "execute_result"
    }
   ],
   "source": [
    "set1 ^ set2  # symmetric diff (union - intersection)\n",
    "\n",
    "set1.symmetric_difference(set2)"
   ]
  },
  {
   "cell_type": "markdown",
   "metadata": {},
   "source": [
    "### set methods"
   ]
  },
  {
   "cell_type": "code",
   "execution_count": 85,
   "metadata": {},
   "outputs": [],
   "source": [
    "set1 = {1, 2, 3, 4, 5, 6}"
   ]
  },
  {
   "cell_type": "code",
   "execution_count": 86,
   "metadata": {},
   "outputs": [
    {
     "data": {
      "text/plain": [
       "{1, 2, 3, 4, 5}"
      ]
     },
     "execution_count": 86,
     "metadata": {},
     "output_type": "execute_result"
    }
   ],
   "source": [
    "# set1.remove(99) # KeyError: 99 (cause 99 is NOT present)\n",
    "set1.remove(6)  # this ok cause 6 is present\n",
    "set1"
   ]
  },
  {
   "cell_type": "code",
   "execution_count": 87,
   "metadata": {},
   "outputs": [
    {
     "data": {
      "text/plain": [
       "{1, 2, 3, 4}"
      ]
     },
     "execution_count": 87,
     "metadata": {},
     "output_type": "execute_result"
    }
   ],
   "source": [
    "set1.discard(5)\n",
    "set1.discard(99)  # no error (even though 99 is NOT present)\n",
    "set1"
   ]
  },
  {
   "cell_type": "code",
   "execution_count": 88,
   "metadata": {},
   "outputs": [
    {
     "data": {
      "text/plain": [
       "{1, 2, 3, 4, 17}"
      ]
     },
     "execution_count": 88,
     "metadata": {},
     "output_type": "execute_result"
    }
   ],
   "source": [
    "set1.add(17)\n",
    "set1"
   ]
  },
  {
   "cell_type": "markdown",
   "metadata": {},
   "source": [
    "1. remove: gives error is value is not present\n",
    "2. discard: silently discard value if present"
   ]
  },
  {
   "cell_type": "markdown",
   "metadata": {},
   "source": [
    "# Matrix"
   ]
  },
  {
   "cell_type": "code",
   "execution_count": 119,
   "metadata": {},
   "outputs": [],
   "source": [
    "matrix_a = [\n",
    "    [1, 2, 3],\n",
    "    [4, 5, 6],\n",
    "]\n",
    "\n",
    "matrix_b = [\n",
    "    [7, 8],\n",
    "    [9, 10],\n",
    "    [11, 12]\n",
    "]"
   ]
  },
  {
   "cell_type": "code",
   "execution_count": 122,
   "metadata": {},
   "outputs": [
    {
     "data": {
      "text/plain": [
       "2"
      ]
     },
     "execution_count": 122,
     "metadata": {},
     "output_type": "execute_result"
    },
    {
     "data": {
      "text/plain": [
       "3"
      ]
     },
     "execution_count": 122,
     "metadata": {},
     "output_type": "execute_result"
    }
   ],
   "source": [
    "# no. of rows in matrix_a\n",
    "len(matrix_a)\n",
    "\n",
    "# no. of cols in matrix_a\n",
    "len(matrix_a[0])"
   ]
  },
  {
   "cell_type": "code",
   "execution_count": 125,
   "metadata": {},
   "outputs": [
    {
     "data": {
      "text/plain": [
       "[1, 2, 3]"
      ]
     },
     "execution_count": 125,
     "metadata": {},
     "output_type": "execute_result"
    }
   ],
   "source": [
    "# get i-th row of matrix_a\n",
    "i = 0\n",
    "matrix_a[i]"
   ]
  },
  {
   "cell_type": "code",
   "execution_count": 126,
   "metadata": {},
   "outputs": [
    {
     "data": {
      "text/plain": [
       "[1, 4]"
      ]
     },
     "execution_count": 126,
     "metadata": {},
     "output_type": "execute_result"
    }
   ],
   "source": [
    "# get j-th col of matrix_a\n",
    "j = 0\n",
    "[row[j] for row in matrix_a]"
   ]
  },
  {
   "cell_type": "markdown",
   "metadata": {},
   "source": [
    "### scalar mult"
   ]
  },
  {
   "cell_type": "markdown",
   "metadata": {},
   "source": [
    "make ans_matrix: prefer"
   ]
  },
  {
   "cell_type": "code",
   "execution_count": 131,
   "metadata": {},
   "outputs": [
    {
     "data": {
      "text/plain": [
       "[[14, 16], [18, 20], [22, 24]]"
      ]
     },
     "execution_count": 131,
     "metadata": {},
     "output_type": "execute_result"
    }
   ],
   "source": [
    "matrix_b = [\n",
    "    [7, 8],\n",
    "    [9, 10],\n",
    "    [11, 12]\n",
    "]\n",
    "\n",
    "k = 2\n",
    "\n",
    "# 1. get num_rows/num_cols\n",
    "num_rows = len(matrix_b)\n",
    "num_cols = len(matrix_b[0])\n",
    "\n",
    "# 2. make ans_matrix\n",
    "ans_matrix = [[\n",
    "    0 for j in range(num_cols)\n",
    "] for i in range(num_rows)]\n",
    "\n",
    "# 3. do i*j loop\n",
    "for i in range(num_rows):\n",
    "  for j in range(num_cols):\n",
    "    # inside loop: update ans_matrix[i][j]\n",
    "    ans_matrix[i][j] = matrix_b[i][j] * k\n",
    "\n",
    "ans_matrix"
   ]
  },
  {
   "cell_type": "markdown",
   "metadata": {},
   "source": [
    "directly modify matrix_b: avoid"
   ]
  },
  {
   "cell_type": "code",
   "execution_count": 134,
   "metadata": {},
   "outputs": [
    {
     "data": {
      "text/plain": [
       "[[14, 16], [18, 20], [22, 24]]"
      ]
     },
     "execution_count": 134,
     "metadata": {},
     "output_type": "execute_result"
    }
   ],
   "source": [
    "matrix_b = [\n",
    "    [7, 8],\n",
    "    [9, 10],\n",
    "    [11, 12]\n",
    "]\n",
    "\n",
    "k = 2\n",
    "\n",
    "# 1. get num_rows/num_cols\n",
    "num_rows = len(matrix_b)\n",
    "num_cols = len(matrix_b[0])\n",
    "\n",
    "# 3. do i*j loop\n",
    "for i in range(num_rows):\n",
    "  for j in range(num_cols):\n",
    "    # inside loop: update matrix_b[i][j]\n",
    "    matrix_b[i][j] = matrix_b[i][j] * k\n",
    "\n",
    "matrix_b"
   ]
  },
  {
   "cell_type": "markdown",
   "metadata": {},
   "source": [
    "### matrix addition"
   ]
  },
  {
   "cell_type": "code",
   "execution_count": 135,
   "metadata": {},
   "outputs": [],
   "source": [
    "matrix_a = [\n",
    "    [5, 2],\n",
    "    [9, 10],\n",
    "    [1, 11]\n",
    "]\n",
    "\n",
    "matrix_b = [\n",
    "    [7, 8],\n",
    "    [9, 10],\n",
    "    [11, 12]\n",
    "]"
   ]
  },
  {
   "cell_type": "code",
   "execution_count": 140,
   "metadata": {},
   "outputs": [
    {
     "data": {
      "text/plain": [
       "[[12, 10], [18, 20], [12, 23]]"
      ]
     },
     "execution_count": 140,
     "metadata": {},
     "output_type": "execute_result"
    }
   ],
   "source": [
    "num_rows = len(matrix_a)\n",
    "num_cols = len(matrix_a[0])\n",
    "\n",
    "ans_matrix = [[\n",
    "    0 for j in range(num_cols)\n",
    "] for i in range(num_rows)]\n",
    "\n",
    "for i in range(num_rows):\n",
    "  for j in range(num_cols):\n",
    "    ans_matrix[i][j] = matrix_a[i][j] + matrix_b[i][j]\n",
    "\n",
    "ans_matrix"
   ]
  },
  {
   "cell_type": "markdown",
   "metadata": {},
   "source": [
    "### matrix multiplication (simple, preferred approach)"
   ]
  },
  {
   "cell_type": "code",
   "execution_count": 11,
   "metadata": {},
   "outputs": [
    {
     "data": {
      "text/plain": [
       "[['58', '64'], ['139', '154']]"
      ]
     },
     "execution_count": 11,
     "metadata": {},
     "output_type": "execute_result"
    }
   ],
   "source": [
    "matrix_a = [\n",
    "    [1, 2, 3],\n",
    "    [4, 5, 6],\n",
    "]\n",
    "\n",
    "matrix_b = [\n",
    "    [7, 8],\n",
    "    [9, 10],\n",
    "    [11, 12]\n",
    "]\n",
    "\n",
    "# (m * n) mult (n * p) = (m * p)\n",
    "num_rows = len(matrix_a)\n",
    "num_cols = len(matrix_b[0])\n",
    "n = len(matrix_b)\n",
    "\n",
    "ans_matrix = [[\n",
    "    0 for j in range(num_cols)\n",
    "] for i in range(num_rows)]\n",
    "\n",
    "for i in range(num_rows):\n",
    "  for j in range(num_cols):\n",
    "    sigma = 0\n",
    "    for k in range(n):\n",
    "      sigma += matrix_a[i][k] * matrix_b[k][j]\n",
    "    ans_matrix[i][j] = str(sigma)\n",
    "\n",
    "ans_matrix"
   ]
  },
  {
   "cell_type": "markdown",
   "metadata": {},
   "source": [
    "### matrix multiplication (functional approach)"
   ]
  },
  {
   "cell_type": "code",
   "execution_count": 30,
   "metadata": {},
   "outputs": [
    {
     "data": {
      "text/plain": [
       "[1, 2, 3]"
      ]
     },
     "execution_count": 30,
     "metadata": {},
     "output_type": "execute_result"
    },
    {
     "data": {
      "text/plain": [
       "[1, 4]"
      ]
     },
     "execution_count": 30,
     "metadata": {},
     "output_type": "execute_result"
    },
    {
     "data": {
      "text/plain": [
       "58"
      ]
     },
     "execution_count": 30,
     "metadata": {},
     "output_type": "execute_result"
    },
    {
     "data": {
      "text/plain": [
       "64"
      ]
     },
     "execution_count": 30,
     "metadata": {},
     "output_type": "execute_result"
    },
    {
     "data": {
      "text/plain": [
       "139"
      ]
     },
     "execution_count": 30,
     "metadata": {},
     "output_type": "execute_result"
    },
    {
     "data": {
      "text/plain": [
       "154"
      ]
     },
     "execution_count": 30,
     "metadata": {},
     "output_type": "execute_result"
    }
   ],
   "source": [
    "matrix_a = [\n",
    "    [1, 2, 3],\n",
    "    [4, 5, 6],\n",
    "]\n",
    "\n",
    "matrix_b = [\n",
    "    [7, 8],\n",
    "    [9, 10],\n",
    "    [11, 12]\n",
    "]\n",
    "\n",
    "\n",
    "def get_row(matrix, i):\n",
    "  return matrix[i]\n",
    "\n",
    "\n",
    "def get_col(matrix, j):\n",
    "  return [row[j] for row in matrix]\n",
    "\n",
    "\n",
    "def dot_product(row, col):\n",
    "  sigma = 0\n",
    "  for i in range(len(row)):\n",
    "    el1 = row[i]\n",
    "    el2 = col[i]\n",
    "    sigma += el1 * el2\n",
    "  return sigma\n",
    "\n",
    "\n",
    "# testing\n",
    "get_row(matrix_a, 0)\n",
    "get_col(matrix_a, 0)\n",
    "dot_product(get_row(matrix_a, 0), get_col(matrix_b, 0))  # 58\n",
    "dot_product(get_row(matrix_a, 0), get_col(matrix_b, 1))  # 164\n",
    "dot_product(get_row(matrix_a, 1), get_col(matrix_b, 0))  # 139\n",
    "dot_product(get_row(matrix_a, 1), get_col(matrix_b, 1))  # 154"
   ]
  },
  {
   "cell_type": "code",
   "execution_count": 31,
   "metadata": {},
   "outputs": [
    {
     "data": {
      "text/plain": [
       "[[0, 0], [0, 0]]"
      ]
     },
     "execution_count": 31,
     "metadata": {},
     "output_type": "execute_result"
    }
   ],
   "source": [
    "num_rows = len(matrix_a)\n",
    "num_cols = len(matrix_b[0])\n",
    "\n",
    "ans_matrix = [[\n",
    "    0 for j in range(num_cols)\n",
    "] for i in range(num_rows)]\n",
    "\n",
    "ans_matrix"
   ]
  },
  {
   "cell_type": "code",
   "execution_count": 32,
   "metadata": {},
   "outputs": [
    {
     "data": {
      "text/plain": [
       "[[58, 64], [139, 154]]"
      ]
     },
     "execution_count": 32,
     "metadata": {},
     "output_type": "execute_result"
    }
   ],
   "source": [
    "for i in range(num_rows):\n",
    "  for j in range(num_cols):\n",
    "    i_row = get_row(matrix_a, i)\n",
    "    j_col = get_col(matrix_b, j)\n",
    "    sigma = dot_product(i_row, j_col)\n",
    "    ans_matrix[i][j] = sigma\n",
    "\n",
    "ans_matrix"
   ]
  },
  {
   "cell_type": "markdown",
   "metadata": {},
   "source": [
    "### vector/dot product (this involves lists, not matrices)\n",
    "\n",
    "sum of element wise products\n",
    "\n",
    "v1 = [1, 2, 3]\n",
    "\n",
    "v2 = [10, 10, 5]\n",
    "\n",
    "ans = 1 * 10 + 2 * 10 + 3 * 5"
   ]
  },
  {
   "cell_type": "code",
   "execution_count": 147,
   "metadata": {},
   "outputs": [
    {
     "name": "stdout",
     "output_type": "stream",
     "text": [
      "sigma=45\n"
     ]
    }
   ],
   "source": [
    "v1 = [1, 2, 3]\n",
    "v2 = [10, 10, 5]\n",
    "n = len(v1)\n",
    "\n",
    "sigma = 0\n",
    "for i in range(n):\n",
    "  el1 = v1[i]\n",
    "  el2 = v2[i]\n",
    "  sigma += el1 * el2\n",
    "\n",
    "print(f'{sigma=}')"
   ]
  },
  {
   "cell_type": "markdown",
   "metadata": {},
   "source": [
    "### generate an identity matrix"
   ]
  },
  {
   "cell_type": "code",
   "execution_count": 17,
   "metadata": {},
   "outputs": [
    {
     "data": {
      "text/plain": [
       "[['1', '0', '0'], ['0', '1', '0'], ['0', '0', '1']]"
      ]
     },
     "execution_count": 17,
     "metadata": {},
     "output_type": "execute_result"
    },
    {
     "name": "stdout",
     "output_type": "stream",
     "text": [
      "1,0,0\n",
      "0,1,0\n",
      "0,0,1\n"
     ]
    }
   ],
   "source": [
    "n = 3\n",
    "\n",
    "ans_matrix = [[\n",
    "    '0' for j in range(n)\n",
    "] for i in range(n)]\n",
    "\n",
    "for i in range(n):\n",
    "  for j in range(n):\n",
    "    if i == j:\n",
    "      ans_matrix[i][j] = '1'\n",
    "\n",
    "ans_matrix\n",
    "\n",
    "# printing ans_matrix\n",
    "for row in ans_matrix:\n",
    "  print(','.join(row))"
   ]
  },
  {
   "cell_type": "code",
   "execution_count": 20,
   "metadata": {},
   "outputs": [
    {
     "data": {
      "text/plain": [
       "[[1, 0, 0], [0, 1, 0], [0, 0, 1]]"
      ]
     },
     "execution_count": 20,
     "metadata": {},
     "output_type": "execute_result"
    },
    {
     "name": "stdout",
     "output_type": "stream",
     "text": [
      "1,0,0\n",
      "0,1,0\n",
      "0,0,1\n"
     ]
    }
   ],
   "source": [
    "n = 3\n",
    "\n",
    "ans_matrix = [[\n",
    "    0 for j in range(n)\n",
    "] for i in range(n)]\n",
    "\n",
    "for i in range(n):\n",
    "  for j in range(n):\n",
    "    if i == j:\n",
    "      ans_matrix[i][j] = 1\n",
    "\n",
    "ans_matrix\n",
    "\n",
    "# printing ans_matrix\n",
    "for row in ans_matrix:\n",
    "  row = list(map(str, row))  # map all elems to str elems\n",
    "  print(','.join(row))"
   ]
  },
  {
   "cell_type": "markdown",
   "metadata": {},
   "source": [
    "### magic sq. ques"
   ]
  },
  {
   "cell_type": "markdown",
   "metadata": {},
   "source": [
    "4 9 2 | 15 <- 🚨\n",
    "3 5 7 | 15\n",
    "8 1 6 | 15\n",
    "------\n",
    "15, 15, 15\n",
    "\n",
    "diag 1: 4,5,6 -> 15 <- 🚨\n",
    "diag 2: 2,5,8 -> 15\n",
    "\n",
    "rows #3, cols #3, diags #2 (n + n + 2 values; n = size of mat)\n",
    "\n",
    "15 == 15 == 15 == ... == 15 for all 2n + 2 values: it's a magic sq."
   ]
  },
  {
   "cell_type": "code",
   "execution_count": 35,
   "metadata": {},
   "outputs": [],
   "source": [
    "matrix = [\n",
    "    [4, 9, 2],\n",
    "    [3, 5, 7],\n",
    "    [8, 1, 6],\n",
    "]"
   ]
  },
  {
   "cell_type": "markdown",
   "metadata": {},
   "source": [
    "approach:\n",
    "1. calc n\n",
    "2. row_sums [15,15,15]\n",
    "3. col_sums [15,15,15]\n",
    "4. d1 [4,5,6], d2 [2,5,8]\n",
    "5. d1_sum (15), d2_sum (15)\n",
    "6. make check1, check2, check3 = False\n",
    "7. do 3 if statements and make check1, check2, check3 = True accordingly\n",
    "   1. check1: row_sums == col col_sums\n",
    "   2. check2: d1_sum == d2_sum\n",
    "   3. check3: d1_sum == 0th elem of row_sums (row_sums[0])\n",
    "8. if all checks passed"
   ]
  },
  {
   "cell_type": "code",
   "execution_count": 36,
   "metadata": {},
   "outputs": [
    {
     "name": "stdout",
     "output_type": "stream",
     "text": [
      "row_sums=[15, 15, 15]\n",
      "cols_sums=[15, 15, 15]\n",
      "d1=[4, 5, 6]\n",
      "d2=[2, 5, 8]\n",
      "this is a magic sq.\n"
     ]
    }
   ],
   "source": [
    "num_rows = len(matrix)\n",
    "num_cols = len(matrix[0])\n",
    "\n",
    "row_sums = [sum(row) for row in matrix]\n",
    "print(f'{row_sums=}')\n",
    "\n",
    "cols_sums = []\n",
    "for j in range(num_cols):\n",
    "  col = [row[j] for row in matrix]\n",
    "  cols_sums.append(sum(col))\n",
    "print(f'{cols_sums=}')\n",
    "\n",
    "d1 = []\n",
    "for i in range(num_rows):\n",
    "  for j in range(num_cols):\n",
    "    if i == j:\n",
    "      d1.append(matrix[i][j])\n",
    "print(f'{d1=}')\n",
    "\n",
    "d2 = []\n",
    "for i in range(num_rows):\n",
    "  for j in range(num_cols):\n",
    "    j_off = (num_rows-1) - i\n",
    "    if j == j_off:\n",
    "      d2.append(matrix[i][j])\n",
    "print(f'{d2=}')\n",
    "\n",
    "d1_sum = sum(d1)\n",
    "d2_sum = sum(d2)\n",
    "\n",
    "check1 = False\n",
    "check2 = False\n",
    "check3 = False\n",
    "\n",
    "if row_sums == cols_sums:\n",
    "  check1 = True\n",
    "\n",
    "if d1_sum == d2_sum:\n",
    "  check2 = True\n",
    "\n",
    "if d1_sum == row_sums[0]:\n",
    "  check3 = True\n",
    "\n",
    "if check1 and check2 and check3:\n",
    "  print('this is a magic sq.')\n",
    "else:\n",
    "  print('NOT a magic sq.')"
   ]
  },
  {
   "cell_type": "markdown",
   "metadata": {},
   "source": [
    "# Dict"
   ]
  },
  {
   "cell_type": "code",
   "execution_count": 37,
   "metadata": {},
   "outputs": [],
   "source": [
    "marks = {\n",
    "    'rahul': 90,\n",
    "    'vidhatri': 70,\n",
    "    'sanika': 50\n",
    "}"
   ]
  },
  {
   "cell_type": "code",
   "execution_count": 41,
   "metadata": {},
   "outputs": [
    {
     "data": {
      "text/plain": [
       "0"
      ]
     },
     "execution_count": 41,
     "metadata": {},
     "output_type": "execute_result"
    },
    {
     "data": {
      "text/plain": [
       "{'rahul': 0, 'vidhatri': 70, 'sanika': 50, 'cmd': 99}"
      ]
     },
     "execution_count": 41,
     "metadata": {},
     "output_type": "execute_result"
    }
   ],
   "source": [
    "# get value for a key\n",
    "marks['rahul']\n",
    "\n",
    "# set/update value for a key\n",
    "marks['rahul'] = 0  # update already existing key\n",
    "marks['cmd'] = 99  # add a new key\n",
    "marks"
   ]
  },
  {
   "cell_type": "code",
   "execution_count": 44,
   "metadata": {},
   "outputs": [
    {
     "data": {
      "text/plain": [
       "dict_keys(['rahul', 'vidhatri', 'sanika', 'cmd'])"
      ]
     },
     "execution_count": 44,
     "metadata": {},
     "output_type": "execute_result"
    },
    {
     "data": {
      "text/plain": [
       "['rahul', 'vidhatri', 'sanika', 'cmd']"
      ]
     },
     "execution_count": 44,
     "metadata": {},
     "output_type": "execute_result"
    }
   ],
   "source": [
    "# get all keys\n",
    "marks.keys()  # 🚨 not a list\n",
    "\n",
    "list(marks.keys())  # it's a normal list, so enjoy many features like sort etc."
   ]
  },
  {
   "cell_type": "code",
   "execution_count": 49,
   "metadata": {},
   "outputs": [
    {
     "data": {
      "text/plain": [
       "dict_values([0, 70, 50, 99])"
      ]
     },
     "execution_count": 49,
     "metadata": {},
     "output_type": "execute_result"
    },
    {
     "data": {
      "text/plain": [
       "[0, 70, 50, 99]"
      ]
     },
     "execution_count": 49,
     "metadata": {},
     "output_type": "execute_result"
    }
   ],
   "source": [
    "# get all values\n",
    "marks.values()  # 🚨 not a list\n",
    "\n",
    "list(marks.values())"
   ]
  },
  {
   "cell_type": "code",
   "execution_count": 56,
   "metadata": {},
   "outputs": [
    {
     "data": {
      "text/plain": [
       "dict_items([('rahul', 0), ('vidhatri', 70), ('sanika', 50), ('cmd', 99)])"
      ]
     },
     "execution_count": 56,
     "metadata": {},
     "output_type": "execute_result"
    },
    {
     "data": {
      "text/plain": [
       "[('rahul', 0), ('vidhatri', 70), ('sanika', 50), ('cmd', 99)]"
      ]
     },
     "execution_count": 56,
     "metadata": {},
     "output_type": "execute_result"
    },
    {
     "data": {
      "text/plain": [
       "('rahul', 0)"
      ]
     },
     "execution_count": 56,
     "metadata": {},
     "output_type": "execute_result"
    }
   ],
   "source": [
    "# get all items\n",
    "marks.items()  # 🚨 not a list\n",
    "\n",
    "list(marks.items())\n",
    "\n",
    "list(marks.items())[0]"
   ]
  },
  {
   "cell_type": "code",
   "execution_count": 58,
   "metadata": {},
   "outputs": [
    {
     "name": "stdout",
     "output_type": "stream",
     "text": [
      "key='rahul', value=0\n",
      "key='vidhatri', value=70\n",
      "key='sanika', value=50\n",
      "key='cmd', value=99\n"
     ]
    }
   ],
   "source": [
    "# loop over all items\n",
    "\n",
    "for key, value in marks.items():\n",
    "  print(f'{key=}, {value=}')"
   ]
  },
  {
   "cell_type": "markdown",
   "metadata": {},
   "source": [
    "# naive search"
   ]
  },
  {
   "cell_type": "code",
   "execution_count": 16,
   "metadata": {},
   "outputs": [
    {
     "name": "stdout",
     "output_type": "stream",
     "text": [
      "0, L[i]=5\n",
      "1, L[i]=6\n",
      "2, L[i]=11\n",
      "3, L[i]=10\n",
      "4, L[i]=3\n",
      "value found at index: 4\n"
     ]
    }
   ],
   "source": [
    "L = [5, 6, 11, 10, 3, 1]\n",
    "value = 3\n",
    "\n",
    "for i in range(len(L)):\n",
    "  print(f'{i}, {L[i]=}')\n",
    "  if L[i] == value:\n",
    "    print(f'value found at index: {i}')\n",
    "    break"
   ]
  },
  {
   "cell_type": "code",
   "execution_count": 20,
   "metadata": {},
   "outputs": [
    {
     "data": {
      "text/plain": [
       "-1"
      ]
     },
     "execution_count": 20,
     "metadata": {},
     "output_type": "execute_result"
    },
    {
     "data": {
      "text/plain": [
       "3"
      ]
     },
     "execution_count": 20,
     "metadata": {},
     "output_type": "execute_result"
    }
   ],
   "source": [
    "def naive_search(L, value):\n",
    "  for i in range(len(L)):\n",
    "    if L[i] == value:\n",
    "      return i\n",
    "  return -1\n",
    "\n",
    "\n",
    "naive_search(L, 19)\n",
    "naive_search(L, 10)"
   ]
  }
 ],
 "metadata": {
  "kernelspec": {
   "display_name": "Python 3",
   "language": "python",
   "name": "python3"
  },
  "language_info": {
   "codemirror_mode": {
    "name": "ipython",
    "version": 3
   },
   "file_extension": ".py",
   "mimetype": "text/x-python",
   "name": "python",
   "nbconvert_exporter": "python",
   "pygments_lexer": "ipython3",
   "version": "3.12.0"
  }
 },
 "nbformat": 4,
 "nbformat_minor": 2
}
